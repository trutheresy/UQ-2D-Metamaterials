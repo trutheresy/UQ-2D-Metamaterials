{
 "cells": [
  {
   "cell_type": "code",
   "execution_count": 1,
   "metadata": {
    "collapsed": true,
    "ExecuteTime": {
     "end_time": "2023-06-28T00:59:31.028675500Z",
     "start_time": "2023-06-28T00:59:31.022674500Z"
    }
   },
   "outputs": [],
   "source": [
    "import numpy as np\n",
    "from PIL import Image\n",
    "import matplotlib.pyplot as plt"
   ]
  },
  {
   "cell_type": "code",
   "execution_count": 21,
   "outputs": [
    {
     "data": {
      "text/plain": "<Figure size 640x480 with 1 Axes>",
      "image/png": "[encoded data removed]"
     },
     "metadata": {},
     "output_type": "display_data"
    }
   ],
   "source": [
    "# Define the size of the image\n",
    "size = 10\n",
    "\n",
    "# Generate a 5x5 random matrix\n",
    "quarter = np.random.rand(size//2, size//2)\n",
    "\n",
    "# Define boolean for shades\n",
    "shades = False\n",
    "\n",
    "# Define integer for symmetry type\n",
    "symmetry = 4  # Change this to 1, 2, or 4 to get different symmetry types\n",
    "\n",
    "if symmetry == 1:\n",
    "    # Only y-axis symmetry\n",
    "    image = np.hstack((quarter, np.flip(quarter, axis=1)))\n",
    "elif symmetry == 2:\n",
    "    # x and y-axis symmetry\n",
    "    half = np.hstack((quarter, np.flip(quarter, axis=1)))\n",
    "    image = np.vstack((half, np.flip(half, axis=0)))\n",
    "elif symmetry == 4:\n",
    "    # x, y and diagonal axis symmetry\n",
    "    quarter_1 = np.hstack((quarter, np.flip(quarter, axis=1)))\n",
    "    quarter_2 = np.flip(quarter_1, axis=0)\n",
    "    image = np.vstack((quarter_1, quarter_2))\n",
    "    image = 0.5 * (image + np.fliplr(image))\n",
    "\n",
    "if shades:\n",
    "    # Normalize to 0-255 for grayscale\n",
    "    image = (image * 255).astype(np.uint8)\n",
    "else:\n",
    "    # Only allow 0 and 255 as valid pixel values\n",
    "    image = np.where(image > 0.5, 255, 0).astype(np.uint8)\n",
    "\n",
    "# Display the image\n",
    "plt.imshow(image, cmap='gray')\n",
    "plt.show()\n"
   ],
   "metadata": {
    "collapsed": false,
    "ExecuteTime": {
     "end_time": "2023-06-21T19:33:20.507842Z",
     "start_time": "2023-06-21T19:33:20.385701100Z"
    }
   }
  },
  {
   "cell_type": "code",
   "execution_count": 22,
   "outputs": [
    {
     "data": {
      "text/plain": "<Figure size 640x480 with 2 Axes>",
      "image/png": "[encoded data removed]"
     },
     "metadata": {},
     "output_type": "display_data"
    }
   ],
   "source": [
    "# Convert image to numpy array\n",
    "image_array = np.array(image)\n",
    "\n",
    "# Compute Fourier Transform\n",
    "ft_image = np.fft.fft2(image_array)\n",
    "\n",
    "# Shift the zero-frequency component to the center of the spectrum\n",
    "ft_image_shifted = np.fft.fftshift(ft_image)\n",
    "\n",
    "# Compute magnitude spectrum\n",
    "magnitude_spectrum = np.abs(ft_image_shifted)\n",
    "\n",
    "# Display original image and magnitude spectrum\n",
    "plt.subplot(121), plt.imshow(image, cmap='gray')\n",
    "plt.title('Original Image'), plt.xticks([]), plt.yticks([])\n",
    "plt.subplot(122), plt.imshow(np.log(1 + magnitude_spectrum), cmap='gray')  # Adding 1 and taking log to reduce extreme values\n",
    "plt.title('Magnitude Spectrum'), plt.xticks([]), plt.yticks([])\n",
    "plt.show()\n"
   ],
   "metadata": {
    "collapsed": false,
    "ExecuteTime": {
     "end_time": "2023-06-21T19:33:24.640032800Z",
     "start_time": "2023-06-21T19:33:24.568836Z"
    }
   }
  },
  {
   "cell_type": "code",
   "execution_count": null,
   "outputs": [],
   "source": [],
   "metadata": {
    "collapsed": false
   }
  }
 ],
 "metadata": {
  "kernelspec": {
   "display_name": "Python 3",
   "language": "python",
   "name": "python3"
  },
  "language_info": {
   "codemirror_mode": {
    "name": "ipython",
    "version": 2
   },
   "file_extension": ".py",
   "mimetype": "text/x-python",
   "name": "python",
   "nbconvert_exporter": "python",
   "pygments_lexer": "ipython2",
   "version": "2.7.6"
  }
 },
 "nbformat": 4,
 "nbformat_minor": 0
}
