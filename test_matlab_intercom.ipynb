{
 "cells": [
  {
   "cell_type": "code",
   "execution_count": 1,
   "metadata": {
    "collapsed": true
   },
   "outputs": [],
   "source": [
    "import numpy\n",
    "import pandas\n",
    "import matlab.engine"
   ]
  },
  {
   "cell_type": "code",
   "execution_count": 2,
   "outputs": [],
   "source": [
    "E_soft = 200e6\n",
    "E_hard = 200e9\n",
    "rho_soft = 1e3\n",
    "rho_hard = 8e3\n",
    "poisson_soft = 0\n",
    "poisson_hard = 0.5"
   ],
   "metadata": {
    "collapsed": false
   }
  },
  {
   "cell_type": "code",
   "execution_count": 3,
   "outputs": [],
   "source": [
    "ml = matlab.engine.start_matlab()"
   ],
   "metadata": {
    "collapsed": false
   }
  },
  {
   "cell_type": "code",
   "execution_count": 4,
   "outputs": [
    {
     "ename": "MatlabExecutionError",
     "evalue": "\n  File E:\\Research\\Projects\\UQ 2D Metamaterials\\dispersion_data_custom_all_param.m, line 86, in dispersion_data_custom_all_param\nUndefined function 'convert_design' for input arguments of type 'double'.\n",
     "output_type": "error",
     "traceback": [
      "\u001B[1;31m---------------------------------------------------------------------------\u001B[0m",
      "\u001B[1;31mMatlabExecutionError\u001B[0m                      Traceback (most recent call last)",
      "Cell \u001B[1;32mIn[4], line 1\u001B[0m\n\u001B[1;32m----> 1\u001B[0m (eigenvalue_data, wavevector_data) \u001B[38;5;241m=\u001B[39m \u001B[43mml\u001B[49m\u001B[38;5;241;43m.\u001B[39;49m\u001B[43mdispersion_data_custom_all_param\u001B[49m\u001B[43m(\u001B[49m\u001B[43mE_soft\u001B[49m\u001B[43m,\u001B[49m\u001B[43m \u001B[49m\u001B[43mE_hard\u001B[49m\u001B[43m,\u001B[49m\u001B[43m \u001B[49m\u001B[43mrho_soft\u001B[49m\u001B[43m,\u001B[49m\u001B[43m \u001B[49m\u001B[43mrho_hard\u001B[49m\u001B[43m,\u001B[49m\u001B[43m \u001B[49m\u001B[43mpoisson_soft\u001B[49m\u001B[43m,\u001B[49m\u001B[43m \u001B[49m\u001B[43mpoisson_hard\u001B[49m\u001B[43m)\u001B[49m\n\u001B[0;32m      3\u001B[0m \u001B[38;5;66;03m# (eigenvalue_data, wavevector_data) = ml.dispersion_data_custom_all_param(\u001B[39;00m\n\u001B[0;32m      4\u001B[0m \u001B[38;5;66;03m#     E_soft=E_soft, E_hard=E_hard,\u001B[39;00m\n\u001B[0;32m      5\u001B[0m \u001B[38;5;66;03m#     rho_soft=rho_soft, rho_hard=rho_hard,\u001B[39;00m\n\u001B[0;32m      6\u001B[0m \u001B[38;5;66;03m#     poisson_soft=poisson_soft, poisson_hard=poisson_hard)\u001B[39;00m\n\u001B[0;32m      7\u001B[0m \u001B[38;5;28mprint\u001B[39m(eigenvalue_data\u001B[38;5;241m.\u001B[39mshape)\n",
      "File \u001B[1;32m~\\anaconda3\\lib\\site-packages\\matlab\\engine\\matlabengine.py:70\u001B[0m, in \u001B[0;36mMatlabFunc.__call__\u001B[1;34m(self, *args, **kwargs)\u001B[0m\n\u001B[0;32m     68\u001B[0m     \u001B[38;5;28;01mreturn\u001B[39;00m FutureResult(\u001B[38;5;28mself\u001B[39m\u001B[38;5;241m.\u001B[39m_engine(), future, nargs, _stdout, _stderr, feval\u001B[38;5;241m=\u001B[39m\u001B[38;5;28;01mTrue\u001B[39;00m)\n\u001B[0;32m     69\u001B[0m \u001B[38;5;28;01melse\u001B[39;00m:\n\u001B[1;32m---> 70\u001B[0m     \u001B[38;5;28;01mreturn\u001B[39;00m \u001B[43mFutureResult\u001B[49m\u001B[43m(\u001B[49m\u001B[38;5;28;43mself\u001B[39;49m\u001B[38;5;241;43m.\u001B[39;49m\u001B[43m_engine\u001B[49m\u001B[43m(\u001B[49m\u001B[43m)\u001B[49m\u001B[43m,\u001B[49m\u001B[43m \u001B[49m\u001B[43mfuture\u001B[49m\u001B[43m,\u001B[49m\u001B[43m \u001B[49m\u001B[43mnargs\u001B[49m\u001B[43m,\u001B[49m\u001B[43m \u001B[49m\u001B[43m_stdout\u001B[49m\u001B[43m,\u001B[49m\n\u001B[0;32m     71\u001B[0m \u001B[43m                        \u001B[49m\u001B[43m_stderr\u001B[49m\u001B[43m,\u001B[49m\u001B[43m \u001B[49m\u001B[43mfeval\u001B[49m\u001B[38;5;241;43m=\u001B[39;49m\u001B[38;5;28;43;01mTrue\u001B[39;49;00m\u001B[43m)\u001B[49m\u001B[38;5;241;43m.\u001B[39;49m\u001B[43mresult\u001B[49m\u001B[43m(\u001B[49m\u001B[43m)\u001B[49m\n",
      "File \u001B[1;32m~\\anaconda3\\lib\\site-packages\\matlab\\engine\\futureresult.py:67\u001B[0m, in \u001B[0;36mFutureResult.result\u001B[1;34m(self, timeout)\u001B[0m\n\u001B[0;32m     64\u001B[0m     \u001B[38;5;28;01mif\u001B[39;00m timeout \u001B[38;5;241m<\u001B[39m \u001B[38;5;241m0\u001B[39m:\n\u001B[0;32m     65\u001B[0m         \u001B[38;5;28;01mraise\u001B[39;00m \u001B[38;5;167;01mTypeError\u001B[39;00m(pythonengine\u001B[38;5;241m.\u001B[39mgetMessage(\u001B[38;5;124m'\u001B[39m\u001B[38;5;124mTimeoutCannotBeNegative\u001B[39m\u001B[38;5;124m'\u001B[39m))\n\u001B[1;32m---> 67\u001B[0m \u001B[38;5;28;01mreturn\u001B[39;00m \u001B[38;5;28;43mself\u001B[39;49m\u001B[38;5;241;43m.\u001B[39;49m\u001B[43m__future\u001B[49m\u001B[38;5;241;43m.\u001B[39;49m\u001B[43mresult\u001B[49m\u001B[43m(\u001B[49m\u001B[43mtimeout\u001B[49m\u001B[43m)\u001B[49m\n",
      "File \u001B[1;32m~\\anaconda3\\lib\\site-packages\\matlab\\engine\\fevalfuture.py:82\u001B[0m, in \u001B[0;36mFevalFuture.result\u001B[1;34m(self, timeout)\u001B[0m\n\u001B[0;32m     79\u001B[0m \u001B[38;5;28;01mif\u001B[39;00m \u001B[38;5;129;01mnot\u001B[39;00m result_ready:\n\u001B[0;32m     80\u001B[0m     \u001B[38;5;28;01mraise\u001B[39;00m \u001B[38;5;167;01mTimeoutError\u001B[39;00m(pythonengine\u001B[38;5;241m.\u001B[39mgetMessage(\u001B[38;5;124m'\u001B[39m\u001B[38;5;124mMatlabFunctionTimeout\u001B[39m\u001B[38;5;124m'\u001B[39m))\n\u001B[1;32m---> 82\u001B[0m \u001B[38;5;28mself\u001B[39m\u001B[38;5;241m.\u001B[39m_result \u001B[38;5;241m=\u001B[39m \u001B[43mpythonengine\u001B[49m\u001B[38;5;241;43m.\u001B[39;49m\u001B[43mgetFEvalResult\u001B[49m\u001B[43m(\u001B[49m\u001B[38;5;28;43mself\u001B[39;49m\u001B[38;5;241;43m.\u001B[39;49m\u001B[43m_future\u001B[49m\u001B[43m,\u001B[49m\u001B[38;5;28;43mself\u001B[39;49m\u001B[38;5;241;43m.\u001B[39;49m\u001B[43m_nargout\u001B[49m\u001B[43m,\u001B[49m\u001B[43m \u001B[49m\u001B[38;5;28;43;01mNone\u001B[39;49;00m\u001B[43m,\u001B[49m\u001B[43m \u001B[49m\u001B[43mout\u001B[49m\u001B[38;5;241;43m=\u001B[39;49m\u001B[38;5;28;43mself\u001B[39;49m\u001B[38;5;241;43m.\u001B[39;49m\u001B[43m_out\u001B[49m\u001B[43m,\u001B[49m\u001B[43m \u001B[49m\u001B[43merr\u001B[49m\u001B[38;5;241;43m=\u001B[39;49m\u001B[38;5;28;43mself\u001B[39;49m\u001B[38;5;241;43m.\u001B[39;49m\u001B[43m_err\u001B[49m\u001B[43m)\u001B[49m\n\u001B[0;32m     83\u001B[0m \u001B[38;5;28mself\u001B[39m\u001B[38;5;241m.\u001B[39m_retrieved \u001B[38;5;241m=\u001B[39m \u001B[38;5;28;01mTrue\u001B[39;00m\n\u001B[0;32m     84\u001B[0m \u001B[38;5;28;01mreturn\u001B[39;00m \u001B[38;5;28mself\u001B[39m\u001B[38;5;241m.\u001B[39m_result\n",
      "\u001B[1;31mMatlabExecutionError\u001B[0m: \n  File E:\\Research\\Projects\\UQ 2D Metamaterials\\dispersion_data_custom_all_param.m, line 86, in dispersion_data_custom_all_param\nUndefined function 'convert_design' for input arguments of type 'double'.\n"
     ]
    }
   ],
   "source": [
    "(eigenvalue_data, wavevector_data) = ml.dispersion_data_custom_all_param(E_soft, E_hard, rho_soft, rho_hard, poisson_soft, poisson_hard)\n",
    "\n",
    "# (eigenvalue_data, wavevector_data) = ml.dispersion_data_custom_all_param(\n",
    "#     E_soft=E_soft, E_hard=E_hard,\n",
    "#     rho_soft=rho_soft, rho_hard=rho_hard,\n",
    "#     poisson_soft=poisson_soft, poisson_hard=poisson_hard)\n",
    "print(eigenvalue_data.shape)\n",
    "print(wavevector_data.shape)"
   ],
   "metadata": {
    "collapsed": false
   }
  },
  {
   "cell_type": "code",
   "execution_count": null,
   "outputs": [],
   "source": [
    "ml.quit()"
   ],
   "metadata": {
    "collapsed": false
   }
  }
 ],
 "metadata": {
  "kernelspec": {
   "display_name": "Python 3",
   "language": "python",
   "name": "python3"
  },
  "language_info": {
   "codemirror_mode": {
    "name": "ipython",
    "version": 2
   },
   "file_extension": ".py",
   "mimetype": "text/x-python",
   "name": "python",
   "nbconvert_exporter": "python",
   "pygments_lexer": "ipython2",
   "version": "2.7.6"
  }
 },
 "nbformat": 4,
 "nbformat_minor": 0
}
