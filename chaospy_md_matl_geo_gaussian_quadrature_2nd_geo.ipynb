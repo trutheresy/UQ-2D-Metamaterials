{
 "cells": [
  {
   "cell_type": "code",
   "execution_count": 1,
   "metadata": {
    "collapsed": true,
    "ExecuteTime": {
     "end_time": "2024-01-03T02:43:08.960218300Z",
     "start_time": "2024-01-03T02:43:08.644832200Z"
    }
   },
   "outputs": [],
   "source": [
    "import numpy as np\n",
    "import pandas as pd\n",
    "import matplotlib.pyplot as plt\n",
    "import matplotlib.ticker as ticker\n",
    "from matplotlib.ticker import LinearLocator, FormatStrFormatter\n",
    "from mpl_toolkits.mplot3d import Axes3D\n",
    "import matplotlib.gridspec as gridspec\n",
    "from scipy.io import loadmat, savemat\n",
    "from scipy.stats import gaussian_kde\n",
    "import chaospy as cp\n",
    "import numpoly\n",
    "import seaborn as sns"
   ]
  },
  {
   "cell_type": "code",
   "execution_count": 2,
   "outputs": [],
   "source": [
    "# Chaospy RULE VALIDITY CHECK FUNCTION\n",
    "# Highly likely some rules in chaospy are not properly implemented and buggy\n",
    "def check_quadrature_rules(joint_distribution, rules=None, orders=[1, 2], unity_tol = 1e-4, weight_ratio = 1e4):\n",
    "    \"\"\"\n",
    "    Perform checks for quadrature rules on given joint distribution for specified orders.\n",
    "\n",
    "    :param joint_distribution: A joint probability distribution created using chaospy.\n",
    "    :param rules: List of quadrature rules expressed as strings. Defaults to the specified list of rules.\n",
    "    :param orders: List of orders for sparse grids. Defaults to [1, 2].\n",
    "    \"\"\"\n",
    "    # Default list of rules, if not provided\n",
    "    if rules is None:\n",
    "        rules = [\n",
    "            \"clenshaw_curtis\", \"fejer_1\", \"fejer_2\", \"gaussian\",\n",
    "            \"legendre\", \"lobatto\", \"kronrod\", \"patterson\",\n",
    "            \"radau\", \"leja\", \"newton_cotes\", \"genz_keister_16\",\n",
    "            \"genz_keister_18\", \"genz_keister_22\", \"genz_keister_24\"\n",
    "        ]\n",
    "\n",
    "    # Dictionary to store valid rules for each order\n",
    "    valid_rules_dict = {}\n",
    "\n",
    "    # Loop over the orders and rules and generate quadrature weights\n",
    "    for order in orders:\n",
    "        print(f\"\\nOrder: {order}\")\n",
    "        valid_rules = []\n",
    "        nan_weight_rules = []\n",
    "        negative_weight_rules = []\n",
    "        sum_weight_rules = []\n",
    "        high_ratio_rules = []\n",
    "\n",
    "        for rule in rules:\n",
    "            try:\n",
    "                nodes, weights = cp.generate_quadrature(order, dist=joint_distribution, rule=rule)\n",
    "\n",
    "                # Check for nan weights\n",
    "                if np.any(np.isnan(weights)):\n",
    "                    nan_weight_rules.append(rule)\n",
    "                    continue  # Skip to the next iteration\n",
    "\n",
    "                # Check non-negativity\n",
    "                if any(weight < 0 for weight in weights):\n",
    "                    negative_weight_rules.append(rule)\n",
    "                    continue  # Skip to the next iteration\n",
    "\n",
    "                # Check sum of weights\n",
    "                if not np.isclose(sum(weights), 1, rtol=unity_tol):\n",
    "                    sum_weight_rules.append(rule)\n",
    "                    continue  # Skip to the next iteration\n",
    "\n",
    "                # Check ratio of max to min weights\n",
    "                min_weight = min(weights)\n",
    "                if min_weight == 0 or max(weights) / min_weight > weight_ratio:\n",
    "                    high_ratio_rules.append(rule)\n",
    "                    continue  # Skip to the next iteration\n",
    "\n",
    "                # If all checks are passed, append the rule to the valid_rules list\n",
    "                valid_rules.append(rule)\n",
    "\n",
    "            except Exception as e:\n",
    "                # Optionally, handle exceptions if needed\n",
    "                print(f\"Error with rule {rule}: {e}\")  # For now, print the error and pass to the next iteration\n",
    "\n",
    "        # Print the lists for the current order\n",
    "        print(\"Valid Rules:\", valid_rules)\n",
    "        print(\"Rules with nan weights:\", nan_weight_rules)\n",
    "        print(\"Rules with negative weights:\", negative_weight_rules)\n",
    "        print(\"Rules where weights do not sum to 1:\", sum_weight_rules)\n",
    "        print(\"Rules with high max/min weight ratio:\", high_ratio_rules)\n",
    "\n",
    "        # Store the valid rules for the current order in the dictionary\n",
    "        valid_rules_dict[order] = valid_rules\n",
    "\n",
    "    return valid_rules_dict"
   ],
   "metadata": {
    "collapsed": false,
    "ExecuteTime": {
     "end_time": "2024-01-03T02:43:08.979221700Z",
     "start_time": "2024-01-03T02:43:08.963219600Z"
    }
   }
  },
  {
   "cell_type": "markdown",
   "source": [
    "GENERATE INPUT DISTRIBUTIONS"
   ],
   "metadata": {
    "collapsed": false
   }
  },
  {
   "cell_type": "code",
   "execution_count": 3,
   "metadata": {
    "ExecuteTime": {
     "end_time": "2024-01-03T02:43:09.024232600Z",
     "start_time": "2024-01-03T02:43:08.978221500Z"
    }
   },
   "outputs": [],
   "source": [
    "# Distribution Parameters\n",
    "np.random.seed(1)\n",
    "#hard material: steel\n",
    "#soft material: nylon 6\n",
    "\n",
    "E_s_mean = 200e6\n",
    "# E_s_range = 100e6\n",
    "E_s_std = E_s_mean*0.08\n",
    "E_h_mean = 200e9\n",
    "# E_h_range = 100e9\n",
    "E_h_std = E_h_mean*0.02\n",
    "\n",
    "rho_s_mean = 1e3\n",
    "#rho_s_range = 5e2\n",
    "rho_s_std = rho_s_mean*0.08\n",
    "rho_h_mean = 8e3\n",
    "#rho_h_range = 4e3\n",
    "rho_h_std = rho_h_mean*0.02\n",
    "\n",
    "pr_s_mean = 0.38\n",
    "#pr_s_range = 0.25\n",
    "pr_s_std = pr_s_mean*0.02\n",
    "pr_h_mean = 0.28\n",
    "#pr_h_range = 0.25\n",
    "pr_h_std = pr_h_mean*0.02\n",
    "\n",
    "geo_fp_mean = 0.025\n",
    "geo_fp_std = geo_fp_mean*0.08\n",
    "\n",
    "#Create Gaussian Distributions\n",
    "E_soft_dist = cp.Normal(E_s_mean, E_s_std)\n",
    "E_hard_dist = cp.Normal(E_h_mean, E_h_std)\n",
    "rho_soft_dist = cp.Normal(rho_s_mean, rho_s_std)\n",
    "rho_hard_dist = cp.Normal(rho_h_mean, rho_h_std)\n",
    "pr_soft_dist = cp.Normal(pr_s_mean, pr_s_std)\n",
    "pr_hard_dist = cp.Normal(pr_h_mean, pr_h_std)\n",
    "geo_fp_dist = cp.Normal(geo_fp_mean, geo_fp_std)\n",
    "joint_dist = cp.J(E_soft_dist, E_hard_dist, rho_soft_dist, rho_hard_dist, pr_soft_dist, pr_hard_dist, geo_fp_dist)"
   ]
  },
  {
   "cell_type": "code",
   "execution_count": 4,
   "outputs": [
    {
     "data": {
      "text/plain": "Text(0.5, 0.98, 'Histograms of 100 MC samples OF 6+1D Input Space - Truncated Gaussian Distributions')"
     },
     "execution_count": 4,
     "metadata": {},
     "output_type": "execute_result"
    },
    {
     "data": {
      "text/plain": "<Figure size 1200x600 with 8 Axes>",
      "image/png": "[encoded data removed]"
     },
     "metadata": {},
     "output_type": "display_data"
    }
   ],
   "source": [
    "fig, axes = plt.subplots(2, 4, figsize=(12, 6))\n",
    "\n",
    "# Plotting the distributions\n",
    "axes[0, 0].hist(E_soft_dist.sample(size=100), bins=50, density=True, color='skyblue', edgecolor='black')\n",
    "axes[0, 0].set_title('E_soft Distribution')\n",
    "\n",
    "axes[1, 0].hist(E_hard_dist.sample(size=100), bins=50, density=True, color='skyblue', edgecolor='black')\n",
    "axes[1, 0].set_title('E_hard Distribution')\n",
    "\n",
    "axes[0, 1].hist(rho_soft_dist.sample(size=100), bins=50, density=True, color='skyblue', edgecolor='black')\n",
    "axes[0, 1].set_title('rho_soft Distribution')\n",
    "\n",
    "axes[1, 1].hist(rho_hard_dist.sample(size=100), bins=50, density=True, color='skyblue', edgecolor='black')\n",
    "axes[1, 1].set_title('rho_hard Distribution')\n",
    "\n",
    "axes[0, 2].hist(pr_soft_dist.sample(size=100), bins=50, density=True, color='skyblue', edgecolor='black')\n",
    "axes[0, 2].set_title('pr_soft Distribution')\n",
    "\n",
    "axes[1, 2].hist(pr_hard_dist.sample(size=100), bins=50, density=True, color='skyblue', edgecolor='black')\n",
    "axes[1, 2].set_title('pr_hard Distribution')\n",
    "\n",
    "axes[0, 3].hist(geo_fp_dist.sample(size=100), bins=50, density=True, color='skyblue', edgecolor='black')\n",
    "axes[0, 3].set_title('geo_fp Distribution')\n",
    "\n",
    "title_str = 'Histograms of 100 MC samples OF 6+1D Input Space - Truncated Gaussian Distributions'\n",
    "fig.suptitle(title_str)"
   ],
   "metadata": {
    "collapsed": false,
    "ExecuteTime": {
     "end_time": "2024-01-03T02:43:10.297778400Z",
     "start_time": "2024-01-03T02:43:08.991224400Z"
    }
   }
  },
  {
   "cell_type": "code",
   "execution_count": 5,
   "outputs": [
    {
     "data": {
      "text/plain": "Text(0.5, 0.98, 'Histograms of 1000 MC samples OF 6+1D Input Space - Truncated Gaussian Distributions')"
     },
     "execution_count": 5,
     "metadata": {},
     "output_type": "execute_result"
    },
    {
     "data": {
      "text/plain": "<Figure size 1200x600 with 8 Axes>",
      "image/png": "[encoded data removed]"
     },
     "metadata": {},
     "output_type": "display_data"
    }
   ],
   "source": [
    "fig, axes = plt.subplots(2, 4, figsize=(12, 6))\n",
    "\n",
    "# Plotting the distributions\n",
    "axes[0, 0].hist(E_soft_dist.sample(size=1000), bins=50, density=True, color='skyblue', edgecolor='black')\n",
    "axes[0, 0].set_title('E_soft Distribution')\n",
    "\n",
    "axes[1, 0].hist(E_hard_dist.sample(size=1000), bins=50, density=True, color='skyblue', edgecolor='black')\n",
    "axes[1, 0].set_title('E_hard Distribution')\n",
    "\n",
    "axes[0, 1].hist(rho_soft_dist.sample(size=1000), bins=50, density=True, color='skyblue', edgecolor='black')\n",
    "axes[0, 1].set_title('rho_soft Distribution')\n",
    "\n",
    "axes[1, 1].hist(rho_hard_dist.sample(size=1000), bins=50, density=True, color='skyblue', edgecolor='black')\n",
    "axes[1, 1].set_title('rho_hard Distribution')\n",
    "\n",
    "axes[0, 2].hist(pr_soft_dist.sample(size=1000), bins=50, density=True, color='skyblue', edgecolor='black')\n",
    "axes[0, 2].set_title('pr_soft Distribution')\n",
    "\n",
    "axes[1, 2].hist(pr_hard_dist.sample(size=1000), bins=50, density=True, color='skyblue', edgecolor='black')\n",
    "axes[1, 2].set_title('pr_hard Distribution')\n",
    "\n",
    "axes[0, 3].hist(geo_fp_dist.sample(size=1000), bins=50, density=True, color='skyblue', edgecolor='black')\n",
    "axes[0, 3].set_title('geo_fp Distribution')\n",
    "\n",
    "title_str = 'Histograms of 1000 MC samples OF 6+1D Input Space - Truncated Gaussian Distributions'\n",
    "fig.suptitle(title_str)"
   ],
   "metadata": {
    "collapsed": false,
    "ExecuteTime": {
     "end_time": "2024-01-03T02:43:11.531122Z",
     "start_time": "2024-01-03T02:43:10.290777100Z"
    }
   }
  },
  {
   "cell_type": "code",
   "execution_count": 6,
   "outputs": [
    {
     "data": {
      "text/plain": "<Figure size 1200x600 with 8 Axes>",
      "image/png": "[encoded data removed]"
     },
     "metadata": {},
     "output_type": "display_data"
    }
   ],
   "source": [
    "plt.style.use('default')\n",
    "\n",
    "fig, axes = plt.subplots(2, 4, figsize=(12, 6))\n",
    "\n",
    "# Plotting the distributions\n",
    "axes[0, 0].hist(rho_soft_dist.sample(size=10000), bins=50, density=True, color='skyblue', edgecolor='black')\n",
    "axes[0, 0].set_title('rho_soft')\n",
    "axes[0, 0].set_facecolor('none')\n",
    "\n",
    "axes[1, 0].hist(rho_hard_dist.sample(size=10000), bins=50, density=True, color='skyblue', edgecolor='black')\n",
    "axes[1, 0].set_title('rho_hard')\n",
    "axes[1, 0].set_facecolor('none')\n",
    "\n",
    "axes[0, 1].hist(E_soft_dist.sample(size=10000), bins=50, density=True, color='skyblue', edgecolor='black')\n",
    "axes[0, 1].set_title('E_soft')\n",
    "axes[0, 1].set_facecolor('none')\n",
    "\n",
    "axes[1, 1].hist(E_hard_dist.sample(size=10000), bins=50, density=True, color='skyblue', edgecolor='black')\n",
    "axes[1, 1].set_title('E_hard')\n",
    "axes[1, 1].set_facecolor('none')\n",
    "\n",
    "axes[0, 2].hist(pr_soft_dist.sample(size=10000), bins=50, density=True, color='skyblue', edgecolor='black')\n",
    "axes[0, 2].set_title('pr_soft')\n",
    "axes[0, 2].set_facecolor('none')\n",
    "\n",
    "axes[1, 2].hist(pr_hard_dist.sample(size=10000), bins=50, density=True, color='skyblue', edgecolor='black')\n",
    "axes[1, 2].set_title('pr_hard')\n",
    "axes[1, 2].set_facecolor('none')\n",
    "\n",
    "axes[0, 3].hist(geo_fp_dist.sample(size=10000), bins=50, density=True, color='skyblue', edgecolor='black')\n",
    "axes[0, 3].set_title('geo_fp')\n",
    "axes[0, 3].set_facecolor('none')\n",
    "\n",
    "axes[1, 3].set_facecolor('none')\n",
    "\n",
    "# for ax in axes.ravel():\n",
    "#     xticks = ax.get_xticks()\n",
    "#     ax.set_xticks(xticks[::3])\n",
    "#\n",
    "#     yticks = ax.get_yticks()\n",
    "#     ax.set_yticks(yticks[::2])\n",
    "\n",
    "# title_str = 'Histograms of 10000 MC samples OF 6+1D Input Space - Truncated Gaussian Distributions'\n",
    "# fig.suptitle(title_str)"
   ],
   "metadata": {
    "collapsed": false,
    "ExecuteTime": {
     "end_time": "2024-01-03T02:43:12.458519400Z",
     "start_time": "2024-01-03T02:43:11.528121400Z"
    }
   }
  },
  {
   "cell_type": "code",
   "execution_count": 7,
   "outputs": [],
   "source": [
    "#Create truncated variants of Gaussian distributions\n",
    "E_soft_dist_trunc = cp.TruncNormal(lower=E_s_mean-4*E_s_std, upper=E_s_mean+4*E_s_std, mu=E_s_mean, sigma=E_s_std)\n",
    "E_hard_dist_trunc = cp.TruncNormal(lower=E_h_mean-4*E_h_std, upper=E_h_mean+4*E_h_std, mu=E_h_mean, sigma=E_h_std)\n",
    "rho_soft_dist_trunc = cp.TruncNormal(lower=rho_s_mean-4*rho_s_std, upper=rho_s_mean+4*rho_s_std, mu=rho_s_mean, sigma=rho_s_std)\n",
    "rho_hard_dist_trunc = cp.TruncNormal(lower=rho_h_mean-4*rho_h_std, upper=rho_h_mean+4*rho_h_std, mu=rho_h_mean, sigma=rho_h_std)\n",
    "pr_soft_dist_trunc = cp.TruncNormal(lower=pr_s_mean-4*pr_s_std, upper=pr_s_mean+4*pr_s_std, mu=pr_s_mean, sigma=pr_s_std)\n",
    "pr_hard_dist_trunc = cp.TruncNormal(lower=pr_h_mean-4*pr_h_std, upper=pr_h_mean+4*pr_h_std, mu=pr_h_mean, sigma=pr_h_std)\n",
    "geo_fp_dist_trunc = cp.TruncNormal(lower=geo_fp_mean-4*geo_fp_std, upper=geo_fp_mean+4*geo_fp_std, mu=geo_fp_mean, sigma=geo_fp_std)\n",
    "joint_dist_trunc = cp.J(E_soft_dist_trunc, E_hard_dist_trunc, rho_soft_dist_trunc, rho_hard_dist_trunc, pr_soft_dist_trunc, pr_hard_dist_trunc, geo_fp_dist_trunc)"
   ],
   "metadata": {
    "collapsed": false,
    "ExecuteTime": {
     "end_time": "2024-01-03T02:43:12.553047200Z",
     "start_time": "2024-01-03T02:43:12.452517400Z"
    }
   }
  },
  {
   "cell_type": "code",
   "execution_count": 8,
   "outputs": [
    {
     "data": {
      "text/plain": "Text(0.5, 1.0, 'geo_fp Distribution')"
     },
     "execution_count": 8,
     "metadata": {},
     "output_type": "execute_result"
    },
    {
     "data": {
      "text/plain": "<Figure size 1000x1200 with 8 Axes>",
      "image/png": "[encoded data removed]"
     },
     "metadata": {},
     "output_type": "display_data"
    }
   ],
   "source": [
    "# Create a 3x2 grid of subplots\n",
    "fig, axes = plt.subplots(4, 2, figsize=(10, 12))\n",
    "\n",
    "# Plotting the distributions\n",
    "axes[0, 0].hist(E_soft_dist_trunc.sample(size=1000), bins=50, density=True, color='skyblue', edgecolor='black')\n",
    "axes[0, 0].set_title('E_soft Distribution')\n",
    "\n",
    "axes[0, 1].hist(E_hard_dist_trunc.sample(size=1000), bins=50, density=True, color='skyblue', edgecolor='black')\n",
    "axes[0, 1].set_title('E_hard Distribution')\n",
    "\n",
    "axes[1, 0].hist(rho_soft_dist_trunc.sample(size=1000), bins=50, density=True, color='skyblue', edgecolor='black')\n",
    "axes[1, 0].set_title('rho_soft Distribution')\n",
    "\n",
    "axes[1, 1].hist(rho_hard_dist_trunc.sample(size=1000), bins=50, density=True, color='skyblue', edgecolor='black')\n",
    "axes[1, 1].set_title('rho_hard Distribution')\n",
    "\n",
    "axes[2, 0].hist(pr_soft_dist_trunc.sample(size=1000), bins=50, density=True, color='skyblue', edgecolor='black')\n",
    "axes[2, 0].set_title('pr_soft Distribution')\n",
    "\n",
    "axes[2, 1].hist(pr_hard_dist_trunc.sample(size=1000), bins=50, density=True, color='skyblue', edgecolor='black')\n",
    "axes[2, 1].set_title('pr_hard Distribution')\n",
    "\n",
    "axes[3, 0].hist(geo_fp_dist_trunc.sample(size=1000), bins=50, density=True, color='skyblue', edgecolor='black')\n",
    "axes[3, 0].set_title('geo_fp Distribution')"
   ],
   "metadata": {
    "collapsed": false,
    "ExecuteTime": {
     "end_time": "2024-01-03T02:43:13.533361400Z",
     "start_time": "2024-01-03T02:43:12.468521100Z"
    }
   }
  },
  {
   "cell_type": "code",
   "execution_count": 9,
   "outputs": [
    {
     "ename": "ValueError",
     "evalue": "operands could not be broadcast together with shapes (2,1) (4,1) ",
     "output_type": "error",
     "traceback": [
      "\u001B[1;31m---------------------------------------------------------------------------\u001B[0m",
      "\u001B[1;31mUnsupportedFeature\u001B[0m                        Traceback (most recent call last)",
      "File \u001B[1;32m~\\anaconda3\\lib\\site-packages\\chaospy\\recurrence\\stieltjes.py:68\u001B[0m, in \u001B[0;36mstieltjes\u001B[1;34m(order, dist, rule, tolerance, scaling, n_max)\u001B[0m\n\u001B[0;32m     67\u001B[0m \u001B[38;5;28;01mtry\u001B[39;00m:\n\u001B[1;32m---> 68\u001B[0m     \u001B[38;5;28;01mreturn\u001B[39;00m \u001B[43manalytical_stieltjes\u001B[49m\u001B[43m(\u001B[49m\u001B[43morder\u001B[49m\u001B[38;5;241;43m=\u001B[39;49m\u001B[43morder\u001B[49m\u001B[43m,\u001B[49m\u001B[43m \u001B[49m\u001B[43mdist\u001B[49m\u001B[38;5;241;43m=\u001B[39;49m\u001B[43mdist\u001B[49m\u001B[43m)\u001B[49m\n\u001B[0;32m     69\u001B[0m \u001B[38;5;28;01mexcept\u001B[39;00m \u001B[38;5;167;01mNotImplementedError\u001B[39;00m:\n",
      "File \u001B[1;32m~\\anaconda3\\lib\\site-packages\\chaospy\\recurrence\\stieltjes.py:165\u001B[0m, in \u001B[0;36manalytical_stieltjes\u001B[1;34m(order, dist, multiplier)\u001B[0m\n\u001B[0;32m    164\u001B[0m mom_order \u001B[38;5;241m=\u001B[39m mom_order\u001B[38;5;241m.\u001B[39mreshape(order \u001B[38;5;241m+\u001B[39m \u001B[38;5;241m1\u001B[39m, dimensions)\u001B[38;5;241m.\u001B[39mT\n\u001B[1;32m--> 165\u001B[0m coeffs \u001B[38;5;241m=\u001B[39m \u001B[43mdist\u001B[49m\u001B[38;5;241;43m.\u001B[39;49m\u001B[43mttr\u001B[49m\u001B[43m(\u001B[49m\u001B[43mmom_order\u001B[49m\u001B[43m)\u001B[49m\n\u001B[0;32m    166\u001B[0m coeffs[\u001B[38;5;241m1\u001B[39m, :, \u001B[38;5;241m0\u001B[39m] \u001B[38;5;241m=\u001B[39m \u001B[38;5;241m1.0\u001B[39m\n",
      "File \u001B[1;32m~\\anaconda3\\lib\\site-packages\\chaospy\\distributions\\baseclass\\distribution.py:721\u001B[0m, in \u001B[0;36mDistribution.ttr\u001B[1;34m(self, kloc)\u001B[0m\n\u001B[0;32m    720\u001B[0m     \u001B[38;5;28;01mfor\u001B[39;00m idx \u001B[38;5;129;01min\u001B[39;00m \u001B[38;5;28mrange\u001B[39m(\u001B[38;5;28mlen\u001B[39m(\u001B[38;5;28mself\u001B[39m)):\n\u001B[1;32m--> 721\u001B[0m         out[:, idx, idy] \u001B[38;5;241m=\u001B[39m \u001B[38;5;28;43mself\u001B[39;49m\u001B[38;5;241;43m.\u001B[39;49m\u001B[43m_get_ttr\u001B[49m\u001B[43m(\u001B[49m\u001B[43mkloc_\u001B[49m\u001B[43m[\u001B[49m\u001B[43midx\u001B[49m\u001B[43m]\u001B[49m\u001B[43m,\u001B[49m\u001B[43m \u001B[49m\u001B[43midx\u001B[49m\u001B[43m)\u001B[49m\n\u001B[0;32m    722\u001B[0m \u001B[38;5;28;01mreturn\u001B[39;00m out\u001B[38;5;241m.\u001B[39mreshape((\u001B[38;5;241m2\u001B[39m,) \u001B[38;5;241m+\u001B[39m shape)\n",
      "File \u001B[1;32m~\\anaconda3\\lib\\site-packages\\chaospy\\distributions\\baseclass\\distribution.py:732\u001B[0m, in \u001B[0;36mDistribution._get_ttr\u001B[1;34m(self, kdata, idx)\u001B[0m\n\u001B[0;32m    731\u001B[0m     parameters \u001B[38;5;241m=\u001B[39m \u001B[38;5;28mself\u001B[39m\u001B[38;5;241m.\u001B[39mget_parameters(idx, cache\u001B[38;5;241m=\u001B[39m{}, assert_numerical\u001B[38;5;241m=\u001B[39m\u001B[38;5;28;01mTrue\u001B[39;00m)\n\u001B[1;32m--> 732\u001B[0m alpha, beta \u001B[38;5;241m=\u001B[39m \u001B[38;5;28mself\u001B[39m\u001B[38;5;241m.\u001B[39m_ttr(kdata, \u001B[38;5;241m*\u001B[39m\u001B[38;5;241m*\u001B[39mparameters)\n\u001B[0;32m    733\u001B[0m \u001B[38;5;28;01massert\u001B[39;00m \u001B[38;5;129;01mnot\u001B[39;00m \u001B[38;5;28misinstance\u001B[39m(alpha, Distribution), (\u001B[38;5;28mself\u001B[39m, alpha)\n",
      "File \u001B[1;32m~\\anaconda3\\lib\\site-packages\\chaospy\\distributions\\baseclass\\shift_scale.py:122\u001B[0m, in \u001B[0;36mShiftScaleDistribution._ttr\u001B[1;34m(self, kloc, idx, dist, shift, scale)\u001B[0m\n\u001B[0;32m    121\u001B[0m \u001B[38;5;28;01mdef\u001B[39;00m \u001B[38;5;21m_ttr\u001B[39m(\u001B[38;5;28mself\u001B[39m, kloc, idx, dist, shift, scale):\n\u001B[1;32m--> 122\u001B[0m     coeff0, coeff1 \u001B[38;5;241m=\u001B[39m \u001B[43mdist\u001B[49m\u001B[38;5;241;43m.\u001B[39;49m\u001B[43m_get_ttr\u001B[49m\u001B[43m(\u001B[49m\u001B[43mkloc\u001B[49m\u001B[43m,\u001B[49m\u001B[43m \u001B[49m\u001B[43midx\u001B[49m\u001B[43m)\u001B[49m\n\u001B[0;32m    123\u001B[0m     coeff0 \u001B[38;5;241m=\u001B[39m coeff0 \u001B[38;5;241m*\u001B[39m scale \u001B[38;5;241m+\u001B[39m shift\n",
      "File \u001B[1;32m~\\anaconda3\\lib\\site-packages\\chaospy\\distributions\\baseclass\\distribution.py:732\u001B[0m, in \u001B[0;36mDistribution._get_ttr\u001B[1;34m(self, kdata, idx)\u001B[0m\n\u001B[0;32m    731\u001B[0m     parameters \u001B[38;5;241m=\u001B[39m \u001B[38;5;28mself\u001B[39m\u001B[38;5;241m.\u001B[39mget_parameters(idx, cache\u001B[38;5;241m=\u001B[39m{}, assert_numerical\u001B[38;5;241m=\u001B[39m\u001B[38;5;28;01mTrue\u001B[39;00m)\n\u001B[1;32m--> 732\u001B[0m alpha, beta \u001B[38;5;241m=\u001B[39m \u001B[38;5;28mself\u001B[39m\u001B[38;5;241m.\u001B[39m_ttr(kdata, \u001B[38;5;241m*\u001B[39m\u001B[38;5;241m*\u001B[39mparameters)\n\u001B[0;32m    733\u001B[0m \u001B[38;5;28;01massert\u001B[39;00m \u001B[38;5;129;01mnot\u001B[39;00m \u001B[38;5;28misinstance\u001B[39m(alpha, Distribution), (\u001B[38;5;28mself\u001B[39m, alpha)\n",
      "File \u001B[1;32m~\\anaconda3\\lib\\site-packages\\chaospy\\distributions\\baseclass\\simple.py:116\u001B[0m, in \u001B[0;36mSimpleDistribution._ttr\u001B[1;34m(self, kloc, **kwargs)\u001B[0m\n\u001B[0;32m    115\u001B[0m \u001B[38;5;250m\u001B[39m\u001B[38;5;124;03m\"\"\"Default TTR generator, throws error.\"\"\"\u001B[39;00m\n\u001B[1;32m--> 116\u001B[0m \u001B[38;5;28;01mraise\u001B[39;00m chaospy\u001B[38;5;241m.\u001B[39mUnsupportedFeature(\n\u001B[0;32m    117\u001B[0m     \u001B[38;5;124m\"\u001B[39m\u001B[38;5;132;01m%s\u001B[39;00m\u001B[38;5;124m: does not support analytical recurrence coefficients.\u001B[39m\u001B[38;5;124m\"\u001B[39m \u001B[38;5;241m%\u001B[39m \u001B[38;5;28mself\u001B[39m\n\u001B[0;32m    118\u001B[0m )\n",
      "\u001B[1;31mUnsupportedFeature\u001B[0m: trunc_normal(lower=136000000.0, upper=264000000.0, mu=200000000.0, sigma=16000000.0): does not support analytical recurrence coefficients.",
      "\nDuring handling of the above exception, another exception occurred:\n",
      "\u001B[1;31mValueError\u001B[0m                                Traceback (most recent call last)",
      "Cell \u001B[1;32mIn[9], line 9\u001B[0m\n\u001B[0;32m      6\u001B[0m quadrature_weights \u001B[38;5;241m=\u001B[39m {}\n\u001B[0;32m      7\u001B[0m \u001B[38;5;28;01mfor\u001B[39;00m d \u001B[38;5;129;01min\u001B[39;00m degrees:\n\u001B[0;32m      8\u001B[0m     \u001B[38;5;66;03m#nodes, weights = cp.generate_quadrature(d, joint_dist, rule='G')\u001B[39;00m\n\u001B[1;32m----> 9\u001B[0m     nodes, weights \u001B[38;5;241m=\u001B[39m \u001B[43mcp\u001B[49m\u001B[38;5;241;43m.\u001B[39;49m\u001B[43mgenerate_quadrature\u001B[49m\u001B[43m(\u001B[49m\u001B[43md\u001B[49m\u001B[43m,\u001B[49m\u001B[43m \u001B[49m\u001B[43mjoint_dist_trunc\u001B[49m\u001B[43m,\u001B[49m\u001B[43m \u001B[49m\u001B[43mrule\u001B[49m\u001B[38;5;241;43m=\u001B[39;49m\u001B[38;5;124;43m'\u001B[39;49m\u001B[38;5;124;43mG\u001B[39;49m\u001B[38;5;124;43m'\u001B[39;49m\u001B[43m)\u001B[49m\n\u001B[0;32m     10\u001B[0m     \u001B[38;5;66;03m#nodes, weights = cp.quadrature.legendre(order=d, lower=E_soft_dist.lower, upper=E_soft_dist.upper)\u001B[39;00m\n\u001B[0;32m     11\u001B[0m     quadrature_nodes[d] \u001B[38;5;241m=\u001B[39m nodes\n",
      "File \u001B[1;32m~\\anaconda3\\lib\\site-packages\\chaospy\\quadrature\\frontend.py:191\u001B[0m, in \u001B[0;36mgenerate_quadrature\u001B[1;34m(order, dist, rule, sparse, growth, segments, recurrence_algorithm, tolerance, scaling, n_max)\u001B[0m\n\u001B[0;32m    187\u001B[0m \u001B[38;5;28;01massert\u001B[39;00m \u001B[38;5;28mall\u001B[39m(\u001B[38;5;28misinstance\u001B[39m(rule_, \u001B[38;5;28mstr\u001B[39m) \u001B[38;5;28;01mfor\u001B[39;00m rule_ \u001B[38;5;129;01min\u001B[39;00m rule)\n\u001B[0;32m    189\u001B[0m order \u001B[38;5;241m=\u001B[39m numpy\u001B[38;5;241m.\u001B[39mones(\u001B[38;5;28mlen\u001B[39m(dist), dtype\u001B[38;5;241m=\u001B[39m\u001B[38;5;28mint\u001B[39m) \u001B[38;5;241m*\u001B[39m order\n\u001B[0;32m    190\u001B[0m abscissas, weights \u001B[38;5;241m=\u001B[39m \u001B[38;5;28mzip\u001B[39m(\n\u001B[1;32m--> 191\u001B[0m     \u001B[38;5;241m*\u001B[39m[\n\u001B[0;32m    192\u001B[0m         _generate_quadrature(\n\u001B[0;32m    193\u001B[0m             order\u001B[38;5;241m=\u001B[39morder_,\n\u001B[0;32m    194\u001B[0m             dist\u001B[38;5;241m=\u001B[39mdist_,\n\u001B[0;32m    195\u001B[0m             rule\u001B[38;5;241m=\u001B[39mrule_,\n\u001B[0;32m    196\u001B[0m             growth\u001B[38;5;241m=\u001B[39mgrowth,\n\u001B[0;32m    197\u001B[0m             segments\u001B[38;5;241m=\u001B[39msegments,\n\u001B[0;32m    198\u001B[0m             recurrence_algorithm\u001B[38;5;241m=\u001B[39mrecurrence_algorithm,\n\u001B[0;32m    199\u001B[0m             tolerance\u001B[38;5;241m=\u001B[39mtolerance,\n\u001B[0;32m    200\u001B[0m             scaling\u001B[38;5;241m=\u001B[39mscaling,\n\u001B[0;32m    201\u001B[0m             n_max\u001B[38;5;241m=\u001B[39mn_max,\n\u001B[0;32m    202\u001B[0m         )\n\u001B[0;32m    203\u001B[0m         \u001B[38;5;28;01mfor\u001B[39;00m order_, dist_, rule_ \u001B[38;5;129;01min\u001B[39;00m \u001B[38;5;28mzip\u001B[39m(order, dist, rule)\n\u001B[0;32m    204\u001B[0m     ]\n\u001B[0;32m    205\u001B[0m )\n\u001B[0;32m    206\u001B[0m abscissas \u001B[38;5;241m=\u001B[39m combine([abscissa\u001B[38;5;241m.\u001B[39mT \u001B[38;5;28;01mfor\u001B[39;00m abscissa \u001B[38;5;129;01min\u001B[39;00m abscissas])\u001B[38;5;241m.\u001B[39mT\n\u001B[0;32m    207\u001B[0m weights \u001B[38;5;241m=\u001B[39m numpy\u001B[38;5;241m.\u001B[39mprod(combine([weight\u001B[38;5;241m.\u001B[39mT \u001B[38;5;28;01mfor\u001B[39;00m weight \u001B[38;5;129;01min\u001B[39;00m weights]), \u001B[38;5;241m-\u001B[39m\u001B[38;5;241m1\u001B[39m)\n",
      "File \u001B[1;32m~\\anaconda3\\lib\\site-packages\\chaospy\\quadrature\\frontend.py:192\u001B[0m, in \u001B[0;36m<listcomp>\u001B[1;34m(.0)\u001B[0m\n\u001B[0;32m    187\u001B[0m \u001B[38;5;28;01massert\u001B[39;00m \u001B[38;5;28mall\u001B[39m(\u001B[38;5;28misinstance\u001B[39m(rule_, \u001B[38;5;28mstr\u001B[39m) \u001B[38;5;28;01mfor\u001B[39;00m rule_ \u001B[38;5;129;01min\u001B[39;00m rule)\n\u001B[0;32m    189\u001B[0m order \u001B[38;5;241m=\u001B[39m numpy\u001B[38;5;241m.\u001B[39mones(\u001B[38;5;28mlen\u001B[39m(dist), dtype\u001B[38;5;241m=\u001B[39m\u001B[38;5;28mint\u001B[39m) \u001B[38;5;241m*\u001B[39m order\n\u001B[0;32m    190\u001B[0m abscissas, weights \u001B[38;5;241m=\u001B[39m \u001B[38;5;28mzip\u001B[39m(\n\u001B[0;32m    191\u001B[0m     \u001B[38;5;241m*\u001B[39m[\n\u001B[1;32m--> 192\u001B[0m         \u001B[43m_generate_quadrature\u001B[49m\u001B[43m(\u001B[49m\n\u001B[0;32m    193\u001B[0m \u001B[43m            \u001B[49m\u001B[43morder\u001B[49m\u001B[38;5;241;43m=\u001B[39;49m\u001B[43morder_\u001B[49m\u001B[43m,\u001B[49m\n\u001B[0;32m    194\u001B[0m \u001B[43m            \u001B[49m\u001B[43mdist\u001B[49m\u001B[38;5;241;43m=\u001B[39;49m\u001B[43mdist_\u001B[49m\u001B[43m,\u001B[49m\n\u001B[0;32m    195\u001B[0m \u001B[43m            \u001B[49m\u001B[43mrule\u001B[49m\u001B[38;5;241;43m=\u001B[39;49m\u001B[43mrule_\u001B[49m\u001B[43m,\u001B[49m\n\u001B[0;32m    196\u001B[0m \u001B[43m            \u001B[49m\u001B[43mgrowth\u001B[49m\u001B[38;5;241;43m=\u001B[39;49m\u001B[43mgrowth\u001B[49m\u001B[43m,\u001B[49m\n\u001B[0;32m    197\u001B[0m \u001B[43m            \u001B[49m\u001B[43msegments\u001B[49m\u001B[38;5;241;43m=\u001B[39;49m\u001B[43msegments\u001B[49m\u001B[43m,\u001B[49m\n\u001B[0;32m    198\u001B[0m \u001B[43m            \u001B[49m\u001B[43mrecurrence_algorithm\u001B[49m\u001B[38;5;241;43m=\u001B[39;49m\u001B[43mrecurrence_algorithm\u001B[49m\u001B[43m,\u001B[49m\n\u001B[0;32m    199\u001B[0m \u001B[43m            \u001B[49m\u001B[43mtolerance\u001B[49m\u001B[38;5;241;43m=\u001B[39;49m\u001B[43mtolerance\u001B[49m\u001B[43m,\u001B[49m\n\u001B[0;32m    200\u001B[0m \u001B[43m            \u001B[49m\u001B[43mscaling\u001B[49m\u001B[38;5;241;43m=\u001B[39;49m\u001B[43mscaling\u001B[49m\u001B[43m,\u001B[49m\n\u001B[0;32m    201\u001B[0m \u001B[43m            \u001B[49m\u001B[43mn_max\u001B[49m\u001B[38;5;241;43m=\u001B[39;49m\u001B[43mn_max\u001B[49m\u001B[43m,\u001B[49m\n\u001B[0;32m    202\u001B[0m \u001B[43m        \u001B[49m\u001B[43m)\u001B[49m\n\u001B[0;32m    203\u001B[0m         \u001B[38;5;28;01mfor\u001B[39;00m order_, dist_, rule_ \u001B[38;5;129;01min\u001B[39;00m \u001B[38;5;28mzip\u001B[39m(order, dist, rule)\n\u001B[0;32m    204\u001B[0m     ]\n\u001B[0;32m    205\u001B[0m )\n\u001B[0;32m    206\u001B[0m abscissas \u001B[38;5;241m=\u001B[39m combine([abscissa\u001B[38;5;241m.\u001B[39mT \u001B[38;5;28;01mfor\u001B[39;00m abscissa \u001B[38;5;129;01min\u001B[39;00m abscissas])\u001B[38;5;241m.\u001B[39mT\n\u001B[0;32m    207\u001B[0m weights \u001B[38;5;241m=\u001B[39m numpy\u001B[38;5;241m.\u001B[39mprod(combine([weight\u001B[38;5;241m.\u001B[39mT \u001B[38;5;28;01mfor\u001B[39;00m weight \u001B[38;5;129;01min\u001B[39;00m weights]), \u001B[38;5;241m-\u001B[39m\u001B[38;5;241m1\u001B[39m)\n",
      "File \u001B[1;32m~\\anaconda3\\lib\\site-packages\\chaospy\\quadrature\\frontend.py:287\u001B[0m, in \u001B[0;36m_generate_quadrature\u001B[1;34m(order, dist, rule, **kwargs)\u001B[0m\n\u001B[0;32m    279\u001B[0m     parameters\u001B[38;5;241m.\u001B[39mupdate(\n\u001B[0;32m    280\u001B[0m         n_max\u001B[38;5;241m=\u001B[39mkwargs[\u001B[38;5;124m\"\u001B[39m\u001B[38;5;124mn_max\u001B[39m\u001B[38;5;124m\"\u001B[39m],\n\u001B[0;32m    281\u001B[0m         tolerance\u001B[38;5;241m=\u001B[39mkwargs[\u001B[38;5;124m\"\u001B[39m\u001B[38;5;124mtolerance\u001B[39m\u001B[38;5;124m\"\u001B[39m],\n\u001B[0;32m    282\u001B[0m         scaling\u001B[38;5;241m=\u001B[39mkwargs[\u001B[38;5;124m\"\u001B[39m\u001B[38;5;124mscaling\u001B[39m\u001B[38;5;124m\"\u001B[39m],\n\u001B[0;32m    283\u001B[0m         recurrence_algorithm\u001B[38;5;241m=\u001B[39mkwargs[\u001B[38;5;124m\"\u001B[39m\u001B[38;5;124mrecurrence_algorithm\u001B[39m\u001B[38;5;124m\"\u001B[39m],\n\u001B[0;32m    284\u001B[0m     )\n\u001B[0;32m    286\u001B[0m quad_function \u001B[38;5;241m=\u001B[39m chaospy\u001B[38;5;241m.\u001B[39mquadrature\u001B[38;5;241m.\u001B[39mINTEGRATION_COLLECTION[rule]\n\u001B[1;32m--> 287\u001B[0m abscissas, weights \u001B[38;5;241m=\u001B[39m quad_function(order, dist, \u001B[38;5;241m*\u001B[39m\u001B[38;5;241m*\u001B[39mparameters)\n\u001B[0;32m    288\u001B[0m \u001B[38;5;28;01mreturn\u001B[39;00m abscissas, weights\n",
      "File \u001B[1;32m~\\anaconda3\\lib\\site-packages\\chaospy\\quadrature\\gaussian.py:81\u001B[0m, in \u001B[0;36mgaussian\u001B[1;34m(order, dist, recurrence_algorithm, rule, tolerance, scaling, n_max)\u001B[0m\n\u001B[0;32m      7\u001B[0m \u001B[38;5;28;01mdef\u001B[39;00m \u001B[38;5;21mgaussian\u001B[39m(\n\u001B[0;32m      8\u001B[0m     order,\n\u001B[0;32m      9\u001B[0m     dist,\n\u001B[1;32m   (...)\u001B[0m\n\u001B[0;32m     14\u001B[0m     n_max\u001B[38;5;241m=\u001B[39m\u001B[38;5;241m5000\u001B[39m,\n\u001B[0;32m     15\u001B[0m ):\n\u001B[0;32m     16\u001B[0m \u001B[38;5;250m    \u001B[39m\u001B[38;5;124;03m\"\"\"\u001B[39;00m\n\u001B[0;32m     17\u001B[0m \u001B[38;5;124;03m    Create Gaussian quadrature nodes and weights.\u001B[39;00m\n\u001B[0;32m     18\u001B[0m \n\u001B[1;32m   (...)\u001B[0m\n\u001B[0;32m     79\u001B[0m \n\u001B[0;32m     80\u001B[0m \u001B[38;5;124;03m    \"\"\"\u001B[39;00m\n\u001B[1;32m---> 81\u001B[0m     coefficients \u001B[38;5;241m=\u001B[39m \u001B[43mchaospy\u001B[49m\u001B[38;5;241;43m.\u001B[39;49m\u001B[43mconstruct_recurrence_coefficients\u001B[49m\u001B[43m(\u001B[49m\n\u001B[0;32m     82\u001B[0m \u001B[43m        \u001B[49m\u001B[43morder\u001B[49m\u001B[38;5;241;43m=\u001B[39;49m\u001B[43morder\u001B[49m\u001B[43m,\u001B[49m\n\u001B[0;32m     83\u001B[0m \u001B[43m        \u001B[49m\u001B[43mdist\u001B[49m\u001B[38;5;241;43m=\u001B[39;49m\u001B[43mdist\u001B[49m\u001B[43m,\u001B[49m\n\u001B[0;32m     84\u001B[0m \u001B[43m        \u001B[49m\u001B[43mrecurrence_algorithm\u001B[49m\u001B[38;5;241;43m=\u001B[39;49m\u001B[43mrecurrence_algorithm\u001B[49m\u001B[43m,\u001B[49m\n\u001B[0;32m     85\u001B[0m \u001B[43m        \u001B[49m\u001B[43mrule\u001B[49m\u001B[38;5;241;43m=\u001B[39;49m\u001B[43mrule\u001B[49m\u001B[43m,\u001B[49m\n\u001B[0;32m     86\u001B[0m \u001B[43m        \u001B[49m\u001B[43mtolerance\u001B[49m\u001B[38;5;241;43m=\u001B[39;49m\u001B[43mtolerance\u001B[49m\u001B[43m,\u001B[49m\n\u001B[0;32m     87\u001B[0m \u001B[43m        \u001B[49m\u001B[43mscaling\u001B[49m\u001B[38;5;241;43m=\u001B[39;49m\u001B[43mscaling\u001B[49m\u001B[43m,\u001B[49m\n\u001B[0;32m     88\u001B[0m \u001B[43m        \u001B[49m\u001B[43mn_max\u001B[49m\u001B[38;5;241;43m=\u001B[39;49m\u001B[43mn_max\u001B[49m\u001B[43m,\u001B[49m\n\u001B[0;32m     89\u001B[0m \u001B[43m    \u001B[49m\u001B[43m)\u001B[49m\n\u001B[0;32m     90\u001B[0m     abscissas, weights \u001B[38;5;241m=\u001B[39m chaospy\u001B[38;5;241m.\u001B[39mcoefficients_to_quadrature(coefficients)\n\u001B[0;32m     91\u001B[0m     \u001B[38;5;28;01mreturn\u001B[39;00m combine_quadrature(abscissas, weights)\n",
      "File \u001B[1;32m~\\anaconda3\\lib\\site-packages\\chaospy\\recurrence\\frontend.py:117\u001B[0m, in \u001B[0;36mconstruct_recurrence_coefficients\u001B[1;34m(order, dist, recurrence_algorithm, rule, tolerance, scaling, n_max)\u001B[0m\n\u001B[0;32m    114\u001B[0m     coeffs \u001B[38;5;241m=\u001B[39m lanczos(order, dist, rule\u001B[38;5;241m=\u001B[39mrule, tolerance\u001B[38;5;241m=\u001B[39mtolerance)\n\u001B[0;32m    116\u001B[0m \u001B[38;5;28;01melif\u001B[39;00m recurrence_algorithm \u001B[38;5;241m==\u001B[39m \u001B[38;5;124m\"\u001B[39m\u001B[38;5;124mstieltjes\u001B[39m\u001B[38;5;124m\"\u001B[39m:\n\u001B[1;32m--> 117\u001B[0m     coeffs, _, _ \u001B[38;5;241m=\u001B[39m \u001B[43mstieltjes\u001B[49m\u001B[43m(\u001B[49m\u001B[43morder\u001B[49m\u001B[43m,\u001B[49m\u001B[43m \u001B[49m\u001B[43mdist\u001B[49m\u001B[43m,\u001B[49m\u001B[43m \u001B[49m\u001B[43mrule\u001B[49m\u001B[38;5;241;43m=\u001B[39;49m\u001B[43mrule\u001B[49m\u001B[43m,\u001B[49m\u001B[43m \u001B[49m\u001B[43mtolerance\u001B[49m\u001B[38;5;241;43m=\u001B[39;49m\u001B[43mtolerance\u001B[49m\u001B[43m)\u001B[49m\n\u001B[0;32m    119\u001B[0m \u001B[38;5;28;01mreturn\u001B[39;00m [coeffs\u001B[38;5;241m.\u001B[39mreshape(\u001B[38;5;241m2\u001B[39m, \u001B[38;5;28mint\u001B[39m(order) \u001B[38;5;241m+\u001B[39m \u001B[38;5;241m1\u001B[39m)]\n",
      "File \u001B[1;32m~\\anaconda3\\lib\\site-packages\\chaospy\\recurrence\\stieltjes.py:70\u001B[0m, in \u001B[0;36mstieltjes\u001B[1;34m(order, dist, rule, tolerance, scaling, n_max)\u001B[0m\n\u001B[0;32m     68\u001B[0m     \u001B[38;5;28;01mreturn\u001B[39;00m analytical_stieltjes(order\u001B[38;5;241m=\u001B[39morder, dist\u001B[38;5;241m=\u001B[39mdist)\n\u001B[0;32m     69\u001B[0m \u001B[38;5;28;01mexcept\u001B[39;00m \u001B[38;5;167;01mNotImplementedError\u001B[39;00m:\n\u001B[1;32m---> 70\u001B[0m     \u001B[38;5;28;01mreturn\u001B[39;00m \u001B[43mdiscretized_stieltjes\u001B[49m\u001B[43m(\u001B[49m\n\u001B[0;32m     71\u001B[0m \u001B[43m        \u001B[49m\u001B[43morder\u001B[49m\u001B[38;5;241;43m=\u001B[39;49m\u001B[43morder\u001B[49m\u001B[43m,\u001B[49m\n\u001B[0;32m     72\u001B[0m \u001B[43m        \u001B[49m\u001B[43mdist\u001B[49m\u001B[38;5;241;43m=\u001B[39;49m\u001B[43mdist\u001B[49m\u001B[43m,\u001B[49m\n\u001B[0;32m     73\u001B[0m \u001B[43m        \u001B[49m\u001B[43mrule\u001B[49m\u001B[38;5;241;43m=\u001B[39;49m\u001B[43mrule\u001B[49m\u001B[43m,\u001B[49m\n\u001B[0;32m     74\u001B[0m \u001B[43m        \u001B[49m\u001B[43mtolerance\u001B[49m\u001B[38;5;241;43m=\u001B[39;49m\u001B[43mtolerance\u001B[49m\u001B[43m,\u001B[49m\n\u001B[0;32m     75\u001B[0m \u001B[43m        \u001B[49m\u001B[43mscaling\u001B[49m\u001B[38;5;241;43m=\u001B[39;49m\u001B[43mscaling\u001B[49m\u001B[43m,\u001B[49m\n\u001B[0;32m     76\u001B[0m \u001B[43m        \u001B[49m\u001B[43mn_max\u001B[49m\u001B[38;5;241;43m=\u001B[39;49m\u001B[43mn_max\u001B[49m\u001B[43m,\u001B[49m\n\u001B[0;32m     77\u001B[0m \u001B[43m    \u001B[49m\u001B[43m)\u001B[49m\n",
      "File \u001B[1;32m~\\anaconda3\\lib\\site-packages\\chaospy\\recurrence\\stieltjes.py:147\u001B[0m, in \u001B[0;36mdiscretized_stieltjes\u001B[1;34m(order, dist, rule, tolerance, scaling, n_max)\u001B[0m\n\u001B[0;32m    145\u001B[0m coeffs[\u001B[38;5;241m0\u001B[39m, idx] \u001B[38;5;241m=\u001B[39m inner \u001B[38;5;241m/\u001B[39m norms[idx \u001B[38;5;241m+\u001B[39m \u001B[38;5;241m1\u001B[39m]\n\u001B[0;32m    146\u001B[0m coeffs[\u001B[38;5;241m1\u001B[39m, idx] \u001B[38;5;241m=\u001B[39m norms[idx \u001B[38;5;241m+\u001B[39m \u001B[38;5;241m1\u001B[39m] \u001B[38;5;241m/\u001B[39m norms[idx]\n\u001B[1;32m--> 147\u001B[0m orths[idx \u001B[38;5;241m+\u001B[39m \u001B[38;5;241m2\u001B[39m] \u001B[38;5;241m=\u001B[39m \u001B[43m(\u001B[49m\u001B[43mvar\u001B[49m\u001B[43m \u001B[49m\u001B[38;5;241;43m-\u001B[39;49m\u001B[43m \u001B[49m\u001B[43mcoeffs\u001B[49m\u001B[43m[\u001B[49m\u001B[38;5;241;43m0\u001B[39;49m\u001B[43m,\u001B[49m\u001B[43m \u001B[49m\u001B[43midx\u001B[49m\u001B[43m]\u001B[49m\u001B[43m)\u001B[49m\u001B[43m \u001B[49m\u001B[38;5;241;43m*\u001B[39;49m\u001B[43m \u001B[49m\u001B[43morths\u001B[49m\u001B[43m[\u001B[49m\u001B[43midx\u001B[49m\u001B[43m \u001B[49m\u001B[38;5;241;43m+\u001B[39;49m\u001B[43m \u001B[49m\u001B[38;5;241;43m1\u001B[39;49m\u001B[43m]\u001B[49m\u001B[43m \u001B[49m\u001B[38;5;241;43m-\u001B[39;49m\u001B[43m \u001B[49m\u001B[43morths\u001B[49m\u001B[43m[\u001B[49m\n\u001B[0;32m    148\u001B[0m \u001B[43m    \u001B[49m\u001B[43midx\u001B[49m\n\u001B[0;32m    149\u001B[0m \u001B[43m\u001B[49m\u001B[43m]\u001B[49m\u001B[43m \u001B[49m\u001B[38;5;241;43m*\u001B[39;49m\u001B[43m \u001B[49m\u001B[43mcoeffs\u001B[49m\u001B[43m[\u001B[49m\u001B[38;5;241;43m1\u001B[39;49m\u001B[43m,\u001B[49m\u001B[43m \u001B[49m\u001B[43midx\u001B[49m\u001B[43m]\u001B[49m\n\u001B[0;32m    150\u001B[0m norms[idx \u001B[38;5;241m+\u001B[39m \u001B[38;5;241m2\u001B[39m] \u001B[38;5;241m=\u001B[39m numpy\u001B[38;5;241m.\u001B[39msum(orths[idx \u001B[38;5;241m+\u001B[39m \u001B[38;5;241m2\u001B[39m](abscissas) \u001B[38;5;241m*\u001B[39m\u001B[38;5;241m*\u001B[39m \u001B[38;5;241m2\u001B[39m \u001B[38;5;241m*\u001B[39m weights)\n\u001B[0;32m    151\u001B[0m inner \u001B[38;5;241m=\u001B[39m numpy\u001B[38;5;241m.\u001B[39msum(abscissas \u001B[38;5;241m*\u001B[39m orths[idx \u001B[38;5;241m+\u001B[39m \u001B[38;5;241m2\u001B[39m](abscissas) \u001B[38;5;241m*\u001B[39m\u001B[38;5;241m*\u001B[39m \u001B[38;5;241m2\u001B[39m \u001B[38;5;241m*\u001B[39m weights)\n",
      "File \u001B[1;32m~\\anaconda3\\lib\\site-packages\\numpoly\\baseclass.py:242\u001B[0m, in \u001B[0;36mndpoly.__array_ufunc__\u001B[1;34m(self, ufunc, method, *inputs, **kwargs)\u001B[0m\n\u001B[0;32m    240\u001B[0m \u001B[38;5;28;01mif\u001B[39;00m ufunc \u001B[38;5;129;01mnot\u001B[39;00m \u001B[38;5;129;01min\u001B[39;00m numpoly\u001B[38;5;241m.\u001B[39mUFUNC_COLLECTION:\n\u001B[0;32m    241\u001B[0m     \u001B[38;5;28;01mraise\u001B[39;00m FeatureNotSupported(\u001B[38;5;124mf\u001B[39m\u001B[38;5;124m\"\u001B[39m\u001B[38;5;124mufunc \u001B[39m\u001B[38;5;124m'\u001B[39m\u001B[38;5;132;01m{\u001B[39;00mufunc\u001B[38;5;132;01m}\u001B[39;00m\u001B[38;5;124m'\u001B[39m\u001B[38;5;124m not supported.\u001B[39m\u001B[38;5;124m\"\u001B[39m)\n\u001B[1;32m--> 242\u001B[0m \u001B[38;5;28;01mreturn\u001B[39;00m numpoly\u001B[38;5;241m.\u001B[39mUFUNC_COLLECTION[ufunc](\u001B[38;5;241m*\u001B[39minputs, \u001B[38;5;241m*\u001B[39m\u001B[38;5;241m*\u001B[39mkwargs)\n",
      "File \u001B[1;32m~\\anaconda3\\lib\\site-packages\\numpoly\\array_function\\subtract.py:60\u001B[0m, in \u001B[0;36msubtract\u001B[1;34m(x1, x2, out, where, **kwargs)\u001B[0m\n\u001B[0;32m     12\u001B[0m \u001B[38;5;129m@implements\u001B[39m(numpy\u001B[38;5;241m.\u001B[39msubtract)\n\u001B[0;32m     13\u001B[0m \u001B[38;5;28;01mdef\u001B[39;00m \u001B[38;5;21msubtract\u001B[39m(\n\u001B[0;32m     14\u001B[0m     x1: PolyLike,\n\u001B[1;32m   (...)\u001B[0m\n\u001B[0;32m     18\u001B[0m     \u001B[38;5;241m*\u001B[39m\u001B[38;5;241m*\u001B[39mkwargs: Any,\n\u001B[0;32m     19\u001B[0m ) \u001B[38;5;241m-\u001B[39m\u001B[38;5;241m>\u001B[39m ndpoly:\n\u001B[0;32m     20\u001B[0m \u001B[38;5;250m    \u001B[39m\u001B[38;5;124;03m\"\"\"\u001B[39;00m\n\u001B[0;32m     21\u001B[0m \u001B[38;5;124;03m    Subtract arguments, element-wise.\u001B[39;00m\n\u001B[0;32m     22\u001B[0m \n\u001B[1;32m   (...)\u001B[0m\n\u001B[0;32m     58\u001B[0m \n\u001B[0;32m     59\u001B[0m \u001B[38;5;124;03m    \"\"\"\u001B[39;00m\n\u001B[1;32m---> 60\u001B[0m     \u001B[38;5;28;01mreturn\u001B[39;00m simple_dispatch(\n\u001B[0;32m     61\u001B[0m         numpy_func\u001B[38;5;241m=\u001B[39mnumpy\u001B[38;5;241m.\u001B[39msubtract,\n\u001B[0;32m     62\u001B[0m         inputs\u001B[38;5;241m=\u001B[39m(x1, x2),\n\u001B[0;32m     63\u001B[0m         out\u001B[38;5;241m=\u001B[39m\u001B[38;5;28;01mNone\u001B[39;00m \u001B[38;5;28;01mif\u001B[39;00m out \u001B[38;5;129;01mis\u001B[39;00m \u001B[38;5;28;01mNone\u001B[39;00m \u001B[38;5;28;01melse\u001B[39;00m (out,),\n\u001B[0;32m     64\u001B[0m         where\u001B[38;5;241m=\u001B[39mwhere,\n\u001B[0;32m     65\u001B[0m         \u001B[38;5;241m*\u001B[39m\u001B[38;5;241m*\u001B[39mkwargs,\n\u001B[0;32m     66\u001B[0m     )\n",
      "File \u001B[1;32m~\\anaconda3\\lib\\site-packages\\numpoly\\dispatch.py:84\u001B[0m, in \u001B[0;36msimple_dispatch\u001B[1;34m(numpy_func, inputs, out, **kwargs)\u001B[0m\n\u001B[0;32m     53\u001B[0m \u001B[38;5;28;01mdef\u001B[39;00m \u001B[38;5;21msimple_dispatch\u001B[39m(\n\u001B[0;32m     54\u001B[0m     numpy_func: Callable,\n\u001B[0;32m     55\u001B[0m     inputs: Sequence[Any],\n\u001B[0;32m     56\u001B[0m     out: Optional[Tuple[ndpoly, \u001B[38;5;241m.\u001B[39m\u001B[38;5;241m.\u001B[39m\u001B[38;5;241m.\u001B[39m]] \u001B[38;5;241m=\u001B[39m \u001B[38;5;28;01mNone\u001B[39;00m,\n\u001B[0;32m     57\u001B[0m     \u001B[38;5;241m*\u001B[39m\u001B[38;5;241m*\u001B[39mkwargs: Any,\n\u001B[0;32m     58\u001B[0m ) \u001B[38;5;241m-\u001B[39m\u001B[38;5;241m>\u001B[39m ndpoly:\n\u001B[0;32m     59\u001B[0m \u001B[38;5;250m    \u001B[39m\u001B[38;5;124;03m\"\"\"\u001B[39;00m\n\u001B[0;32m     60\u001B[0m \u001B[38;5;124;03m    Dispatch function between numpy and numpoly.\u001B[39;00m\n\u001B[0;32m     61\u001B[0m \n\u001B[1;32m   (...)\u001B[0m\n\u001B[0;32m     82\u001B[0m \n\u001B[0;32m     83\u001B[0m \u001B[38;5;124;03m    \"\"\"\u001B[39;00m\n\u001B[1;32m---> 84\u001B[0m     inputs \u001B[38;5;241m=\u001B[39m \u001B[43mnumpoly\u001B[49m\u001B[38;5;241;43m.\u001B[39;49m\u001B[43malign_polynomials\u001B[49m\u001B[43m(\u001B[49m\u001B[38;5;241;43m*\u001B[39;49m\u001B[43minputs\u001B[49m\u001B[43m)\u001B[49m\n\u001B[0;32m     85\u001B[0m     keys \u001B[38;5;241m=\u001B[39m (inputs[\u001B[38;5;241m0\u001B[39m] \u001B[38;5;28;01mif\u001B[39;00m out \u001B[38;5;129;01mis\u001B[39;00m \u001B[38;5;28;01mNone\u001B[39;00m \u001B[38;5;28;01melse\u001B[39;00m numpoly\u001B[38;5;241m.\u001B[39maspolynomial(out[\u001B[38;5;241m0\u001B[39m]))\u001B[38;5;241m.\u001B[39mkeys\n\u001B[0;32m     87\u001B[0m     tmp \u001B[38;5;241m=\u001B[39m numpy_func(\u001B[38;5;241m*\u001B[39m[poly\u001B[38;5;241m.\u001B[39mvalues[keys[\u001B[38;5;241m0\u001B[39m]] \u001B[38;5;28;01mfor\u001B[39;00m poly \u001B[38;5;129;01min\u001B[39;00m inputs], \u001B[38;5;241m*\u001B[39m\u001B[38;5;241m*\u001B[39mkwargs)\n",
      "File \u001B[1;32m~\\anaconda3\\lib\\site-packages\\numpoly\\align.py:47\u001B[0m, in \u001B[0;36malign_polynomials\u001B[1;34m(*polys)\u001B[0m\n\u001B[0;32m     45\u001B[0m polys \u001B[38;5;241m=\u001B[39m align_shape(\u001B[38;5;241m*\u001B[39mpolys)\n\u001B[0;32m     46\u001B[0m \u001B[38;5;66;03m# polys = align_indeterminants(*polys)\u001B[39;00m\n\u001B[1;32m---> 47\u001B[0m polys \u001B[38;5;241m=\u001B[39m \u001B[43malign_exponents\u001B[49m\u001B[43m(\u001B[49m\u001B[38;5;241;43m*\u001B[39;49m\u001B[43mpolys\u001B[49m\u001B[43m)\u001B[49m\n\u001B[0;32m     48\u001B[0m \u001B[38;5;28;01mreturn\u001B[39;00m polys\n",
      "File \u001B[1;32m~\\anaconda3\\lib\\site-packages\\numpoly\\align.py:211\u001B[0m, in \u001B[0;36malign_exponents\u001B[1;34m(*polys)\u001B[0m\n\u001B[0;32m    208\u001B[0m global_exponents \u001B[38;5;241m=\u001B[39m numpy\u001B[38;5;241m.\u001B[39munique(global_exponents, axis\u001B[38;5;241m=\u001B[39m\u001B[38;5;241m0\u001B[39m)\u001B[38;5;241m.\u001B[39mtolist()\n\u001B[0;32m    210\u001B[0m \u001B[38;5;28;01mfor\u001B[39;00m idx, poly \u001B[38;5;129;01min\u001B[39;00m \u001B[38;5;28menumerate\u001B[39m(polys_):\n\u001B[1;32m--> 211\u001B[0m     \u001B[38;5;28;01mif\u001B[39;00m numpy\u001B[38;5;241m.\u001B[39mall(\u001B[43mpoly\u001B[49m\u001B[38;5;241;43m.\u001B[39;49m\u001B[43mexponents\u001B[49m\u001B[43m \u001B[49m\u001B[38;5;241;43m==\u001B[39;49m\u001B[43m \u001B[49m\u001B[43mglobal_exponents\u001B[49m):\n\u001B[0;32m    212\u001B[0m         \u001B[38;5;28;01mcontinue\u001B[39;00m\n\u001B[0;32m    213\u001B[0m     lookup \u001B[38;5;241m=\u001B[39m {\n\u001B[0;32m    214\u001B[0m         \u001B[38;5;28mtuple\u001B[39m(exponent): coefficient\n\u001B[0;32m    215\u001B[0m         \u001B[38;5;28;01mfor\u001B[39;00m exponent, coefficient \u001B[38;5;129;01min\u001B[39;00m \u001B[38;5;28mzip\u001B[39m(poly\u001B[38;5;241m.\u001B[39mexponents, poly\u001B[38;5;241m.\u001B[39mcoefficients)\n\u001B[0;32m    216\u001B[0m     }\n",
      "\u001B[1;31mValueError\u001B[0m: operands could not be broadcast together with shapes (2,1) (4,1) "
     ]
    }
   ],
   "source": [
    "### GENERATE QUADRATURE RULE SAMPLES ###\n",
    "degrees = [1, 2, 3]\n",
    "#computation points = (degree+1)**(input dimensions)\n",
    "quadrature_surrogates = {}\n",
    "quadrature_nodes = {}\n",
    "quadrature_weights = {}\n",
    "for d in degrees:\n",
    "    #nodes, weights = cp.generate_quadrature(d, joint_dist, rule='G')\n",
    "    nodes, weights = cp.generate_quadrature(d, joint_dist_trunc, rule='G')\n",
    "    #nodes, weights = cp.quadrature.legendre(order=d, lower=E_soft_dist.lower, upper=E_soft_dist.upper)\n",
    "    quadrature_nodes[d] = nodes\n",
    "    quadrature_weights[d] = weights\n",
    "#quadrature_nodes\n",
    "\n",
    "for qd in quadrature_nodes:\n",
    "    #savemat('joint_dist_mat_geo_pd_'+str(qd)+'.mat',{'pd_'+str(qd)+'_inputs':quadrature_nodes[qd]})\n",
    "    savemat('joint_dist_mat_geo_trunc_pd_'+str(qd)+'.mat',{'pd_'+str(qd)+'_inputs':quadrature_nodes[qd]})\n",
    "    savemat('geo_dist_trunc_pd_'+str(qd)+'.mat',{'pd_'+str(qd)+'_geos':quadrature_nodes[qd][6]})\n",
    "\n",
    "print(np.mean(quadrature_nodes[1][6]))"
   ],
   "metadata": {
    "collapsed": false,
    "ExecuteTime": {
     "end_time": "2024-01-03T02:43:15.446475Z",
     "start_time": "2024-01-03T02:43:13.527360500Z"
    }
   }
  },
  {
   "cell_type": "code",
   "execution_count": null,
   "outputs": [],
   "source": [
    "valid_rules = check_quadrature_rules(joint_dist, orders=[1, 2])"
   ],
   "metadata": {
    "collapsed": false,
    "ExecuteTime": {
     "start_time": "2024-01-03T02:43:15.446475Z"
    }
   }
  },
  {
   "cell_type": "code",
   "execution_count": null,
   "outputs": [],
   "source": [
    "### GENERATE SPARSE GRID QUADRATURE RULE SAMPLES ###\n",
    "sparse_degrees = [1,2,3]\n",
    "# For Smolyak sparse grids, computation points won't necessarily be (degree+1)**(input dimensions)\n",
    "sparse_surrogates = {}\n",
    "sparse_nodes = {}\n",
    "sparse_weights = {}\n",
    "\n",
    "for d in sparse_degrees:\n",
    "    nodes, weights = cp.sparse_grid(order=d, dist=joint_dist_trunc, recurrence_algorithm='stieltjes', rule='gaussian', growth=False)\n",
    "    sparse_nodes[d] = nodes\n",
    "    sparse_weights[d] = weights\n",
    "\n",
    "for qd in sparse_nodes:\n",
    "    savemat('joint_dist_mat_geo_pd_'+str(qd)+'_sparse.mat', {'pd_'+str(qd)+'_inputs': sparse_nodes[qd]})\n",
    "    savemat('geo_dist_gauss_trunc_pd_'+str(qd)+'_sparse.mat', {'pd_'+str(qd)+'_geos': sparse_nodes[qd][6]})\n",
    "\n",
    "print(np.mean(sparse_nodes[1][6]))\n",
    "# print(sparse_nodes[3].shape)\n",
    "# print(sparse_weights[3].shape)\n",
    "# print(sparse_nodes[1])\n",
    "# print(sparse_weights[1])"
   ],
   "metadata": {
    "collapsed": false,
    "ExecuteTime": {
     "end_time": "2024-01-03T02:43:15.448476Z",
     "start_time": "2024-01-03T02:43:15.447476200Z"
    }
   }
  },
  {
   "cell_type": "code",
   "execution_count": null,
   "outputs": [],
   "source": [
    "### GENERATE MONTE CARLO INPUT SAMPLES ###\n",
    "N_MC2 = 100\n",
    "N_MC3 = 1000\n",
    "N_MC4 = 10000\n",
    "\n",
    "joint_samples_MC2 = joint_dist_trunc.sample(N_MC2)\n",
    "joint_samples_MC3 = joint_dist_trunc.sample(N_MC3)\n",
    "joint_samples_MC4 = joint_dist_trunc.sample(N_MC4)\n",
    "\n",
    "savemat('joint_dist_trunc_mc_'+str(N_MC2)+'.mat',{'mc_'+str(N_MC2)+'_inputs':joint_samples_MC2})\n",
    "savemat('joint_dist_trunc_mc_'+str(N_MC3)+'.mat',{'mc_'+str(N_MC3)+'_inputs':joint_samples_MC3})\n",
    "savemat('joint_dist_trunc_mc_'+str(N_MC4)+'.mat',{'mc_'+str(N_MC4)+'_inputs':joint_samples_MC4})"
   ],
   "metadata": {
    "collapsed": false,
    "ExecuteTime": {
     "start_time": "2024-01-03T02:43:15.448476Z"
    }
   }
  },
  {
   "cell_type": "code",
   "execution_count": null,
   "outputs": [],
   "source": [
    "print(joint_samples_MC2.shape)\n",
    "print(joint_samples_MC2[-1::].shape)\n",
    "geo_fp_dist_trunc_MC2 = joint_samples_MC2[-1::]\n",
    "geo_fp_dist_trunc_MC3 = joint_samples_MC3[-1::]\n",
    "geo_fp_dist_trunc_MC4 = joint_samples_MC4[-1::]\n",
    "\n",
    "savemat('geo_fp_dist_trunc_mc_'+str(N_MC2)+'.mat',{'mc_'+str(N_MC2)+'_geos':geo_fp_dist_trunc_MC2})\n",
    "savemat('geo_fp_dist_trunc_mc_'+str(N_MC3)+'.mat',{'mc_'+str(N_MC3)+'_geos':geo_fp_dist_trunc_MC3})\n",
    "savemat('geo_fp_dist_trunc_mc_'+str(N_MC4)+'.mat',{'mc_'+str(N_MC4)+'_geos':geo_fp_dist_trunc_MC4})"
   ],
   "metadata": {
    "collapsed": false,
    "ExecuteTime": {
     "end_time": "2024-01-03T02:43:15.473494600Z",
     "start_time": "2024-01-03T02:43:15.449477200Z"
    }
   }
  },
  {
   "cell_type": "markdown",
   "source": [
    "QUADRATURE INPUT DISTRIBUTIONS GENERATED - MATLAB RUNS COMMENCE"
   ],
   "metadata": {
    "collapsed": false
   }
  },
  {
   "cell_type": "markdown",
   "source": [
    "LOAD QUADRATURE OUTPUTS"
   ],
   "metadata": {
    "collapsed": false
   }
  },
  {
   "cell_type": "code",
   "execution_count": null,
   "outputs": [],
   "source": [
    "E_soft_sample_sets = {}\n",
    "E_hard_sample_sets = {}\n",
    "rho_soft_sample_sets = {}\n",
    "rho_hard_sample_sets = {}\n",
    "pr_soft_sample_sets = {}\n",
    "pr_hard_sample_sets = {}\n",
    "geo_fp_sample_sets = {}\n",
    "bg_size_sample_sets = {}\n",
    "bg_top_sample_sets = {}\n",
    "bg_bottom_sample_sets = {}\n",
    "bg_center_sample_sets = {}\n",
    "\n",
    "for d in degrees:\n",
    "    folder_name = 'gaussian 6+1 inputs quadrature rule 2nd geo study'#+str(d)\n",
    "    #file_suffix = '_q_pd'+str(d)+'_uniform_'+str((d+1)**6)+'.mat'\n",
    "    file_suffix ='_gaussian_7d_fp_5%_n'+str((d+1)**7)+'.mat'\n",
    "    E_soft_file = loadmat(folder_name+'/E_soft'+file_suffix)\n",
    "    E_hard_file = loadmat(folder_name+'/E_hard'+file_suffix)\n",
    "    rho_soft_file = loadmat(folder_name+'/rho_soft'+file_suffix)\n",
    "    rho_hard_file = loadmat(folder_name+'/rho_hard'+file_suffix)\n",
    "    pr_soft_file = loadmat(folder_name+'/pr_soft'+file_suffix)\n",
    "    pr_hard_file = loadmat(folder_name+'/pr_hard'+file_suffix)\n",
    "\n",
    "    bg_size_file = loadmat(folder_name+'/bg_size'+file_suffix)\n",
    "    bg_top_file = loadmat(folder_name+'/bg_top'+file_suffix)\n",
    "    bg_bottom_file = loadmat(folder_name+'/bg_bottom'+file_suffix)\n",
    "\n",
    "    E_soft_sample_sets[d] = E_soft_file['E_soft'][:]\n",
    "    E_hard_sample_sets[d] = E_hard_file['E_hard'][:]\n",
    "    rho_soft_sample_sets[d] = rho_soft_file['rho_soft'][:]\n",
    "    rho_hard_sample_sets[d] = rho_hard_file['rho_hard'][:]\n",
    "    pr_soft_sample_sets[d] = pr_soft_file['pr_soft'][:]\n",
    "    pr_hard_sample_sets[d] = pr_hard_file['pr_hard'][:]\n",
    "\n",
    "    bg_size_sample_sets[d] = bg_size_file['bg_size'][:]\n",
    "    bg_top_sample_sets[d] = bg_top_file['bg_top'][:]\n",
    "    bg_bottom_sample_sets[d] = bg_bottom_file['bg_bottom'][:]\n",
    "    bg_center_sample_sets[d] = (bg_top_sample_sets[d]+bg_bottom_sample_sets[d])/2"
   ],
   "metadata": {
    "collapsed": false,
    "ExecuteTime": {
     "start_time": "2024-01-03T02:43:15.450477400Z"
    }
   }
  },
  {
   "cell_type": "markdown",
   "source": [
    "LOAD SPARSE GRID OUTPUTS"
   ],
   "metadata": {
    "collapsed": false
   }
  },
  {
   "cell_type": "code",
   "execution_count": null,
   "outputs": [],
   "source": [
    "rho_soft_SG_sets = {}\n",
    "rho_hard_SG_sets = {}\n",
    "K_soft_SG_sets = {}\n",
    "K_hard_SG_sets = {}\n",
    "G_soft_SG_sets = {}\n",
    "G_hard_SG_sets = {}\n",
    "E_soft_SG_sets = {}\n",
    "E_hard_SG_sets = {}\n",
    "pr_soft_SG_sets = {}\n",
    "pr_hard_SG_sets = {}\n",
    "geo_fp_SG_sets = {}\n",
    "bg_size_SG_sets = {}\n",
    "bg_top_SG_sets = {}\n",
    "bg_bottom_SG_sets = {}\n",
    "bg_center_SG_sets = {}\n",
    "\n",
    "sparse_degrees = [1]\n",
    "d_n_map = {1:15}\n",
    "for d in sparse_degrees:\n",
    "    d_n_map[d] = int(sparse_weights[d].shape[0])\n",
    "    folder_name = 'gaussian 6+1 inputs sparse grid 2nd geo study'\n",
    "    file_suffix ='_gaussian_7d_fp_5%_n'+str(d_n_map[d])+'.mat'\n",
    "\n",
    "    rho_soft_file = loadmat(folder_name+'/rho_soft'+file_suffix)\n",
    "    rho_hard_file = loadmat(folder_name+'/rho_hard'+file_suffix)\n",
    "    # K_soft_file = loadmat(folder_name+'/K_soft'+file_suffix)\n",
    "    # K_hard_file = loadmat(folder_name+'/K_hard'+file_suffix)\n",
    "    # G_soft_file = loadmat(folder_name+'/G_soft'+file_suffix)\n",
    "    # G_hard_file = loadmat(folder_name+'/G_hard'+file_suffix)\n",
    "    E_soft_file = loadmat(folder_name+'/E_soft'+file_suffix)\n",
    "    E_hard_file = loadmat(folder_name+'/E_hard'+file_suffix)\n",
    "    pr_soft_file = loadmat(folder_name+'/pr_soft'+file_suffix)\n",
    "    pr_hard_file = loadmat(folder_name+'/pr_hard'+file_suffix)\n",
    "\n",
    "    bg_size_file = loadmat(folder_name+'/bg_size'+file_suffix)\n",
    "    bg_top_file = loadmat(folder_name+'/bg_top'+file_suffix)\n",
    "    bg_bottom_file = loadmat(folder_name+'/bg_bottom'+file_suffix)\n",
    "\n",
    "    # rho_soft_SG_sets[d] = rho_soft_file['rho_soft'][:]\n",
    "    # rho_hard_SG_sets[d] = rho_hard_file['rho_hard'][:]\n",
    "    # K_soft_SG_sets[d] = K_soft_file['K_soft'][:]\n",
    "    # K_hard_SG_sets[d] = K_hard_file['K_hard'][:]\n",
    "    # G_soft_SG_sets[d] = G_soft_file['G_soft'][:]\n",
    "    # G_hard_SG_sets[d] = G_hard_file['G_hard'][:]\n",
    "    # E_soft_SG_sets[d] = E_soft_file['E_soft'][:]\n",
    "    # E_hard_SG_sets[d] = E_hard_file['E_hard'][:]\n",
    "    # pr_soft_SG_sets[d] = pr_soft_file['pr_soft'][:]\n",
    "    # pr_hard_SG_sets[d] = pr_hard_file['pr_hard'][:]\n",
    "\n",
    "    bg_size_SG_sets[d] = bg_size_file['bg_size'][:]\n",
    "    bg_top_SG_sets[d] = bg_top_file['bg_top'][:]\n",
    "    bg_bottom_SG_sets[d] = bg_bottom_file['bg_bottom'][:]\n",
    "    bg_center_SG_sets[d] = (bg_top_SG_sets[d]+bg_bottom_SG_sets[d])/2\n",
    "\n",
    "    # mat_geo_dist_file = loadmat(folder_name+'/joint_dist_mat_geo_pd_'+str(d)+'_sparse.mat')\n",
    "    # rho_soft_SG_sets[d] = mat_geo_dist_file['pd_'+str(d)+'_inputs'][0,:]\n",
    "    # rho_hard_SG_sets[d] = mat_geo_dist_file['pd_'+str(d)+'_inputs'][1,:]\n",
    "    # K_soft_SG_sets[d] = mat_geo_dist_file['pd_'+str(d)+'_inputs'][2,:]\n",
    "    # K_hard_SG_sets[d] = mat_geo_dist_file['pd_'+str(d)+'_inputs'][3,:]\n",
    "    # G_soft_SG_sets[d] = mat_geo_dist_file['pd_'+str(d)+'_inputs'][4,:]\n",
    "    # G_hard_SG_sets[d] = mat_geo_dist_file['pd_'+str(d)+'_inputs'][5,:]\n",
    "    # geo_fp_SG_sets[d] = mat_geo_dist_file['pd_'+str(d)+'_inputs'][6,:]"
   ],
   "metadata": {
    "collapsed": false,
    "ExecuteTime": {
     "start_time": "2024-01-03T02:43:15.451477100Z"
    }
   }
  },
  {
   "cell_type": "markdown",
   "source": [
    "LOAD MONTE CARLO OUTPUTS"
   ],
   "metadata": {
    "collapsed": false
   }
  },
  {
   "cell_type": "code",
   "execution_count": null,
   "outputs": [],
   "source": [
    "E_soft_MC_sets = {}\n",
    "E_hard_MC_sets = {}\n",
    "rho_soft_MC_sets = {}\n",
    "rho_hard_MC_sets = {}\n",
    "pr_soft_MC_sets = {}\n",
    "pr_hard_MC_sets = {}\n",
    "geo_fp_MC_sets = {}\n",
    "bg_size_MC_sets = {}\n",
    "bg_top_MC_sets = {}\n",
    "bg_bottom_MC_sets = {}\n",
    "bg_center_MC_sets = {}\n",
    "\n",
    "set_N = [100, 1000, 10000]\n",
    "for N in set_N:\n",
    "    folder_name = 'gaussian 6+1 inputs mc 2nd geo study'#+str(N)\n",
    "    #file_suffix = '_mc_uniform_'+str(N)+'.mat'\n",
    "    file_suffix = '_gaussian_7d_fp_5%_n'+str(N)+'.mat'\n",
    "    E_soft_file = loadmat(folder_name+'/E_soft'+file_suffix)\n",
    "    E_hard_file = loadmat(folder_name+'/E_hard'+file_suffix)\n",
    "    rho_soft_file = loadmat(folder_name+'/rho_soft'+file_suffix)\n",
    "    rho_hard_file = loadmat(folder_name+'/rho_hard'+file_suffix)\n",
    "    pr_soft_file = loadmat(folder_name+'/pr_soft'+file_suffix)\n",
    "    pr_hard_file = loadmat(folder_name+'/pr_hard'+file_suffix)\n",
    "    geo_fp_file = loadmat(folder_name+'/geo_fp'+'_dist_trunc_mc_'+str(N)+'.mat')\n",
    "    bg_size_file = loadmat(folder_name+'/bg_size'+file_suffix)\n",
    "    bg_top_file = loadmat(folder_name+'/bg_top'+file_suffix)\n",
    "    bg_bottom_file = loadmat(folder_name+'/bg_bottom'+file_suffix)\n",
    "\n",
    "    E_soft_MC_sets[N] = E_soft_file['E_soft'][:]\n",
    "    E_hard_MC_sets[N] = E_hard_file['E_hard'][:]\n",
    "    rho_soft_MC_sets[N] = rho_soft_file['rho_soft'][:]\n",
    "    rho_hard_MC_sets[N] = rho_hard_file['rho_hard'][:]\n",
    "    pr_soft_MC_sets[N] = pr_soft_file['pr_soft'][:]\n",
    "    pr_hard_MC_sets[N] = pr_hard_file['pr_hard'][:]\n",
    "    geo_fp_MC_sets[N] = geo_fp_file['mc_'+str(N)+'_geos'][:].T\n",
    "    bg_size_MC_sets[N] = bg_size_file['bg_size'][:]\n",
    "    bg_top_MC_sets[N] = bg_top_file['bg_top'][:]\n",
    "    bg_bottom_MC_sets[N] = bg_bottom_file['bg_bottom'][:]\n",
    "    bg_center_MC_sets[N] = (bg_top_MC_sets[N] + bg_bottom_MC_sets[N])/2"
   ],
   "metadata": {
    "collapsed": false,
    "ExecuteTime": {
     "start_time": "2024-01-03T02:43:15.452477600Z"
    }
   }
  },
  {
   "cell_type": "code",
   "execution_count": null,
   "outputs": [],
   "source": [
    "print(type(bg_center_sample_sets))\n",
    "print(len(bg_center_sample_sets[3]))\n",
    "\n",
    "print(type(bg_center_MC_sets))\n",
    "print(len(bg_center_MC_sets[10000]))\n",
    "\n",
    "print(type(geo_fp_MC_sets))\n",
    "print(len(geo_fp_MC_sets[10000]))\n",
    "print(geo_fp_MC_sets[1000].shape)\n",
    "print(rho_hard_MC_sets[1000].shape)\n",
    "# fig = plt.figure()\n",
    "# plt.scatter(E_soft_sample_sets[2], bg_size_sample_sets[2])\n",
    "# plt.title('Black Box Model Evaluations on 2th order quadrature samples')\n",
    "# plt.xlabel('E_soft')\n",
    "# plt.ylabel('bg_size')"
   ],
   "metadata": {
    "collapsed": false,
    "ExecuteTime": {
     "start_time": "2024-01-03T02:43:15.453490500Z"
    }
   }
  },
  {
   "cell_type": "markdown",
   "source": [
    "Sparse grid fits on bandgap size"
   ],
   "metadata": {
    "collapsed": false
   }
  },
  {
   "cell_type": "code",
   "execution_count": null,
   "outputs": [],
   "source": [
    "### FIT SURROGATE MODELS - SPARSE GRID ###\n",
    "sg_surrogates_bgs = {}\n",
    "sparse_degrees = [1]\n",
    "for degree in sparse_degrees:\n",
    "    polynomial_basis = cp.expansion.stieltjes(\n",
    "        order=degree,\n",
    "        dist=joint_dist,\n",
    "        normed=True\n",
    "    )\n",
    "    print(sparse_nodes[degree].shape)\n",
    "    print(sparse_weights[degree].shape)\n",
    "    print(bg_size_SG_sets[degree].shape)\n",
    "    polynomial_approximation = cp.fit_quadrature(\n",
    "        orth=polynomial_basis,\n",
    "        nodes=sparse_nodes[degree],\n",
    "        weights=sparse_weights[degree],\n",
    "        solves=bg_size_SG_sets[degree]\n",
    "    )\n",
    "    sg_surrogates_bgs[degree] = polynomial_approximation"
   ],
   "metadata": {
    "collapsed": false,
    "ExecuteTime": {
     "start_time": "2024-01-03T02:43:15.454491Z"
    }
   }
  },
  {
   "cell_type": "code",
   "execution_count": null,
   "outputs": [],
   "source": [
    "### SYNTHESIZE NEW DATAPOINTS WITH SURROGATE MODELS ###\n",
    "N_test = 1000\n",
    "joint_test = joint_dist.sample(N_test)\n",
    "print(joint_test.shape)\n",
    "#print(joint_test[0])\n",
    "surrogate_outputs_sg_bgs = {}\n",
    "surrogate_kdes_sg_bgs = {}\n",
    "surrogate_pdf_sg_bgs = {}\n",
    "for degree in sparse_degrees:\n",
    "    surrogate_model = sg_surrogates_bgs[degree]\n",
    "    #print(type(surrogate_model))\n",
    "    #print(surrogate_model)\n",
    "    #surrogate_outputs[degree] = surrogate_model.__call__(joint_test).astype(float)\n",
    "    surrogate_outputs_sg_bgs[degree] = surrogate_model(\n",
    "        q0=joint_test[0,:], q1=joint_test[1,:],\n",
    "        q2=joint_test[2,:], q3=joint_test[3,:],\n",
    "        q4=joint_test[4,:], q5=joint_test[5,:], q6=joint_test[6,:])\n",
    "    #print(surrogate_outputs[degree])\n",
    "    surrogate_kdes_sg_bgs[degree] = gaussian_kde(surrogate_outputs_sg_bgs[degree])\n",
    "    surrogate_pdf_sg_bgs[degree] = surrogate_kdes_sg_bgs[degree](np.linspace(np.min(surrogate_outputs_sg_bgs[degree]), np.max(surrogate_outputs_sg_bgs[degree]), 1000))\n",
    "    \n",
    "    #save surrogate outputs\n",
    "    savemat('surrogate_outputs_sg_bgs_pd_'+str(degree)+'.mat',{'surrogate_outputs_sg_bgs_pd_'+str(degree):surrogate_outputs_sg_bgs[degree]})"
   ],
   "metadata": {
    "collapsed": false,
    "ExecuteTime": {
     "start_time": "2024-01-03T02:43:15.455491100Z"
    }
   }
  },
  {
   "cell_type": "code",
   "execution_count": null,
   "outputs": [],
   "source": [
    "plt.style.use('default')\n",
    "# Plot surrogate model performance\n",
    "fig, axs = plt.subplots(nrows=1, ncols=3, sharex=True, sharey=True, tight_layout=True, figsize=(12,5))\n",
    "\n",
    "# Plot histograms of random samples for comparision with surrogate model\n",
    "axs[0].hist(bg_size_MC_sets[100], bins=50, density=True, alpha=0.5)\n",
    "axs[1].hist(bg_size_MC_sets[1000], bins=50, density=True, alpha=0.5)\n",
    "axs[2].hist(bg_size_MC_sets[10000], bins=50, density=True, alpha=0.5)\n",
    "\n",
    "# Plot surrogate model pdfs\n",
    "for d in sparse_degrees:\n",
    "    plot_label = 'PD='+str(d)+', N='+str(len(bg_size_SG_sets[d]))#+str((d+1)**7)\n",
    "    axs[0].scatter(np.linspace(np.min(surrogate_outputs_sg_bgs[d]), np.max(surrogate_outputs_sg_bgs[d]), 1000), surrogate_pdf_sg_bgs[d], label=plot_label, s=1, linewidths=0.5)\n",
    "    axs[1].scatter(np.linspace(np.min(surrogate_outputs_sg_bgs[d]), np.max(surrogate_outputs_sg_bgs[d]), 1000), surrogate_pdf_sg_bgs[d], label=plot_label, s=1, linewidths=0.5)\n",
    "    axs[2].scatter(np.linspace(np.min(surrogate_outputs_sg_bgs[d]), np.max(surrogate_outputs_sg_bgs[d]), 1000), surrogate_pdf_sg_bgs[d], label=plot_label, s=1, linewidths=0.5)\n",
    "\n",
    "axs[0].set_xlabel(\"Model Output - Bandgap Size (Hz)\")\n",
    "axs[0].set_ylabel(\"Probability Density\")\n",
    "axs[0].legend(loc='best')\n",
    "axs[0].set_title('Sparse Grid Fits Overlaid \\non 100 MC Samples')\n",
    "\n",
    "axs[1].set_xlabel(\"Model Output - Bandgap Size (Hz)\")\n",
    "#axs[1].set_ylabel(\"Probability Density\")\n",
    "axs[1].legend(loc='best')\n",
    "axs[1].set_title('Sparse Grid Fits Overlaid \\non 1000 MC Samples')\n",
    "\n",
    "axs[2].set_xlabel(\"Model Output - Bandgap Size (Hz)\")\n",
    "#axs[2].set_ylabel(\"Probability Density\")\n",
    "axs[2].legend(loc='best')\n",
    "axs[2].set_title('Sparse Grid Fits Overlaid \\non 10000 MC Samples')\n",
    "\n",
    "title_str = 'Bandgap Size PDFs Generated Via Stochastic Collocation With Smolyak Sparse Grid (Gaussian Quadrature Rule) & Stieltjes PCE On\\n 7D Input Space. Surrogate Models of Order '+str(np.min(degrees))+' Are Overlaid On Histograms of 100, 1000, and 10000 Monte Carlo Samples For Comparison'\n",
    "fig.suptitle(title_str)"
   ],
   "metadata": {
    "collapsed": false,
    "ExecuteTime": {
     "start_time": "2024-01-03T02:43:15.457491800Z"
    }
   }
  },
  {
   "cell_type": "markdown",
   "source": [
    "Sparse grid fits on bandgap top"
   ],
   "metadata": {
    "collapsed": false
   }
  },
  {
   "cell_type": "code",
   "execution_count": null,
   "outputs": [],
   "source": [
    "### FIT SURROGATE MODELS - SPARSE GRID ###\n",
    "sg_surrogates_bgt = {}\n",
    "sparse_degrees = [1]\n",
    "for degree in sparse_degrees:\n",
    "    polynomial_basis = cp.expansion.stieltjes(\n",
    "        order=degree,\n",
    "        dist=joint_dist,\n",
    "        normed=True\n",
    "    )\n",
    "    print(sparse_nodes[degree].shape)\n",
    "    print(sparse_weights[degree].shape)\n",
    "    print(bg_top_SG_sets[degree].shape)\n",
    "    polynomial_approximation = cp.fit_quadrature(\n",
    "        orth=polynomial_basis,\n",
    "        nodes=sparse_nodes[degree],\n",
    "        weights=sparse_weights[degree],\n",
    "        solves=bg_top_SG_sets[degree]\n",
    "    )\n",
    "    sg_surrogates_bgt[degree] = polynomial_approximation"
   ],
   "metadata": {
    "collapsed": false,
    "ExecuteTime": {
     "start_time": "2024-01-03T02:43:15.458492400Z"
    }
   }
  },
  {
   "cell_type": "code",
   "execution_count": null,
   "outputs": [],
   "source": [
    "### SYNTHESIZE NEW DATAPOINTS WITH SURROGATE MODELS ###\n",
    "N_test = 1000\n",
    "joint_test = joint_dist.sample(N_test)\n",
    "print(joint_test.shape)\n",
    "#print(joint_test[0])\n",
    "surrogate_outputs_sg_bgt = {}\n",
    "surrogate_kdes_sg_bgt = {}\n",
    "surrogate_pdf_sg_bgt = {}\n",
    "for degree in sparse_degrees:\n",
    "    surrogate_model = sg_surrogates_bgt[degree]\n",
    "    #print(type(surrogate_model))\n",
    "    #print(surrogate_model)\n",
    "    #surrogate_outputs[degree] = surrogate_model.__call__(joint_test).astype(float)\n",
    "    surrogate_outputs_sg_bgt[degree] = surrogate_model(\n",
    "        q0=joint_test[0,:], q1=joint_test[1,:],\n",
    "        q2=joint_test[2,:], q3=joint_test[3,:],\n",
    "        q4=joint_test[4,:], q5=joint_test[5,:], q6=joint_test[6,:])\n",
    "    #print(surrogate_outputs[degree])\n",
    "    surrogate_kdes_sg_bgt[degree] = gaussian_kde(surrogate_outputs_sg_bgt[degree])\n",
    "    surrogate_pdf_sg_bgt[degree] = surrogate_kdes_sg_bgt[degree](np.linspace(np.min(surrogate_outputs_sg_bgt[degree]), np.max(surrogate_outputs_sg_bgt[degree]), 1000))\n",
    "\n",
    "    #save surrogate outputs\n",
    "    savemat('surrogate_outputs_sg_bgt_pd_'+str(degree)+'.mat',{'surrogate_outputs_sg_bgt_pd_'+str(degree):surrogate_outputs_sg_bgt[degree]})"
   ],
   "metadata": {
    "collapsed": false,
    "ExecuteTime": {
     "start_time": "2024-01-03T02:43:15.459491500Z"
    }
   }
  },
  {
   "cell_type": "code",
   "execution_count": null,
   "outputs": [],
   "source": [
    "plt.style.use('default')\n",
    "# Plot surrogate model performance\n",
    "fig, axs = plt.subplots(nrows=1, ncols=3, sharex=True, sharey=True, tight_layout=True, figsize=(12,5))\n",
    "\n",
    "# Plot histograms of random samples for comparision with surrogate model\n",
    "axs[0].hist(bg_top_MC_sets[100], bins=50, density=True, alpha=0.5)\n",
    "axs[1].hist(bg_top_MC_sets[1000], bins=50, density=True, alpha=0.5)\n",
    "axs[2].hist(bg_top_MC_sets[10000], bins=50, density=True, alpha=0.5)\n",
    "\n",
    "# Plot surrogate model pdfs\n",
    "for d in sparse_degrees:\n",
    "    plot_label = 'PD='+str(d)+', N='+str(len(bg_top_SG_sets[d]))#+str((d+1)**7)\n",
    "    axs[0].scatter(np.linspace(np.min(surrogate_outputs_sg_bgt[d]), np.max(surrogate_outputs_sg_bgt[d]), 1000), surrogate_pdf_sg_bgt[d], label=plot_label, s=1, linewidths=0.5)\n",
    "    axs[1].scatter(np.linspace(np.min(surrogate_outputs_sg_bgt[d]), np.max(surrogate_outputs_sg_bgt[d]), 1000), surrogate_pdf_sg_bgt[d], label=plot_label, s=1, linewidths=0.5)\n",
    "    axs[2].scatter(np.linspace(np.min(surrogate_outputs_sg_bgt[d]), np.max(surrogate_outputs_sg_bgt[d]), 1000), surrogate_pdf_sg_bgt[d], label=plot_label, s=1, linewidths=0.5)\n",
    "\n",
    "axs[0].set_xlabel(\"Model Output - Bandgap Size (Hz)\")\n",
    "axs[0].set_ylabel(\"Probability Density\")\n",
    "axs[0].legend(loc='best')\n",
    "axs[0].set_title('Sparse Grid Fits Overlaid \\non 100 MC Samples')\n",
    "\n",
    "axs[1].set_xlabel(\"Model Output - Bandgap Size (Hz)\")\n",
    "#axs[1].set_ylabel(\"Probability Density\")\n",
    "axs[1].legend(loc='best')\n",
    "axs[1].set_title('Sparse Grid Fits Overlaid \\non 1000 MC Samples')\n",
    "\n",
    "axs[2].set_xlabel(\"Model Output - Bandgap Size (Hz)\")\n",
    "#axs[2].set_ylabel(\"Probability Density\")\n",
    "axs[2].legend(loc='best')\n",
    "axs[2].set_title('Sparse Grid Fits Overlaid \\non 10000 MC Samples')\n",
    "\n",
    "title_str = 'Bandgap Top PDFs Generated Via Stochastic Collocation With Smolyak Sparse Grid (Gaussian Quadrature Rule) & Stieltjes PCE On\\n 7D Input Space. Surrogate Models of Order '+str(np.min(degrees))+' Are Overlaid On Histograms of 100, 1000, and 10000 Monte Carlo Samples For Comparison'\n",
    "fig.suptitle(title_str)"
   ],
   "metadata": {
    "collapsed": false,
    "ExecuteTime": {
     "start_time": "2024-01-03T02:43:15.460493800Z"
    }
   }
  },
  {
   "cell_type": "markdown",
   "source": [
    "Sparse grid fits on bandgap bottom"
   ],
   "metadata": {
    "collapsed": false
   }
  },
  {
   "cell_type": "code",
   "execution_count": null,
   "outputs": [],
   "source": [
    "### FIT SURROGATE MODELS - SPARSE GRID ###\n",
    "sg_surrogates_bgb = {}\n",
    "sparse_degrees = [1]\n",
    "for degree in sparse_degrees:\n",
    "    polynomial_basis = cp.expansion.stieltjes(\n",
    "        order=degree,\n",
    "        dist=joint_dist,\n",
    "        normed=True\n",
    "    )\n",
    "    print(sparse_nodes[degree].shape)\n",
    "    print(sparse_weights[degree].shape)\n",
    "    print(bg_bottom_SG_sets[degree].shape)\n",
    "    polynomial_approximation = cp.fit_quadrature(\n",
    "        orth=polynomial_basis,\n",
    "        nodes=sparse_nodes[degree],\n",
    "        weights=sparse_weights[degree],\n",
    "        solves=bg_bottom_SG_sets[degree]\n",
    "    )\n",
    "    sg_surrogates_bgb[degree] = polynomial_approximation"
   ],
   "metadata": {
    "collapsed": false,
    "ExecuteTime": {
     "start_time": "2024-01-03T02:43:15.461492300Z"
    }
   }
  },
  {
   "cell_type": "code",
   "execution_count": null,
   "outputs": [],
   "source": [
    "### SYNTHESIZE NEW DATAPOINTS WITH SURROGATE MODELS ###\n",
    "N_test = 1000\n",
    "joint_test = joint_dist.sample(N_test)\n",
    "print(joint_test.shape)\n",
    "#print(joint_test[0])\n",
    "surrogate_outputs_sg_bgb = {}\n",
    "surrogate_kdes_sg_bgb = {}\n",
    "surrogate_pdf_sg_bgb = {}\n",
    "for degree in sparse_degrees:\n",
    "    surrogate_model = sg_surrogates_bgb[degree]\n",
    "    #print(type(surrogate_model))\n",
    "    #print(surrogate_model)\n",
    "    #surrogate_outputs[degree] = surrogate_model.__call__(joint_test).astype(float)\n",
    "    surrogate_outputs_sg_bgb[degree] = surrogate_model(\n",
    "        q0=joint_test[0,:], q1=joint_test[1,:],\n",
    "        q2=joint_test[2,:], q3=joint_test[3,:],\n",
    "        q4=joint_test[4,:], q5=joint_test[5,:], q6=joint_test[6,:])\n",
    "    #print(surrogate_outputs[degree])\n",
    "    surrogate_kdes_sg_bgb[degree] = gaussian_kde(surrogate_outputs_sg_bgb[degree])\n",
    "    surrogate_pdf_sg_bgb[degree] = surrogate_kdes_sg_bgb[degree](np.linspace(np.min(surrogate_outputs_sg_bgb[degree]), np.max(surrogate_outputs_sg_bgb[degree]), 1000))\n",
    "    \n",
    "    #save surrogate outputs\n",
    "    savemat('surrogate_outputs_sg_bgb_pd_'+str(degree)+'.mat',{'surrogate_outputs_sg_bgb_pd_'+str(degree):surrogate_outputs_sg_bgb[degree]})"
   ],
   "metadata": {
    "collapsed": false,
    "ExecuteTime": {
     "start_time": "2024-01-03T02:43:15.462492700Z"
    }
   }
  },
  {
   "cell_type": "code",
   "execution_count": null,
   "outputs": [],
   "source": [
    "plt.style.use('default')\n",
    "# Plot surrogate model performance\n",
    "fig, axs = plt.subplots(nrows=1, ncols=3, sharex=True, sharey=True, tight_layout=True, figsize=(12,5))\n",
    "\n",
    "# Plot histograms of random samples for comparision with surrogate model\n",
    "axs[0].hist(bg_bottom_MC_sets[100], bins=50, density=True, alpha=0.5)\n",
    "axs[1].hist(bg_bottom_MC_sets[1000], bins=50, density=True, alpha=0.5)\n",
    "axs[2].hist(bg_bottom_MC_sets[10000], bins=50, density=True, alpha=0.5)\n",
    "\n",
    "# Plot surrogate model pdfs\n",
    "for d in sparse_degrees:\n",
    "    plot_label = 'PD='+str(d)+', N='+str(len(bg_bottom_SG_sets[d]))#+str((d+1)**7)\n",
    "    axs[0].scatter(np.linspace(np.min(surrogate_outputs_sg_bgb[d]), np.max(surrogate_outputs_sg_bgb[d]), 1000), surrogate_pdf_sg_bgb[d], label=plot_label, s=1, linewidths=0.5)\n",
    "    axs[1].scatter(np.linspace(np.min(surrogate_outputs_sg_bgb[d]), np.max(surrogate_outputs_sg_bgb[d]), 1000), surrogate_pdf_sg_bgb[d], label=plot_label, s=1, linewidths=0.5)\n",
    "    axs[2].scatter(np.linspace(np.min(surrogate_outputs_sg_bgb[d]), np.max(surrogate_outputs_sg_bgb[d]), 1000), surrogate_pdf_sg_bgb[d], label=plot_label, s=1, linewidths=0.5)\n",
    "\n",
    "axs[0].set_xlabel(\"Model Output - Bandgap Size (Hz)\")\n",
    "axs[0].set_ylabel(\"Probability Density\")\n",
    "axs[0].legend(loc='best')\n",
    "axs[0].set_title('Sparse Grid Fits Overlaid \\non 100 MC Samples')\n",
    "\n",
    "axs[1].set_xlabel(\"Model Output - Bandgap Size (Hz)\")\n",
    "#axs[1].set_ylabel(\"Probability Density\")\n",
    "axs[1].legend(loc='best')\n",
    "axs[1].set_title('Sparse Grid Fits Overlaid \\non 1000 MC Samples')\n",
    "\n",
    "axs[2].set_xlabel(\"Model Output - Bandgap Size (Hz)\")\n",
    "#axs[2].set_ylabel(\"Probability Density\")\n",
    "axs[2].legend(loc='best')\n",
    "axs[2].set_title('Sparse Grid Fits Overlaid \\non 10000 MC Samples')\n",
    "\n",
    "title_str = 'Bandgap Bottom PDFs Generated Via Stochastic Collocation With Smolyak Sparse Grid (Gaussian Quadrature Rule) & Stieltjes PCE On\\n 7D Input Space. Surrogate Models of Order '+str(np.min(degrees))+' Are Overlaid On Histograms of 100, 1000, and 10000 Monte Carlo Samples For Comparison'\n",
    "fig.suptitle(title_str)"
   ],
   "metadata": {
    "collapsed": false,
    "ExecuteTime": {
     "start_time": "2024-01-03T02:43:15.463492700Z"
    }
   }
  },
  {
   "cell_type": "markdown",
   "source": [
    "Sparse grid fits on bandgap center"
   ],
   "metadata": {
    "collapsed": false
   }
  },
  {
   "cell_type": "code",
   "execution_count": null,
   "outputs": [],
   "source": [
    "### FIT SURROGATE MODELS - SPARSE GRID ###\n",
    "sg_surrogates_bgc = {}\n",
    "sparse_degrees = [1]\n",
    "for degree in sparse_degrees:\n",
    "    polynomial_basis = cp.expansion.stieltjes(\n",
    "        order=degree,\n",
    "        dist=joint_dist,\n",
    "        normed=True\n",
    "    )\n",
    "    print(sparse_nodes[degree].shape)\n",
    "    print(sparse_weights[degree].shape)\n",
    "    print(bg_center_SG_sets[degree].shape)\n",
    "    polynomial_approximation = cp.fit_quadrature(\n",
    "        orth=polynomial_basis,\n",
    "        nodes=sparse_nodes[degree],\n",
    "        weights=sparse_weights[degree],\n",
    "        solves=bg_center_SG_sets[degree]\n",
    "    )\n",
    "    sg_surrogates_bgc[degree] = polynomial_approximation"
   ],
   "metadata": {
    "collapsed": false,
    "ExecuteTime": {
     "start_time": "2024-01-03T02:43:15.464492100Z"
    }
   }
  },
  {
   "cell_type": "code",
   "execution_count": null,
   "outputs": [],
   "source": [
    "### SYNTHESIZE NEW DATAPOINTS WITH SURROGATE MODELS ###\n",
    "N_test = 1000\n",
    "joint_test = joint_dist.sample(N_test)\n",
    "print(joint_test.shape)\n",
    "#print(joint_test[0])\n",
    "surrogate_outputs_sg_bgc = {}\n",
    "surrogate_kdes_sg_bgc = {}\n",
    "surrogate_pdf_sg_bgc = {}\n",
    "for degree in sparse_degrees:\n",
    "    surrogate_model = sg_surrogates_bgc[degree]\n",
    "    #print(type(surrogate_model))\n",
    "    #print(surrogate_model)\n",
    "    #surrogate_outputs[degree] = surrogate_model.__call__(joint_test).astype(float)\n",
    "    surrogate_outputs_sg_bgc[degree] = surrogate_model(\n",
    "        q0=joint_test[0,:], q1=joint_test[1,:],\n",
    "        q2=joint_test[2,:], q3=joint_test[3,:],\n",
    "        q4=joint_test[4,:], q5=joint_test[5,:], q6=joint_test[6,:])\n",
    "    #print(surrogate_outputs[degree])\n",
    "    surrogate_kdes_sg_bgc[degree] = gaussian_kde(surrogate_outputs_sg_bgc[degree])\n",
    "    surrogate_pdf_sg_bgc[degree] = surrogate_kdes_sg_bgc[degree](np.linspace(np.min(surrogate_outputs_sg_bgc[degree]), np.max(surrogate_outputs_sg_bgc[degree]), 1000))\n",
    "    \n",
    "    #save surrogate outputs\n",
    "    savemat('surrogate_outputs_sg_bgc_pd_'+str(degree)+'.mat',{'surrogate_outputs_sg_bgc_pd_'+str(degree):surrogate_outputs_sg_bgc[degree]})"
   ],
   "metadata": {
    "collapsed": false,
    "ExecuteTime": {
     "start_time": "2024-01-03T02:43:15.465493200Z"
    }
   }
  },
  {
   "cell_type": "code",
   "execution_count": null,
   "outputs": [],
   "source": [
    "plt.style.use('default')\n",
    "# Plot surrogate model performance\n",
    "fig, axs = plt.subplots(nrows=1, ncols=3, sharex=True, sharey=True, tight_layout=True, figsize=(12,5))\n",
    "\n",
    "# Plot histograms of random samples for comparision with surrogate model\n",
    "axs[0].hist(bg_center_MC_sets[100], bins=50, density=True, alpha=0.5)\n",
    "axs[1].hist(bg_center_MC_sets[1000], bins=50, density=True, alpha=0.5)\n",
    "axs[2].hist(bg_center_MC_sets[10000], bins=50, density=True, alpha=0.5)\n",
    "\n",
    "# Plot surrogate model pdfs\n",
    "for d in sparse_degrees:\n",
    "    plot_label = 'PD='+str(d)+', N='+str(len(bg_center_SG_sets[d]))#+str((d+1)**7)\n",
    "    axs[0].scatter(np.linspace(np.min(surrogate_outputs_sg_bgc[d]), np.max(surrogate_outputs_sg_bgc[d]), 1000), surrogate_pdf_sg_bgc[d], label=plot_label, s=1, linewidths=0.5)\n",
    "    axs[1].scatter(np.linspace(np.min(surrogate_outputs_sg_bgc[d]), np.max(surrogate_outputs_sg_bgc[d]), 1000), surrogate_pdf_sg_bgc[d], label=plot_label, s=1, linewidths=0.5)\n",
    "    axs[2].scatter(np.linspace(np.min(surrogate_outputs_sg_bgc[d]), np.max(surrogate_outputs_sg_bgc[d]), 1000), surrogate_pdf_sg_bgc[d], label=plot_label, s=1, linewidths=0.5)\n",
    "\n",
    "axs[0].set_xlabel(\"Model Output - Bandgap Size (Hz)\")\n",
    "axs[0].set_ylabel(\"Probability Density\")\n",
    "axs[0].legend(loc='best')\n",
    "axs[0].set_title('Sparse Grid Fits Overlaid \\non 100 MC Samples')\n",
    "\n",
    "axs[1].set_xlabel(\"Model Output - Bandgap Size (Hz)\")\n",
    "#axs[1].set_ylabel(\"Probability Density\")\n",
    "axs[1].legend(loc='best')\n",
    "axs[1].set_title('Sparse Grid Fits Overlaid \\non 1000 MC Samples')\n",
    "\n",
    "axs[2].set_xlabel(\"Model Output - Bandgap Size (Hz)\")\n",
    "#axs[2].set_ylabel(\"Probability Density\")\n",
    "axs[2].legend(loc='best')\n",
    "axs[2].set_title('Sparse Grid Fits Overlaid \\non 10000 MC Samples')\n",
    "\n",
    "title_str = 'Bandgap Center PDFs Generated Via Stochastic Collocation With Smolyak Sparse Grid (Gaussian Quadrature Rule) & Stieltjes PCE On\\n 7D Input Space. Surrogate Models of Order '+str(np.min(degrees))+' Are Overlaid On Histograms of 100, 1000, and 10000 Monte Carlo Samples For Comparison'\n",
    "fig.suptitle(title_str)"
   ],
   "metadata": {
    "collapsed": false,
    "ExecuteTime": {
     "start_time": "2024-01-03T02:43:15.466493300Z"
    }
   }
  },
  {
   "cell_type": "markdown",
   "source": [
    "Quadrature fits on bandgap size"
   ],
   "metadata": {
    "collapsed": false
   }
  },
  {
   "cell_type": "code",
   "execution_count": null,
   "outputs": [],
   "source": [
    "### FIT SURROGATE MODELS - QUADRATURE RULE ###\n",
    "q_surrogates_bgs = {}\n",
    "for degree in degrees:\n",
    "    polynomial_basis = cp.expansion.stieltjes(\n",
    "        order=degree,\n",
    "        dist=joint_dist_trunc,\n",
    "        normed=True\n",
    "    )\n",
    "    polynomial_approximation = cp.fit_quadrature(\n",
    "        orth=polynomial_basis,\n",
    "        nodes=quadrature_nodes[degree],\n",
    "        weights=quadrature_weights[degree],\n",
    "        solves=bg_size_sample_sets[degree]\n",
    "    )\n",
    "    q_surrogates_bgs[degree] = polynomial_approximation"
   ],
   "metadata": {
    "collapsed": false,
    "ExecuteTime": {
     "start_time": "2024-01-03T02:43:15.467493Z"
    }
   }
  },
  {
   "cell_type": "code",
   "execution_count": null,
   "outputs": [],
   "source": [
    "### SYNTHESIZE NEW DATAPOINTS WITH SURROGATE MODELS ###\n",
    "N_test = 1000\n",
    "joint_test = joint_dist_trunc.sample(N_test)\n",
    "print(joint_test.shape)\n",
    "#print(joint_test[0])\n",
    "surrogate_outputs = {}\n",
    "surrogate_kdes = {}\n",
    "surrogate_pdf = {}\n",
    "for degree in degrees:\n",
    "    surrogate_model = q_surrogates_bgs[degree]\n",
    "    #print(type(surrogate_model))\n",
    "    #print(surrogate_model)\n",
    "    #surrogate_outputs[degree] = surrogate_model.__call__(joint_test).astype(float)\n",
    "    surrogate_outputs[degree] = surrogate_model(\n",
    "        q0=joint_test[0,:], q1=joint_test[1,:],\n",
    "        q2=joint_test[2,:], q3=joint_test[3,:],\n",
    "        q4=joint_test[4,:], q5=joint_test[5,:], q6=joint_test[6,:])\n",
    "    #print(surrogate_outputs[degree])\n",
    "    surrogate_kdes[degree] = gaussian_kde(surrogate_outputs[degree])\n",
    "    surrogate_pdf[degree] = surrogate_kdes[degree](np.linspace(np.min(surrogate_outputs[degree]), np.max(surrogate_outputs[degree]), 1000))\n",
    "    \n",
    "    #save surrogate outputs\n",
    "    savemat('surrogate_outputs_bgs_qr_pd_'+str(degree)+'.mat',{'surrogate_outputs_bgs_pd_'+str(degree):surrogate_outputs[degree]})"
   ],
   "metadata": {
    "collapsed": false,
    "ExecuteTime": {
     "start_time": "2024-01-03T02:43:15.468493900Z"
    }
   }
  },
  {
   "cell_type": "code",
   "execution_count": null,
   "outputs": [],
   "source": [
    "# Plot surrogate model performance\n",
    "fig, axs = plt.subplots(nrows=1, ncols=3, sharey=True, tight_layout=True, figsize=(12,5))\n",
    "\n",
    "# Plot histograms of random samples for comparision with surrogate model\n",
    "axs[0].hist(bg_size_MC_sets[100], bins=50, density=True, alpha=0.5)\n",
    "axs[1].hist(bg_size_MC_sets[1000], bins=50, density=True, alpha=0.5)\n",
    "axs[2].hist(bg_size_MC_sets[10000], bins=50, density=True, alpha=0.5)\n",
    "degrees = [1,2]\n",
    "# Plot surrogate model pdfs\n",
    "for d in degrees:\n",
    "    plot_label = 'PD='+str(d)+', N='+str(len(bg_size_sample_sets[d]))#+str((d+1)**7)\n",
    "    axs[0].scatter(np.linspace(np.min(surrogate_outputs[d]), np.max(surrogate_outputs[d]), 1000), surrogate_pdf[d], label=plot_label, s=1, linewidths=0.5)\n",
    "    axs[1].scatter(np.linspace(np.min(surrogate_outputs[d]), np.max(surrogate_outputs[d]), 1000), surrogate_pdf[d], label=plot_label, s=1, linewidths=0.5)\n",
    "    axs[2].scatter(np.linspace(np.min(surrogate_outputs[d]), np.max(surrogate_outputs[d]), 1000), surrogate_pdf[d], label=plot_label, s=1, linewidths=0.5)\n",
    "\n",
    "axs[0].set_xlabel(\"Model Output (Hz)\")\n",
    "axs[0].set_ylabel(\"Probability Density\")\n",
    "axs[0].legend(loc='best')\n",
    "axs[0].set_title('Quadrature Fits Overlaid\\n on 100 MC Samples')\n",
    "\n",
    "axs[1].set_xlabel(\"Model Output (Hz)\")\n",
    "#axs[1].set_ylabel(\"Probability Density\")\n",
    "axs[1].legend(loc='best')\n",
    "axs[1].set_title('Quadrature Fits Overlaid\\n on 1000 MC Samples')\n",
    "\n",
    "axs[2].set_xlabel(\"Model Output (Hz)\")\n",
    "#axs[2].set_ylabel(\"Probability Density\")\n",
    "axs[2].legend(loc='best')\n",
    "axs[2].set_title('Quadrature Fits Overlaid on\\n 10000 MC Samples')\n",
    "\n",
    "title_str = 'Bandgap Size Output PDFs From 7D Input Space Gauss-Legendre Quadrature Rule Fitted Stochastic Collocation\\n Surrogate Models of Orders '+str(np.min(degrees))+' to '+str(np.max(degrees))+' Overlaid On Histogram of 100, 1000, and 10000 MC Samples'\n",
    "fig.suptitle(title_str)"
   ],
   "metadata": {
    "collapsed": false,
    "ExecuteTime": {
     "start_time": "2024-01-03T02:43:15.470494700Z"
    }
   }
  },
  {
   "cell_type": "markdown",
   "source": [
    "Quadrature fits on bandgap top"
   ],
   "metadata": {
    "collapsed": false
   }
  },
  {
   "cell_type": "code",
   "execution_count": null,
   "outputs": [],
   "source": [
    "### FIT SURROGATE MODELS - QUADRATURE RULE - BANDGAP TOP ###\n",
    "q_surrogates_bgt = {}\n",
    "for degree in degrees:\n",
    "    polynomial_basis = cp.expansion.stieltjes(\n",
    "        order=degree,\n",
    "        dist=joint_dist_trunc,\n",
    "        normed=True\n",
    "    )\n",
    "    polynomial_approximation = cp.fit_quadrature(\n",
    "        orth=polynomial_basis,\n",
    "        nodes=quadrature_nodes[degree],\n",
    "        weights=quadrature_weights[degree],\n",
    "        solves=bg_top_sample_sets[degree]\n",
    "    )\n",
    "    q_surrogates_bgt[degree] = polynomial_approximation"
   ],
   "metadata": {
    "collapsed": false,
    "ExecuteTime": {
     "start_time": "2024-01-03T02:43:15.471493900Z"
    }
   }
  },
  {
   "cell_type": "code",
   "execution_count": null,
   "outputs": [],
   "source": [
    "### SYNTHESIZE NEW DATAPOINTS WITH SURROGATE MODELS ###\n",
    "N_test_bgt = 1000\n",
    "joint_test_bgt = joint_dist_trunc.sample(N_test_bgt)\n",
    "print(joint_test_bgt.shape)\n",
    "#print(joint_test_bgt[0])\n",
    "surrogate_outputs_bgt = {}\n",
    "surrogate_kdes_bgt = {}\n",
    "surrogate_pdf_bgt = {}\n",
    "for degree in degrees:\n",
    "    surrogate_model = q_surrogates_bgt[degree]\n",
    "    #print(type(surrogate_model))\n",
    "    #print(surrogate_model)\n",
    "    #surrogate_outputs_bgt[degree] = surrogate_model.__call__(joint_test_bgt).astype(float)\n",
    "    surrogate_outputs_bgt[degree] = surrogate_model(\n",
    "        q0=joint_test_bgt[0,:], q1=joint_test_bgt[1,:],\n",
    "        q2=joint_test_bgt[2,:], q3=joint_test_bgt[3,:],\n",
    "        q4=joint_test_bgt[4,:], q5=joint_test_bgt[5,:], q6=joint_test_bgt[6,:])\n",
    "    #print(surrogate_outputs_bgt[degree])\n",
    "    surrogate_kdes_bgt[degree] = gaussian_kde(surrogate_outputs_bgt[degree])\n",
    "    surrogate_pdf_bgt[degree] = surrogate_kdes_bgt[degree](np.linspace(np.min(surrogate_outputs_bgt[degree]), np.max(surrogate_outputs_bgt[degree]), 1000))\n",
    "    \n",
    "    #save surrogate outputs\n",
    "    savemat('surrogate_outputs_bgt_qr_pd_'+str(degree)+'.mat',{'surrogate_outputs_bgt_pd_'+str(degree):surrogate_outputs_bgt[degree]})"
   ],
   "metadata": {
    "collapsed": false,
    "ExecuteTime": {
     "start_time": "2024-01-03T02:43:15.472494300Z"
    }
   }
  },
  {
   "cell_type": "code",
   "execution_count": null,
   "outputs": [],
   "source": [
    "# Plot surrogate model performance\n",
    "fig, axs = plt.subplots(nrows=1, ncols=3, sharey=True, tight_layout=True, figsize=(12,5))\n",
    "\n",
    "# Plot histograms of random samples for comparision with surrogate model\n",
    "axs[0].hist(bg_top_MC_sets[100], bins=50, density=True, alpha=0.5)\n",
    "axs[1].hist(bg_top_MC_sets[1000], bins=50, density=True, alpha=0.5)\n",
    "axs[2].hist(bg_top_MC_sets[10000], bins=50, density=True, alpha=0.5)\n",
    "\n",
    "# Plot surrogate model pdfs\n",
    "for d in degrees:\n",
    "    plot_label = 'PD='+str(d)+', N='+str(len(bg_size_sample_sets[d]))#+str((d+1)**7)\n",
    "    axs[0].scatter(np.linspace(np.min(surrogate_outputs_bgt[d]), np.max(surrogate_outputs_bgt[d]), 1000), surrogate_pdf_bgt[d], label=plot_label, s=1, linewidths=0.5)\n",
    "    axs[1].scatter(np.linspace(np.min(surrogate_outputs_bgt[d]), np.max(surrogate_outputs_bgt[d]), 1000), surrogate_pdf_bgt[d], label=plot_label, s=1, linewidths=0.5)\n",
    "    axs[2].scatter(np.linspace(np.min(surrogate_outputs_bgt[d]), np.max(surrogate_outputs_bgt[d]), 1000), surrogate_pdf_bgt[d], label=plot_label, s=1, linewidths=0.5)\n",
    "\n",
    "axs[0].set_xlabel(\"Model Output (Hz)\")\n",
    "axs[0].set_ylabel(\"Probability Density\")\n",
    "axs[0].legend(loc='best')\n",
    "axs[0].set_title('Quadrature Fits Overlaid\\n on 100 MC Samples')\n",
    "\n",
    "axs[1].set_xlabel(\"Model Output (Hz)\")\n",
    "#axs[1].set_ylabel(\"Probability Density\")\n",
    "axs[1].legend(loc='best')\n",
    "axs[1].set_title('Quadrature Fits Overlaid\\n on 1000 MC Samples')\n",
    "\n",
    "axs[2].set_xlabel(\"Model Output (Hz)\")\n",
    "#axs[2].set_ylabel(\"Probability Density\")\n",
    "axs[2].legend(loc='best')\n",
    "axs[2].set_title('Quadrature Fits Overlaid\\n on 10000 MC Samples')\n",
    "\n",
    "title_str = 'Bandgap Top Output PDFs From 7D Input Space Gauss-Legendre Quadrature Rule Fitted Stochastic Collocation\\n Surrogate Models of Orders '+str(np.min(degrees))+' to '+str(np.max(degrees))+' Overlaid On Histogram of 100, 1000, and 10000 MC Samples'\n",
    "fig.suptitle(title_str)"
   ],
   "metadata": {
    "collapsed": false,
    "ExecuteTime": {
     "start_time": "2024-01-03T02:43:15.473494600Z"
    }
   }
  },
  {
   "cell_type": "markdown",
   "source": [
    "Quadrature fits on bandgap bottom"
   ],
   "metadata": {
    "collapsed": false
   }
  },
  {
   "cell_type": "code",
   "execution_count": null,
   "outputs": [],
   "source": [
    "### FIT SURROGATE MODELS - QUADRATURE RULE - BANDGAP BOTTOM ###\n",
    "q_surrogates_bgb = {}\n",
    "for degree in degrees:\n",
    "    polynomial_basis = cp.expansion.stieltjes(\n",
    "        order=degree,\n",
    "        dist=joint_dist_trunc,\n",
    "        normed=True\n",
    "    )\n",
    "    polynomial_approximation = cp.fit_quadrature(\n",
    "        orth=polynomial_basis,\n",
    "        nodes=quadrature_nodes[degree],\n",
    "        weights=quadrature_weights[degree],\n",
    "        solves=bg_bottom_sample_sets[degree]\n",
    "    )\n",
    "    q_surrogates_bgb[degree] = polynomial_approximation"
   ],
   "metadata": {
    "collapsed": false,
    "ExecuteTime": {
     "end_time": "2024-01-03T02:43:15.478496500Z",
     "start_time": "2024-01-03T02:43:15.474494600Z"
    }
   }
  },
  {
   "cell_type": "code",
   "execution_count": null,
   "outputs": [],
   "source": [
    "### SYNTHESIZE NEW DATAPOINTS WITH SURROGATE MODELS ###\n",
    "N_test_bgb = 1000\n",
    "joint_test_bgb = joint_dist_trunc.sample(N_test_bgb)\n",
    "print(joint_test_bgb.shape)\n",
    "#print(joint_test_bgb[0])\n",
    "surrogate_outputs_bgb = {}\n",
    "surrogate_kdes_bgb = {}\n",
    "surrogate_pdf_bgb = {}\n",
    "for degree in degrees:\n",
    "    surrogate_model = q_surrogates_bgb[degree]\n",
    "    #print(type(surrogate_model))\n",
    "    #print(surrogate_model)\n",
    "    #surrogate_outputs_bgb[degree] = surrogate_model.__call__(joint_test_bgb).astype(float)\n",
    "    surrogate_outputs_bgb[degree] = surrogate_model(\n",
    "        q0=joint_test_bgb[0,:], q1=joint_test_bgb[1,:],\n",
    "        q2=joint_test_bgb[2,:], q3=joint_test_bgb[3,:],\n",
    "        q4=joint_test_bgb[4,:], q5=joint_test_bgb[5,:], q6=joint_test_bgb[6,:])\n",
    "    #print(surrogate_outputs_bgb[degree])\n",
    "    surrogate_kdes_bgb[degree] = gaussian_kde(surrogate_outputs_bgb[degree])\n",
    "    surrogate_pdf_bgb[degree] = surrogate_kdes_bgb[degree](np.linspace(np.min(surrogate_outputs_bgb[degree]), np.max(surrogate_outputs_bgb[degree]), 1000))\n",
    "    \n",
    "    #save surrogate outputs\n",
    "    savemat('surrogate_outputs_bgb_qr_pd_'+str(degree)+'.mat',{'surrogate_outputs_bgb_pd_'+str(degree):surrogate_outputs_bgb[degree]})"
   ],
   "metadata": {
    "collapsed": false,
    "ExecuteTime": {
     "start_time": "2024-01-03T02:43:15.475496300Z"
    }
   }
  },
  {
   "cell_type": "code",
   "execution_count": null,
   "outputs": [],
   "source": [
    "# Plot surrogate model performance\n",
    "fig, axs = plt.subplots(nrows=1, ncols=3, sharey=True, tight_layout=True, figsize=(12,5))\n",
    "\n",
    "# Plot histograms of random samples for comparision with surrogate model\n",
    "axs[0].hist(bg_bottom_MC_sets[100], bins=50, density=True, alpha=0.5)\n",
    "axs[1].hist(bg_bottom_MC_sets[1000], bins=50, density=True, alpha=0.5)\n",
    "axs[2].hist(bg_bottom_MC_sets[10000], bins=50, density=True, alpha=0.5)\n",
    "\n",
    "# Plot surrogate model pdfs\n",
    "for d in degrees:\n",
    "    plot_label = 'PD='+str(d)+', N='+str(len(bg_size_sample_sets[d]))#+str((d+1)**7)\n",
    "    axs[0].scatter(np.linspace(np.min(surrogate_outputs_bgb[d]), np.max(surrogate_outputs_bgb[d]), 1000), surrogate_pdf_bgb[d], label=plot_label, s=1, linewidths=0.5)\n",
    "    axs[1].scatter(np.linspace(np.min(surrogate_outputs_bgb[d]), np.max(surrogate_outputs_bgb[d]), 1000), surrogate_pdf_bgb[d], label=plot_label, s=1, linewidths=0.5)\n",
    "    axs[2].scatter(np.linspace(np.min(surrogate_outputs_bgb[d]), np.max(surrogate_outputs_bgb[d]), 1000), surrogate_pdf_bgb[d], label=plot_label, s=1, linewidths=0.5)\n",
    "\n",
    "axs[0].set_xlabel(\"Model Output (Hz)\")\n",
    "axs[0].set_ylabel(\"Probability Density\")\n",
    "axs[0].legend(loc='best')\n",
    "axs[0].set_title('Quadrature Fits Overlaid\\n on 100 MC Samples')\n",
    "\n",
    "axs[1].set_xlabel(\"Model Output (Hz)\")\n",
    "#axs[1].set_ylabel(\"Probability Density\")\n",
    "axs[1].legend(loc='best')\n",
    "axs[1].set_title('Quadrature Fits Overlaid\\n on 1000 MC Samples')\n",
    "\n",
    "axs[2].set_xlabel(\"Model Output (Hz)\")\n",
    "#axs[2].set_ylabel(\"Probability Density\")\n",
    "axs[2].legend(loc='best')\n",
    "axs[2].set_title('Quadrature Fits Overlaid\\n on 10000 MC Samples')\n",
    "\n",
    "title_str = 'Bandgap Bottom Output PDFs From 7D Input Space Gauss-Legendre Quadrature Rule Fitted Stochastic Collocation\\n Surrogate Models of Orders '+str(np.min(degrees))+' to '+str(np.max(degrees))+' Overlaid On Histogram of 100, 1000, and 10000 MC Samples'\n",
    "fig.suptitle(title_str)"
   ],
   "metadata": {
    "collapsed": false,
    "ExecuteTime": {
     "start_time": "2024-01-03T02:43:15.476495800Z"
    }
   }
  },
  {
   "cell_type": "markdown",
   "source": [
    "Quadrature fits on bandgap center"
   ],
   "metadata": {
    "collapsed": false
   }
  },
  {
   "cell_type": "code",
   "execution_count": null,
   "outputs": [],
   "source": [
    "### FIT SURROGATE MODELS - QUADRATURE RULE - BANDGAP CENTER ###\n",
    "q_surrogates_bgc = {}\n",
    "\n",
    "for degree in degrees:\n",
    "    polynomial_basis = cp.expansion.stieltjes(\n",
    "        order=degree,\n",
    "        dist=joint_dist_trunc,\n",
    "        normed=True\n",
    "    )\n",
    "    polynomial_approximation = cp.fit_quadrature(\n",
    "        orth=polynomial_basis,\n",
    "        nodes=quadrature_nodes[degree],\n",
    "        weights=quadrature_weights[degree],\n",
    "        solves=bg_center_sample_sets[degree]\n",
    "    )\n",
    "    q_surrogates_bgc[degree] = polynomial_approximation"
   ],
   "metadata": {
    "collapsed": false,
    "ExecuteTime": {
     "start_time": "2024-01-03T02:43:15.477496Z"
    }
   }
  },
  {
   "cell_type": "code",
   "execution_count": null,
   "outputs": [],
   "source": [
    "### SYNTHESIZE NEW DATAPOINTS WITH SURROGATE MODELS ###\n",
    "N_test_bgc = 1000\n",
    "joint_test_bgc = joint_dist_trunc.sample(N_test_bgc)\n",
    "print(joint_test_bgc.shape)\n",
    "#print(joint_test_bgc[0])\n",
    "surrogate_outputs_bgc = {}\n",
    "surrogate_kdes_bgc = {}\n",
    "surrogate_pdf_bgc = {}\n",
    "for degree in degrees:\n",
    "    surrogate_model = q_surrogates_bgc[degree]\n",
    "    #print(type(surrogate_model))\n",
    "    #print(surrogate_model)\n",
    "    #surrogate_outputs_bgc[degree] = surrogate_model.__call__(joint_test_bgc).astype(float)\n",
    "    surrogate_outputs_bgc[degree] = surrogate_model(\n",
    "        q0=joint_test_bgc[0,:], q1=joint_test_bgc[1,:],\n",
    "        q2=joint_test_bgc[2,:], q3=joint_test_bgc[3,:],\n",
    "        q4=joint_test_bgc[4,:], q5=joint_test_bgc[5,:], q6=joint_test_bgc[6,:])\n",
    "    #print(surrogate_outputs_bgc[degree])\n",
    "    surrogate_kdes_bgc[degree] = gaussian_kde(surrogate_outputs_bgc[degree])\n",
    "    surrogate_pdf_bgc[degree] = surrogate_kdes_bgc[degree](np.linspace(np.min(surrogate_outputs_bgc[degree]), np.max(surrogate_outputs_bgc[degree]), 1000))\n",
    "    \n",
    "    #save surrogate outputs\n",
    "    savemat('surrogate_outputs_bgc_qr_pd_'+str(degree)+'.mat',{'surrogate_outputs_bgc_pd_'+str(degree):surrogate_outputs_bgc[degree]})"
   ],
   "metadata": {
    "collapsed": false,
    "ExecuteTime": {
     "end_time": "2024-01-03T02:43:15.495500300Z",
     "start_time": "2024-01-03T02:43:15.479496400Z"
    }
   }
  },
  {
   "cell_type": "code",
   "execution_count": null,
   "outputs": [],
   "source": [
    "# Plot surrogate model performance\n",
    "fig, axs = plt.subplots(nrows=1, ncols=3, sharey=True, tight_layout=True, figsize=(12,5))\n",
    "\n",
    "# Plot histograms of random samples for comparision with surrogate model\n",
    "axs[0].hist(bg_center_MC_sets[100], bins=50, density=True, alpha=0.5)\n",
    "axs[1].hist(bg_center_MC_sets[1000], bins=50, density=True, alpha=0.5)\n",
    "axs[2].hist(bg_center_MC_sets[10000], bins=50, density=True, alpha=0.5)\n",
    "\n",
    "# Plot surrogate model pdfs\n",
    "for d in degrees:\n",
    "    plot_label = 'PD='+str(d)+', N='+str(len(bg_size_sample_sets[d]))#+str((d+1)**7)\n",
    "    axs[0].scatter(np.linspace(np.min(surrogate_outputs_bgc[d]), np.max(surrogate_outputs_bgc[d]), 1000), surrogate_pdf_bgc[d], label=plot_label, s=1, linewidths=0.5)\n",
    "    axs[1].scatter(np.linspace(np.min(surrogate_outputs_bgc[d]), np.max(surrogate_outputs_bgc[d]), 1000), surrogate_pdf_bgc[d], label=plot_label, s=1, linewidths=0.5)\n",
    "    axs[2].scatter(np.linspace(np.min(surrogate_outputs_bgc[d]), np.max(surrogate_outputs_bgc[d]), 1000), surrogate_pdf_bgc[d], label=plot_label, s=1, linewidths=0.5)\n",
    "\n",
    "axs[0].set_xlabel(\"Model Output (Hz)\")\n",
    "axs[0].set_ylabel(\"Probability Density\")\n",
    "axs[0].legend(loc='best')\n",
    "axs[0].set_title('Quadrature Fits Overlaid\\n on 100 MC Samples')\n",
    "\n",
    "axs[1].set_xlabel(\"Model Output (Hz)\")\n",
    "#axs[1].set_ylabel(\"Probability Density\")\n",
    "axs[1].legend(loc='best')\n",
    "axs[1].set_title('Quadrature Fits Overlaid\\n on 1000 MC Samples')\n",
    "\n",
    "axs[2].set_xlabel(\"Model Output (Hz)\")\n",
    "#axs[2].set_ylabel(\"Probability Density\")\n",
    "axs[2].legend(loc='best')\n",
    "axs[2].set_title('Quadrature Fits Overlaid\\n on 10000 MC Samples')\n",
    "\n",
    "title_str = 'Bandgap Center Output PDFs From 7D Input Space Gauss-Legendre Quadrature Rule Fitted Stochastic Collocation\\n Surrogate Models of Orders '+str(np.min(degrees))+' to '+str(np.max(degrees))+' Overlaid On Histogram of 100, 1000, and 10000 MC Samples'\n",
    "fig.suptitle(title_str)"
   ],
   "metadata": {
    "collapsed": false,
    "ExecuteTime": {
     "start_time": "2024-01-03T02:43:15.480497200Z"
    }
   }
  },
  {
   "cell_type": "markdown",
   "source": [
    "Alternative Graphs"
   ],
   "metadata": {
    "collapsed": false
   }
  },
  {
   "cell_type": "code",
   "execution_count": null,
   "outputs": [],
   "source": [
    "fig, axs = plt.subplots(nrows=1, ncols=3, sharey=True, tight_layout=True, figsize=(12,5))\n",
    "axs[0].hist(bg_top_MC_sets[100], bins=50, density=True, alpha=0.5, label='Bandgap Top')\n",
    "axs[1].hist(bg_top_MC_sets[1000], bins=50, density=True, alpha=0.5, label='Bandgap Top')\n",
    "axs[2].hist(bg_top_MC_sets[10000], bins=50, density=True, alpha=0.5, label='Bandgap Top')\n",
    "axs[0].hist(bg_bottom_MC_sets[100], bins=50, density=True, alpha=0.5, label='Bandgap Bottom')\n",
    "axs[1].hist(bg_bottom_MC_sets[1000], bins=50, density=True, alpha=0.5, label='Bandgap Bottom')\n",
    "axs[2].hist(bg_bottom_MC_sets[10000], bins=50, density=True, alpha=0.5, label='Bandgap Bottom')\n",
    "axs[0].hist(bg_center_MC_sets[100], bins=50, density=True, alpha=0.5, label='Bandgap Center')\n",
    "axs[1].hist(bg_center_MC_sets[1000], bins=50, density=True, alpha=0.5, label='Bandgap Center')\n",
    "axs[2].hist(bg_center_MC_sets[10000], bins=50, density=True, alpha=0.5, label='Bandgap Center')\n",
    "# axs[0].hist(bg_size_MC_sets[100], bins=50, density=True, alpha=0.5)\n",
    "# axs[1].hist(bg_size_MC_sets[1000], bins=50, density=True, alpha=0.5)\n",
    "# axs[2].hist(bg_size_MC_sets[10000], bins=50, density=True, alpha=0.5)\n",
    "\n",
    "axs[0].set_xlabel(\"Model Output (Hz)\")\n",
    "axs[0].set_ylabel(\"Probability Density\")\n",
    "axs[0].legend(loc='best')\n",
    "axs[0].set_title('100 MC Samples')\n",
    "\n",
    "axs[1].set_xlabel(\"Model Output (Hz)\")\n",
    "#axs[1].set_ylabel(\"Probability Density\")\n",
    "axs[1].legend(loc='best')\n",
    "axs[1].set_title('1000 MC Samples')\n",
    "\n",
    "axs[2].set_xlabel(\"Model Output (Hz)\")\n",
    "#axs[2].set_ylabel(\"Probability Density\")\n",
    "axs[2].legend(loc='best')\n",
    "axs[2].set_title('10000 MC Samples')\n",
    "\n",
    "title_str = 'Histograms of 100, 1000, & 10000 MC Samples\\' Computed Bandgap Top, Bottom,\\n and Center Locations For 7D Input Space, Gaussian Distributions'\n",
    "fig.suptitle(title_str)\n"
   ],
   "metadata": {
    "collapsed": false,
    "ExecuteTime": {
     "start_time": "2024-01-03T02:43:15.481496Z"
    }
   }
  },
  {
   "cell_type": "code",
   "execution_count": null,
   "outputs": [],
   "source": [
    "fig, axs = plt.subplots(nrows=1, ncols=3, sharey=True, tight_layout=True, figsize=(12,5))\n",
    "axs[0].hist(bg_top_MC_sets[100], bins=50, density=True, alpha=0.5, label='Bandgap Top')\n",
    "axs[1].hist(bg_top_MC_sets[1000], bins=50, density=True, alpha=0.5, label='Bandgap Top')\n",
    "axs[2].hist(bg_top_MC_sets[10000], bins=50, density=True, alpha=0.5, label='Bandgap Top')\n",
    "axs[0].hist(bg_bottom_MC_sets[100], bins=50, density=True, alpha=0.5, label='Bandgap Bottom')\n",
    "axs[1].hist(bg_bottom_MC_sets[1000], bins=50, density=True, alpha=0.5, label='Bandgap Bottom')\n",
    "axs[2].hist(bg_bottom_MC_sets[10000], bins=50, density=True, alpha=0.5, label='Bandgap Bottom')\n",
    "axs[0].hist(bg_size_MC_sets[100], bins=50, density=True, alpha=0.5, label='Bandgap Size')\n",
    "axs[1].hist(bg_size_MC_sets[1000], bins=50, density=True, alpha=0.5, label='Bandgap Size')\n",
    "axs[2].hist(bg_size_MC_sets[10000], bins=50, density=True, alpha=0.5, label='Bandgap Size')\n",
    "\n",
    "axs[0].set_xlabel(\"Model Output (Hz)\")\n",
    "axs[0].set_ylabel(\"Probability Density\")\n",
    "axs[0].legend(loc='best')\n",
    "axs[0].set_title('100 MC Samples')\n",
    "\n",
    "axs[1].set_xlabel(\"Model Output (Hz)\")\n",
    "#axs[1].set_ylabel(\"Probability Density\")\n",
    "axs[1].legend(loc='best')\n",
    "axs[1].set_title('1000 MC Samples')\n",
    "\n",
    "axs[2].set_xlabel(\"Model Output (Hz)\")\n",
    "#axs[2].set_ylabel(\"Probability Density\")\n",
    "axs[2].legend(loc='best')\n",
    "axs[2].set_title('10000 MC Samples')\n",
    "\n",
    "title_str = 'Histograms of 100, 1000, & 10000 MC Samples\\' Computed Bandgap Top and Bottom Locations\\n and Bandgap Size For 7D Input Space, Gaussian Distributions'\n",
    "fig.suptitle(title_str)"
   ],
   "metadata": {
    "collapsed": false,
    "ExecuteTime": {
     "start_time": "2024-01-03T02:43:15.482497500Z"
    }
   }
  },
  {
   "cell_type": "code",
   "execution_count": null,
   "outputs": [],
   "source": [
    "fig, axs = plt.subplots(nrows=1, ncols=3, sharey=True, tight_layout=True, figsize=(12,5))\n",
    "axs[0].hist(bg_top_MC_sets[100], bins=50, density=True, alpha=0.5, label='Bandgap Top')\n",
    "axs[1].hist(bg_top_MC_sets[1000], bins=50, density=True, alpha=0.5, label='Bandgap Top')\n",
    "axs[2].hist(bg_top_MC_sets[10000], bins=50, density=True, alpha=0.5, label='Bandgap Top')\n",
    "axs[0].hist(bg_bottom_MC_sets[100], bins=50, density=True, alpha=0.5, label='Bandgap Bottom')\n",
    "axs[1].hist(bg_bottom_MC_sets[1000], bins=50, density=True, alpha=0.5, label='Bandgap Bottom')\n",
    "axs[2].hist(bg_bottom_MC_sets[10000], bins=50, density=True, alpha=0.5, label='Bandgap Bottom')\n",
    "\n",
    "axs[0].set_xlabel(\"Model Output (Hz)\")\n",
    "axs[0].set_ylabel(\"Probability Density\")\n",
    "axs[0].legend(loc='best')\n",
    "axs[0].set_title('100 MC Samples')\n",
    "\n",
    "axs[1].set_xlabel(\"Model Output (Hz)\")\n",
    "#axs[1].set_ylabel(\"Probability Density\")\n",
    "axs[1].legend(loc='best')\n",
    "axs[1].set_title('1000 MC Samples')\n",
    "\n",
    "axs[2].set_xlabel(\"Model Output (Hz)\")\n",
    "#axs[2].set_ylabel(\"Probability Density\")\n",
    "axs[2].legend(loc='best')\n",
    "axs[2].set_title('10000 MC Samples')\n",
    "\n",
    "title_str = 'Histograms of 100, 1000, & 10000 MC Samples\\' Computed Bandgap Top\\n and Bottom Locations For 7D Input Space, Gaussian Distributions'\n",
    "fig.suptitle(title_str)"
   ],
   "metadata": {
    "collapsed": false,
    "ExecuteTime": {
     "start_time": "2024-01-03T02:43:15.483497900Z"
    }
   }
  },
  {
   "cell_type": "markdown",
   "source": [
    "Stochastic Collocation - MC Regression - Bandgap Size"
   ],
   "metadata": {
    "collapsed": false
   }
  },
  {
   "cell_type": "code",
   "execution_count": null,
   "outputs": [],
   "source": [
    "MC_inputs = {}\n",
    "# MC_inputs[N_MC2] = joint_samples_MC2\n",
    "# MC_inputs[N_MC3] = joint_samples_MC3\n",
    "# MC_inputs[N_MC4] = joint_samples_MC4\n",
    "for n in set_N:\n",
    "    MC_inputs[n] = np.hstack((\n",
    "        E_soft_MC_sets[n],\n",
    "        E_hard_MC_sets[n],\n",
    "        rho_soft_MC_sets[n],\n",
    "        rho_hard_MC_sets[n],\n",
    "        pr_soft_MC_sets[n],\n",
    "        pr_hard_MC_sets[n],\n",
    "        geo_fp_MC_sets[n]\n",
    "    ))\n",
    "\n",
    "MC_degrees = {}\n",
    "MC_degrees[N_MC2] = np.array([1,2,3,4])\n",
    "MC_degrees[N_MC3] = np.array([1,2,3,4])\n",
    "MC_degrees[N_MC4] = np.array([1,2,3,4])\n",
    "print(E_soft_MC_sets[100].shape)\n",
    "print(MC_inputs[N_MC2].shape)\n",
    "print(MC_inputs[N_MC3].shape)\n",
    "print(MC_inputs[N_MC4].shape)\n",
    "print(type(MC_degrees))\n",
    "print(type(MC_degrees[N_MC2]))"
   ],
   "metadata": {
    "collapsed": false,
    "ExecuteTime": {
     "start_time": "2024-01-03T02:43:15.484497600Z"
    }
   }
  },
  {
   "cell_type": "code",
   "execution_count": null,
   "outputs": [],
   "source": [
    "# r_surrogates_bgs_MC_100 = {}\n",
    "# for degree in MC_degrees[N_MC2]:\n",
    "#     polynomial_basis = cp.expansion.stieltjes(\n",
    "#         order=degree,\n",
    "#         dist=joint_dist_trunc,\n",
    "#         normed=True\n",
    "#     )\n",
    "#     # print(fit_input.shape)\n",
    "#     # print(bg_size_MC_sets[100].shape)\n",
    "#     polynomial_approximation = cp.fit_regression(\n",
    "#         polynomials=polynomial_basis,\n",
    "#         abscissas=MC_inputs[N_MC2],\n",
    "#         evals=bg_size_MC_sets[N_MC2],\n",
    "#     )\n",
    "#     r_surrogates_bgs_MC_100[degree] = polynomial_approximation"
   ],
   "metadata": {
    "collapsed": false,
    "ExecuteTime": {
     "start_time": "2024-01-03T02:43:15.485498Z"
    }
   }
  },
  {
   "cell_type": "code",
   "execution_count": null,
   "outputs": [],
   "source": [
    "### FIT SURROGATE MODELS - MONTE CARLO REGRESSION ###\n",
    "r_surrogates_bgs = {}\n",
    "for n in set_N:\n",
    "    print(n)\n",
    "    r_surrogates_bgs[n] = {}\n",
    "    for degree in MC_degrees[n]:\n",
    "        polynomial_basis = cp.expansion.stieltjes(\n",
    "            order=degree,\n",
    "            dist=joint_dist_trunc,\n",
    "            normed=True\n",
    "        )\n",
    "        # print(bg_size_MC_sets[100].shape)\n",
    "        polynomial_approximation = cp.fit_regression(\n",
    "            polynomials=polynomial_basis,\n",
    "            abscissas=MC_inputs[n].T,\n",
    "            evals=bg_size_MC_sets[n],\n",
    "        )\n",
    "        r_surrogates_bgs[n][degree] = polynomial_approximation"
   ],
   "metadata": {
    "collapsed": false,
    "ExecuteTime": {
     "start_time": "2024-01-03T02:43:15.486498400Z"
    }
   }
  },
  {
   "cell_type": "code",
   "execution_count": null,
   "outputs": [],
   "source": [
    "### SYNTHESIZE NEW DATAPOINTS WITH SURROGATE MODELS ###\n",
    "N_test_mc = 1000\n",
    "joint_test_mc = joint_dist_trunc.sample(N_test_mc)\n",
    "#print(joint_test_mc.shape)\n",
    "#print(joint_test_mc[0])\n",
    "mc_surrogate_outputs = {}\n",
    "mc_surrogate_kdes = {}\n",
    "mc_surrogate_pdf = {}\n",
    "for n in set_N:\n",
    "    mc_surrogate_outputs[n] = {}\n",
    "    mc_surrogate_kdes[n] = {}\n",
    "    mc_surrogate_pdf[n] = {}\n",
    "\n",
    "    for degree in MC_degrees[n]:\n",
    "        mc_surrogate_model = r_surrogates_bgs[n][degree]\n",
    "        #print(type(mc_surrogate_model))\n",
    "        #print(mc_surrogate_model)\n",
    "        mc_surrogate_outputs[n][degree] = mc_surrogate_model(\n",
    "            q0=joint_test_mc[0,:], q1=joint_test_mc[1,:],\n",
    "            q2=joint_test_mc[2,:], q3=joint_test_mc[3,:],\n",
    "            q4=joint_test_mc[4,:], q5=joint_test_mc[5,:], q6=joint_test_mc[6,:])\n",
    "        #print(mc_surrogate_outputs[n][degree])\n",
    "        mc_surrogate_kdes[n][degree] = gaussian_kde(mc_surrogate_outputs[n][degree])\n",
    "        mc_surrogate_pdf[n][degree] = mc_surrogate_kdes[n][degree](np.linspace(np.min(mc_surrogate_outputs[n][degree]), np.max(mc_surrogate_outputs[n][degree]), 1000))\n",
    "        \n",
    "        #save surrogate outputs\n",
    "        savemat('surrogate_outputs_bgs_mc_'+str(n)+'_pd_'+str(degree)+'.mat',{'surrogate_outputs_bgs_mc_'+str(n)+'_pd_'+str(degree):mc_surrogate_outputs[n][degree]})"
   ],
   "metadata": {
    "collapsed": false,
    "ExecuteTime": {
     "start_time": "2024-01-03T02:43:15.488499200Z"
    }
   }
  },
  {
   "cell_type": "code",
   "execution_count": null,
   "outputs": [],
   "source": [
    "# Plot surrogate model performance\n",
    "fig, axs = plt.subplots(nrows=1, ncols=3, sharey=True, tight_layout=True, figsize=(12,5))\n",
    "\n",
    "# Plot histograms of random samples for comparision with surrogate model\n",
    "axs[0].hist(bg_size_MC_sets[100], bins=50, density=True, alpha=0.5)\n",
    "axs[1].hist(bg_size_MC_sets[1000], bins=50, density=True, alpha=0.5)\n",
    "axs[2].hist(bg_size_MC_sets[10000], bins=50, density=True, alpha=0.5)\n",
    "\n",
    "# Plot surrogate model pdfs\n",
    "for d in MC_degrees[N_MC2]:\n",
    "    plot_label = 'PD='+str(d)\n",
    "    axs[0].scatter(np.linspace(np.min(mc_surrogate_outputs[N_MC2][d]), np.max(mc_surrogate_outputs[N_MC2][d]), 1000), mc_surrogate_pdf[N_MC2][d], label=plot_label, s=1, linewidths=0.5)\n",
    "    axs[1].scatter(np.linspace(np.min(mc_surrogate_outputs[N_MC2][d]), np.max(mc_surrogate_outputs[N_MC2][d]), 1000), mc_surrogate_pdf[N_MC2][d], label=plot_label, s=1, linewidths=0.5)\n",
    "    axs[2].scatter(np.linspace(np.min(mc_surrogate_outputs[N_MC2][d]), np.max(mc_surrogate_outputs[N_MC2][d]), 1000), mc_surrogate_pdf[N_MC2][d], label=plot_label, s=1, linewidths=0.5)\n",
    "\n",
    "axs[0].set_xlabel(\"Model Output (Hz)\")\n",
    "axs[0].set_ylabel(\"Probability Density\")\n",
    "axs[0].legend(loc='best')\n",
    "axs[0].set_title('MC Regression Overlaid\\n on 100 MC Samples')\n",
    "\n",
    "axs[1].set_xlabel(\"Model Output (Hz)\")\n",
    "#axs[1].set_ylabel(\"Probability Density\")\n",
    "axs[1].legend(loc='best')\n",
    "axs[1].set_title('MC Regression Overlaid\\n on 1000 MC Samples')\n",
    "\n",
    "axs[2].set_xlabel(\"Model Output (Hz)\")\n",
    "#axs[2].set_ylabel(\"Probability Density\")\n",
    "axs[2].legend(loc='best')\n",
    "axs[2].set_title('MC Regression Overlaid\\n on 10000 MC Samples')\n",
    "\n",
    "title_str = 'Bandgap Size Output PDFs From '+str(N_MC2)+' Monte Carlo Samples Fitted Stochastic Collocation \\nSurrogate Models of Orders '+str(np.min(MC_degrees[N_MC2]))+' to '+str(np.max(MC_degrees[N_MC2]))+' Overlaid On Histogram of 100, 1000, and 10000 MC Samples'\n",
    "fig.suptitle(title_str)"
   ],
   "metadata": {
    "collapsed": false,
    "ExecuteTime": {
     "start_time": "2024-01-03T02:43:15.489499200Z"
    }
   }
  },
  {
   "cell_type": "code",
   "execution_count": null,
   "outputs": [],
   "source": [
    "# Plot surrogate model performance\n",
    "fig, axs = plt.subplots(nrows=1, ncols=3, sharex=True, sharey=True, tight_layout=True, figsize=(12,5))\n",
    "\n",
    "# Plot histograms of random samples for comparision with surrogate model\n",
    "axs[0].hist(bg_size_MC_sets[100], bins=50, density=True, alpha=0.5)\n",
    "axs[1].hist(bg_size_MC_sets[1000], bins=50, density=True, alpha=0.5)\n",
    "axs[2].hist(bg_size_MC_sets[10000], bins=50, density=True, alpha=0.5)\n",
    "\n",
    "# Plot surrogate model pdfs\n",
    "for d in MC_degrees[N_MC3]:\n",
    "    plot_label = 'PD='+str(d)\n",
    "    axs[0].scatter(np.linspace(np.min(mc_surrogate_outputs[N_MC3][d]), np.max(mc_surrogate_outputs[N_MC3][d]), 1000), mc_surrogate_pdf[N_MC3][d], label=plot_label, s=1, linewidths=0.5)\n",
    "    axs[1].scatter(np.linspace(np.min(mc_surrogate_outputs[N_MC3][d]), np.max(mc_surrogate_outputs[N_MC3][d]), 1000), mc_surrogate_pdf[N_MC3][d], label=plot_label, s=1, linewidths=0.5)\n",
    "    axs[2].scatter(np.linspace(np.min(mc_surrogate_outputs[N_MC3][d]), np.max(mc_surrogate_outputs[N_MC3][d]), 1000), mc_surrogate_pdf[N_MC3][d], label=plot_label, s=1, linewidths=0.5)\n",
    "\n",
    "axs[0].set_xlabel(\"Model Output (Hz)\")\n",
    "axs[0].set_ylabel(\"Probability Density\")\n",
    "axs[0].legend(loc='best')\n",
    "axs[0].set_title('MC Regression Overlaid\\n on 100 MC Samples')\n",
    "\n",
    "axs[1].set_xlabel(\"Model Output (Hz)\")\n",
    "#axs[1].set_ylabel(\"Probability Density\")\n",
    "axs[1].legend(loc='best')\n",
    "axs[1].set_title('MC Regression Overlaid\\n on 1000 MC Samples')\n",
    "\n",
    "axs[2].set_xlabel(\"Model Output (Hz)\")\n",
    "#axs[2].set_ylabel(\"Probability Density\")\n",
    "axs[2].legend(loc='best')\n",
    "axs[2].set_title('MC Regression Overlaid\\n on 10000 MC Samples')\n",
    "\n",
    "title_str = 'Bandgap Size Output PDFs From '+str(N_MC3)+' Monte Carlo Samples Fitted Stochastic Collocation \\nSurrogate Models of Orders '+str(np.min(MC_degrees[N_MC3]))+' to '+str(np.max(MC_degrees[N_MC3]))+' Overlaid On Histogram of 100, 1000, and 10000 MC Samples'\n",
    "fig.suptitle(title_str)"
   ],
   "metadata": {
    "collapsed": false,
    "ExecuteTime": {
     "start_time": "2024-01-03T02:43:15.490498600Z"
    }
   }
  },
  {
   "cell_type": "code",
   "execution_count": null,
   "outputs": [],
   "source": [
    "# Plot surrogate model performance\n",
    "fig, axs = plt.subplots(nrows=1, ncols=3, sharey=True, tight_layout=True, figsize=(12,5))\n",
    "\n",
    "# Plot histograms of random samples for comparision with surrogate model\n",
    "axs[0].hist(bg_size_MC_sets[100], bins=50, density=True, alpha=0.5)\n",
    "axs[1].hist(bg_size_MC_sets[1000], bins=50, density=True, alpha=0.5)\n",
    "axs[2].hist(bg_size_MC_sets[10000], bins=50, density=True, alpha=0.5)\n",
    "\n",
    "# Plot surrogate model pdfs\n",
    "for d in MC_degrees[N_MC4]:\n",
    "    plot_label = 'PD='+str(d)\n",
    "    axs[0].scatter(np.linspace(np.min(mc_surrogate_outputs[N_MC4][d]), np.max(mc_surrogate_outputs[N_MC4][d]), 1000), mc_surrogate_pdf[N_MC4][d], label=plot_label, s=1, linewidths=0.5)\n",
    "    axs[1].scatter(np.linspace(np.min(mc_surrogate_outputs[N_MC4][d]), np.max(mc_surrogate_outputs[N_MC4][d]), 1000), mc_surrogate_pdf[N_MC4][d], label=plot_label, s=1, linewidths=0.5)\n",
    "    axs[2].scatter(np.linspace(np.min(mc_surrogate_outputs[N_MC4][d]), np.max(mc_surrogate_outputs[N_MC4][d]), 1000), mc_surrogate_pdf[N_MC4][d], label=plot_label, s=1, linewidths=0.5)\n",
    "\n",
    "axs[0].set_xlabel(\"Model Output (Hz)\")\n",
    "axs[0].set_ylabel(\"Probability Density\")\n",
    "axs[0].legend(loc='best')\n",
    "axs[0].set_title('MC Regression Overlaid\\n on 100 MC Samples')\n",
    "\n",
    "axs[1].set_xlabel(\"Model Output (Hz)\")\n",
    "#axs[1].set_ylabel(\"Probability Density\")\n",
    "axs[1].legend(loc='best')\n",
    "axs[1].set_title('MC Regression Overlaid\\n on 1000 MC Samples')\n",
    "\n",
    "axs[2].set_xlabel(\"Model Output (Hz)\")\n",
    "#axs[2].set_ylabel(\"Probability Density\")\n",
    "axs[2].legend(loc='best')\n",
    "axs[2].set_title('MC Regression Overlaid\\n on 10000 MC Samples')\n",
    "\n",
    "title_str = 'Bandgap Size Output PDFs From '+str(N_MC4)+' Monte Carlo Samples Fitted Stochastic Collocation \\nSurrogate Models of Orders '+str(np.min(MC_degrees[N_MC4]))+' to '+str(np.max(MC_degrees[N_MC4]))+' Overlaid On Histogram of 100, 1000, and 10000 MC Samples'\n",
    "fig.suptitle(title_str)"
   ],
   "metadata": {
    "collapsed": false,
    "ExecuteTime": {
     "start_time": "2024-01-03T02:43:15.492498600Z"
    }
   }
  },
  {
   "cell_type": "markdown",
   "source": [
    "Stochastic Collocation - MC Regression - Bandgap Top"
   ],
   "metadata": {
    "collapsed": false
   }
  },
  {
   "cell_type": "code",
   "execution_count": null,
   "outputs": [],
   "source": [
    "### FIT SURROGATE MODELS - MONTE CARLO REGRESSION ###\n",
    "r_surrogates_bgt = {}\n",
    "for n in set_N:\n",
    "    print(n)\n",
    "    r_surrogates_bgt[n] = {}\n",
    "    for degree in MC_degrees[n]:\n",
    "        polynomial_basis = cp.expansion.stieltjes(\n",
    "            order=degree,\n",
    "            dist=joint_dist_trunc,\n",
    "            normed=True\n",
    "        )\n",
    "        # print(bg_size_MC_sets[100].shape)\n",
    "        polynomial_approximation = cp.fit_regression(\n",
    "            polynomials=polynomial_basis,\n",
    "            abscissas=MC_inputs[n].T,\n",
    "            evals=bg_top_MC_sets[n],\n",
    "        )\n",
    "        r_surrogates_bgt[n][degree] = polynomial_approximation"
   ],
   "metadata": {
    "collapsed": false,
    "ExecuteTime": {
     "start_time": "2024-01-03T02:43:15.493499200Z"
    }
   }
  },
  {
   "cell_type": "code",
   "execution_count": null,
   "outputs": [],
   "source": [
    "### SYNTHESIZE NEW DATAPOINTS WITH SURROGATE MODELS ###\n",
    "N_test_mc = 1000\n",
    "joint_test_mc = joint_dist_trunc.sample(N_test_mc)\n",
    "#print(joint_test_mc.shape)\n",
    "#print(joint_test_mc[0])\n",
    "mc_surrogate_outputs = {}\n",
    "mc_surrogate_kdes = {}\n",
    "mc_surrogate_pdf = {}\n",
    "for n in set_N:\n",
    "    mc_surrogate_outputs[n] = {}\n",
    "    mc_surrogate_kdes[n] = {}\n",
    "    mc_surrogate_pdf[n] = {}\n",
    "\n",
    "    for degree in MC_degrees[n]:\n",
    "        mc_surrogate_model = r_surrogates_bgt[n][degree]\n",
    "        #print(type(mc_surrogate_model))\n",
    "        #print(mc_surrogate_model)\n",
    "        mc_surrogate_outputs[n][degree] = mc_surrogate_model(\n",
    "            q0=joint_test_mc[0,:], q1=joint_test_mc[1,:],\n",
    "            q2=joint_test_mc[2,:], q3=joint_test_mc[3,:],\n",
    "            q4=joint_test_mc[4,:], q5=joint_test_mc[5,:], q6=joint_test_mc[6,:])\n",
    "        #print(mc_surrogate_outputs[n][degree])\n",
    "        mc_surrogate_kdes[n][degree] = gaussian_kde(mc_surrogate_outputs[n][degree])\n",
    "        mc_surrogate_pdf[n][degree] = mc_surrogate_kdes[n][degree](np.linspace(np.min(mc_surrogate_outputs[n][degree]), np.max(mc_surrogate_outputs[n][degree]), 1000))\n",
    "        \n",
    "        #save surrogate outputs\n",
    "        savemat('surrogate_outputs_bgt_mc_'+str(n)+'_pd_'+str(degree)+'.mat',{'surrogate_outputs_bgt_mc_'+str(n)+'_pd_'+str(degree):mc_surrogate_outputs[n][degree]})"
   ],
   "metadata": {
    "collapsed": false,
    "ExecuteTime": {
     "start_time": "2024-01-03T02:43:15.493499200Z"
    }
   }
  },
  {
   "cell_type": "code",
   "execution_count": null,
   "outputs": [],
   "source": [
    "# Plot surrogate model performance\n",
    "fig, axs = plt.subplots(nrows=1, ncols=3, sharey=True, tight_layout=True, figsize=(12,5))\n",
    "\n",
    "# Plot histograms of random samples for comparision with surrogate model\n",
    "axs[0].hist(bg_top_MC_sets[100], bins=50, density=True, alpha=0.5)\n",
    "axs[1].hist(bg_top_MC_sets[1000], bins=50, density=True, alpha=0.5)\n",
    "axs[2].hist(bg_top_MC_sets[10000], bins=50, density=True, alpha=0.5)\n",
    "\n",
    "# Plot surrogate model pdfs\n",
    "for d in MC_degrees[N_MC2]:\n",
    "    plot_label = 'PD='+str(d)\n",
    "    axs[0].scatter(np.linspace(np.min(mc_surrogate_outputs[N_MC2][d]), np.max(mc_surrogate_outputs[N_MC2][d]), 1000), mc_surrogate_pdf[N_MC2][d], label=plot_label, s=1, linewidths=0.5)\n",
    "    axs[1].scatter(np.linspace(np.min(mc_surrogate_outputs[N_MC2][d]), np.max(mc_surrogate_outputs[N_MC2][d]), 1000), mc_surrogate_pdf[N_MC2][d], label=plot_label, s=1, linewidths=0.5)\n",
    "    axs[2].scatter(np.linspace(np.min(mc_surrogate_outputs[N_MC2][d]), np.max(mc_surrogate_outputs[N_MC2][d]), 1000), mc_surrogate_pdf[N_MC2][d], label=plot_label, s=1, linewidths=0.5)\n",
    "\n",
    "axs[0].set_xlabel(\"Model Output (Hz)\")\n",
    "axs[0].set_ylabel(\"Probability Density\")\n",
    "axs[0].legend(loc='best')\n",
    "axs[0].set_title('MC Regression Overlaid\\n on 100 MC Samples')\n",
    "\n",
    "axs[1].set_xlabel(\"Model Output (Hz)\")\n",
    "#axs[1].set_ylabel(\"Probability Density\")\n",
    "axs[1].legend(loc='best')\n",
    "axs[1].set_title('MC Regression Overlaid\\n on 1000 MC Samples')\n",
    "\n",
    "axs[2].set_xlabel(\"Model Output (Hz)\")\n",
    "#axs[2].set_ylabel(\"Probability Density\")\n",
    "axs[2].legend(loc='best')\n",
    "axs[2].set_title('MC Regression Overlaid\\n on 10000 MC Samples')\n",
    "\n",
    "title_str = 'Bandgap Top Output PDFs From '+str(N_MC2)+' Monte Carlo Samples Fitted Stochastic Collocation \\nSurrogate Models of Orders '+str(np.min(MC_degrees[N_MC2]))+' to '+str(np.max(MC_degrees[N_MC2]))+' Overlaid On Histogram of 100, 1000, and 10000 MC Samples'\n",
    "fig.suptitle(title_str)"
   ],
   "metadata": {
    "collapsed": false,
    "ExecuteTime": {
     "start_time": "2024-01-03T02:43:15.494500500Z"
    }
   }
  },
  {
   "cell_type": "code",
   "execution_count": null,
   "outputs": [],
   "source": [
    "# Plot surrogate model performance\n",
    "fig, axs = plt.subplots(nrows=1, ncols=3, sharey=True, tight_layout=True, figsize=(12,5))\n",
    "\n",
    "# Plot histograms of random samples for comparision with surrogate model\n",
    "axs[0].hist(bg_top_MC_sets[100], bins=50, density=True, alpha=0.5)\n",
    "axs[1].hist(bg_top_MC_sets[1000], bins=50, density=True, alpha=0.5)\n",
    "axs[2].hist(bg_top_MC_sets[10000], bins=50, density=True, alpha=0.5)\n",
    "\n",
    "# Plot surrogate model pdfs\n",
    "for d in MC_degrees[N_MC3]:\n",
    "    plot_label = 'PD='+str(d)\n",
    "    axs[0].scatter(np.linspace(np.min(mc_surrogate_outputs[N_MC3][d]), np.max(mc_surrogate_outputs[N_MC3][d]), 1000), mc_surrogate_pdf[N_MC3][d], label=plot_label, s=1, linewidths=0.5)\n",
    "    axs[1].scatter(np.linspace(np.min(mc_surrogate_outputs[N_MC3][d]), np.max(mc_surrogate_outputs[N_MC3][d]), 1000), mc_surrogate_pdf[N_MC3][d], label=plot_label, s=1, linewidths=0.5)\n",
    "    axs[2].scatter(np.linspace(np.min(mc_surrogate_outputs[N_MC3][d]), np.max(mc_surrogate_outputs[N_MC3][d]), 1000), mc_surrogate_pdf[N_MC3][d], label=plot_label, s=1, linewidths=0.5)\n",
    "\n",
    "axs[0].set_xlabel(\"Model Output (Hz)\")\n",
    "axs[0].set_ylabel(\"Probability Density\")\n",
    "axs[0].legend(loc='best')\n",
    "axs[0].set_title('MC Regression Overlaid\\n on 100 MC Samples')\n",
    "\n",
    "axs[1].set_xlabel(\"Model Output (Hz)\")\n",
    "#axs[1].set_ylabel(\"Probability Density\")\n",
    "axs[1].legend(loc='best')\n",
    "axs[1].set_title('MC Regression Overlaid\\n on 1000 MC Samples')\n",
    "\n",
    "axs[2].set_xlabel(\"Model Output (Hz)\")\n",
    "#axs[2].set_ylabel(\"Probability Density\")\n",
    "axs[2].legend(loc='best')\n",
    "axs[2].set_title('MC Regression Overlaid\\n on 10000 MC Samples')\n",
    "\n",
    "title_str = 'Bandgap Top Output PDFs From '+str(N_MC3)+' Monte Carlo Samples Fitted Stochastic Collocation \\nSurrogate Models of Orders '+str(np.min(MC_degrees[N_MC3]))+' to '+str(np.max(MC_degrees[N_MC3]))+' Overlaid On Histogram of 100, 1000, and 10000 MC Samples'\n",
    "fig.suptitle(title_str)"
   ],
   "metadata": {
    "collapsed": false,
    "ExecuteTime": {
     "end_time": "2024-01-03T02:43:15.741565400Z",
     "start_time": "2024-01-03T02:43:15.495500300Z"
    }
   }
  },
  {
   "cell_type": "code",
   "execution_count": null,
   "outputs": [],
   "source": [
    "# Plot surrogate model performance\n",
    "fig, axs = plt.subplots(nrows=1, ncols=3, sharey=True, tight_layout=True, figsize=(12,5))\n",
    "\n",
    "# Plot histograms of random samples for comparision with surrogate model\n",
    "axs[0].hist(bg_top_MC_sets[100], bins=50, density=True, alpha=0.5)\n",
    "axs[1].hist(bg_top_MC_sets[1000], bins=50, density=True, alpha=0.5)\n",
    "axs[2].hist(bg_top_MC_sets[10000], bins=50, density=True, alpha=0.5)\n",
    "\n",
    "# Plot surrogate model pdfs\n",
    "for d in MC_degrees[N_MC4]:\n",
    "    plot_label = 'PD='+str(d)\n",
    "    axs[0].scatter(np.linspace(np.min(mc_surrogate_outputs[N_MC4][d]), np.max(mc_surrogate_outputs[N_MC4][d]), 1000), mc_surrogate_pdf[N_MC4][d], label=plot_label, s=1, linewidths=0.5)\n",
    "    axs[1].scatter(np.linspace(np.min(mc_surrogate_outputs[N_MC4][d]), np.max(mc_surrogate_outputs[N_MC4][d]), 1000), mc_surrogate_pdf[N_MC4][d], label=plot_label, s=1, linewidths=0.5)\n",
    "    axs[2].scatter(np.linspace(np.min(mc_surrogate_outputs[N_MC4][d]), np.max(mc_surrogate_outputs[N_MC4][d]), 1000), mc_surrogate_pdf[N_MC4][d], label=plot_label, s=1, linewidths=0.5)\n",
    "\n",
    "axs[0].set_xlabel(\"Model Output (Hz)\")\n",
    "axs[0].set_ylabel(\"Probability Density\")\n",
    "axs[0].legend(loc='best')\n",
    "axs[0].set_title('MC Regression Overlaid\\n on 100 MC Samples')\n",
    "\n",
    "axs[1].set_xlabel(\"Model Output (Hz)\")\n",
    "#axs[1].set_ylabel(\"Probability Density\")\n",
    "axs[1].legend(loc='best')\n",
    "axs[1].set_title('MC Regression Overlaid\\n on 1000 MC Samples')\n",
    "\n",
    "axs[2].set_xlabel(\"Model Output (Hz)\")\n",
    "#axs[2].set_ylabel(\"Probability Density\")\n",
    "axs[2].legend(loc='best')\n",
    "axs[2].set_title('MC Regression Overlaid\\n on 10000 MC Samples')\n",
    "\n",
    "title_str = 'Bandgap Top Output PDFs From '+str(N_MC4)+' Monte Carlo Samples Fitted Stochastic Collocation \\nSurrogate Models of Orders '+str(np.min(MC_degrees[N_MC4]))+' to '+str(np.max(MC_degrees[N_MC4]))+' Overlaid On Histogram of 100, 1000, and 10000 MC Samples'\n",
    "fig.suptitle(title_str)"
   ],
   "metadata": {
    "collapsed": false,
    "ExecuteTime": {
     "start_time": "2024-01-03T02:43:15.496500200Z"
    }
   }
  },
  {
   "cell_type": "markdown",
   "source": [
    "Stochastic Collocation - MC Regression - Bandgap Bottom\n"
   ],
   "metadata": {
    "collapsed": false
   }
  },
  {
   "cell_type": "code",
   "execution_count": null,
   "outputs": [],
   "source": [
    "### FIT SURROGATE MODELS - MONTE CARLO REGRESSION ###\n",
    "r_surrogates_bgb = {}\n",
    "for n in set_N:\n",
    "    print(n)\n",
    "    r_surrogates_bgb[n] = {}\n",
    "    for degree in MC_degrees[n]:\n",
    "        polynomial_basis = cp.expansion.stieltjes(\n",
    "            order=degree,\n",
    "            dist=joint_dist_trunc,\n",
    "            normed=True\n",
    "        )\n",
    "        # print(bg_size_MC_sets[100].shape)\n",
    "        polynomial_approximation = cp.fit_regression(\n",
    "            polynomials=polynomial_basis,\n",
    "            abscissas=MC_inputs[n].T,\n",
    "            evals=bg_bottom_MC_sets[n],\n",
    "        )\n",
    "        r_surrogates_bgb[n][degree] = polynomial_approximation"
   ],
   "metadata": {
    "collapsed": false,
    "ExecuteTime": {
     "start_time": "2024-01-03T02:43:15.497500400Z"
    }
   }
  },
  {
   "cell_type": "code",
   "execution_count": null,
   "outputs": [],
   "source": [
    "### SYNTHESIZE NEW DATAPOINTS WITH SURROGATE MODELS ###\n",
    "N_test_mc = 1000\n",
    "joint_test_mc = joint_dist_trunc.sample(N_test_mc)\n",
    "#print(joint_test_mc.shape)\n",
    "#print(joint_test_mc[0])\n",
    "mc_surrogate_outputs = {}\n",
    "mc_surrogate_kdes = {}\n",
    "mc_surrogate_pdf = {}\n",
    "for n in set_N:\n",
    "    mc_surrogate_outputs[n] = {}\n",
    "    mc_surrogate_kdes[n] = {}\n",
    "    mc_surrogate_pdf[n] = {}\n",
    "\n",
    "    for degree in MC_degrees[n]:\n",
    "        mc_surrogate_model = r_surrogates_bgb[n][degree]\n",
    "        #print(type(mc_surrogate_model))\n",
    "        #print(mc_surrogate_model)\n",
    "        mc_surrogate_outputs[n][degree] = mc_surrogate_model(\n",
    "            q0=joint_test_mc[0,:], q1=joint_test_mc[1,:],\n",
    "            q2=joint_test_mc[2,:], q3=joint_test_mc[3,:],\n",
    "            q4=joint_test_mc[4,:], q5=joint_test_mc[5,:], q6=joint_test_mc[6,:])\n",
    "        #print(mc_surrogate_outputs[n][degree])\n",
    "        mc_surrogate_kdes[n][degree] = gaussian_kde(mc_surrogate_outputs[n][degree])\n",
    "        mc_surrogate_pdf[n][degree] = mc_surrogate_kdes[n][degree](np.linspace(np.min(mc_surrogate_outputs[n][degree]), np.max(mc_surrogate_outputs[n][degree]), 1000))\n",
    "        \n",
    "        #save surrogate outputs\n",
    "        savemat('surrogate_outputs_bgb_mc_'+str(n)+'_pd_'+str(degree)+'.mat',{'surrogate_outputs_bgb_mc_'+str(n)+'_pd_'+str(degree):mc_surrogate_outputs[n][degree]})"
   ],
   "metadata": {
    "collapsed": false,
    "ExecuteTime": {
     "start_time": "2024-01-03T02:43:15.497500400Z"
    }
   }
  },
  {
   "cell_type": "code",
   "execution_count": null,
   "outputs": [],
   "source": [
    "# Plot surrogate model performance\n",
    "fig, axs = plt.subplots(nrows=1, ncols=3, sharey=True, tight_layout=True, figsize=(12,5))\n",
    "\n",
    "# Plot histograms of random samples for comparision with surrogate model\n",
    "axs[0].hist(bg_bottom_MC_sets[100], bins=50, density=True, alpha=0.5)\n",
    "axs[1].hist(bg_bottom_MC_sets[1000], bins=50, density=True, alpha=0.5)\n",
    "axs[2].hist(bg_bottom_MC_sets[10000], bins=50, density=True, alpha=0.5)\n",
    "\n",
    "# Plot surrogate model pdfs\n",
    "for d in MC_degrees[N_MC2]:\n",
    "    plot_label = 'PD='+str(d)\n",
    "    axs[0].scatter(np.linspace(np.min(mc_surrogate_outputs[N_MC2][d]), np.max(mc_surrogate_outputs[N_MC2][d]), 1000), mc_surrogate_pdf[N_MC2][d], label=plot_label, s=1, linewidths=0.5)\n",
    "    axs[1].scatter(np.linspace(np.min(mc_surrogate_outputs[N_MC2][d]), np.max(mc_surrogate_outputs[N_MC2][d]), 1000), mc_surrogate_pdf[N_MC2][d], label=plot_label, s=1, linewidths=0.5)\n",
    "    axs[2].scatter(np.linspace(np.min(mc_surrogate_outputs[N_MC2][d]), np.max(mc_surrogate_outputs[N_MC2][d]), 1000), mc_surrogate_pdf[N_MC2][d], label=plot_label, s=1, linewidths=0.5)\n",
    "\n",
    "axs[0].set_xlabel(\"Model Output (Hz)\")\n",
    "axs[0].set_ylabel(\"Probability Density\")\n",
    "axs[0].legend(loc='best')\n",
    "axs[0].set_title('MC Regression Overlaid\\n on 100 MC Samples')\n",
    "\n",
    "axs[1].set_xlabel(\"Model Output (Hz)\")\n",
    "#axs[1].set_ylabel(\"Probability Density\")\n",
    "axs[1].legend(loc='best')\n",
    "axs[1].set_title('MC Regression Overlaid\\n on 1000 MC Samples')\n",
    "\n",
    "axs[2].set_xlabel(\"Model Output (Hz)\")\n",
    "#axs[2].set_ylabel(\"Probability Density\")\n",
    "axs[2].legend(loc='best')\n",
    "axs[2].set_title('MC Regression Overlaid\\n on 10000 MC Samples')\n",
    "\n",
    "title_str = 'Bandgap Bottom Output PDFs From '+str(N_MC2)+' Monte Carlo Samples Fitted Stochastic Collocation \\nSurrogate Models of Orders '+str(np.min(MC_degrees[N_MC2]))+' to '+str(np.max(MC_degrees[N_MC2]))+' Overlaid On Histogram of 100, 1000, and 10000 MC Samples'\n",
    "fig.suptitle(title_str)"
   ],
   "metadata": {
    "collapsed": false,
    "ExecuteTime": {
     "start_time": "2024-01-03T02:43:15.498500Z"
    }
   }
  },
  {
   "cell_type": "code",
   "execution_count": null,
   "outputs": [],
   "source": [
    "# Plot surrogate model performance\n",
    "fig, axs = plt.subplots(nrows=1, ncols=3, sharey=True, tight_layout=True, figsize=(12,5))\n",
    "\n",
    "# Plot histograms of random samples for comparision with surrogate model\n",
    "axs[0].hist(bg_bottom_MC_sets[100], bins=50, density=True, alpha=0.5)\n",
    "axs[1].hist(bg_bottom_MC_sets[1000], bins=50, density=True, alpha=0.5)\n",
    "axs[2].hist(bg_bottom_MC_sets[10000], bins=50, density=True, alpha=0.5)\n",
    "\n",
    "# Plot surrogate model pdfs\n",
    "for d in MC_degrees[N_MC3]:\n",
    "    plot_label = 'PD='+str(d)\n",
    "    axs[0].scatter(np.linspace(np.min(mc_surrogate_outputs[N_MC3][d]), np.max(mc_surrogate_outputs[N_MC3][d]), 1000), mc_surrogate_pdf[N_MC3][d], label=plot_label, s=1, linewidths=0.5)\n",
    "    axs[1].scatter(np.linspace(np.min(mc_surrogate_outputs[N_MC3][d]), np.max(mc_surrogate_outputs[N_MC3][d]), 1000), mc_surrogate_pdf[N_MC3][d], label=plot_label, s=1, linewidths=0.5)\n",
    "    axs[2].scatter(np.linspace(np.min(mc_surrogate_outputs[N_MC3][d]), np.max(mc_surrogate_outputs[N_MC3][d]), 1000), mc_surrogate_pdf[N_MC3][d], label=plot_label, s=1, linewidths=0.5)\n",
    "\n",
    "axs[0].set_xlabel(\"Model Output (Hz)\")\n",
    "axs[0].set_ylabel(\"Probability Density\")\n",
    "axs[0].legend(loc='best')\n",
    "axs[0].set_title('MC Regression Overlaid\\n on 100 MC Samples')\n",
    "\n",
    "axs[1].set_xlabel(\"Model Output (Hz)\")\n",
    "#axs[1].set_ylabel(\"Probability Density\")\n",
    "axs[1].legend(loc='best')\n",
    "axs[1].set_title('MC Regression Overlaid\\n on 1000 MC Samples')\n",
    "\n",
    "axs[2].set_xlabel(\"Model Output (Hz)\")\n",
    "#axs[2].set_ylabel(\"Probability Density\")\n",
    "axs[2].legend(loc='best')\n",
    "axs[2].set_title('MC Regression Overlaid\\n on 10000 MC Samples')\n",
    "\n",
    "title_str = 'Bandgap Bottom Output PDFs From '+str(N_MC3)+' Monte Carlo Samples Fitted Stochastic Collocation \\nSurrogate Models of Orders '+str(np.min(MC_degrees[N_MC3]))+' to '+str(np.max(MC_degrees[N_MC3]))+' Overlaid On Histogram of 100, 1000, and 10000 MC Samples'\n",
    "fig.suptitle(title_str)"
   ],
   "metadata": {
    "collapsed": false,
    "ExecuteTime": {
     "start_time": "2024-01-03T02:43:15.499501100Z"
    }
   }
  },
  {
   "cell_type": "code",
   "execution_count": null,
   "outputs": [],
   "source": [
    "# Plot surrogate model performance\n",
    "fig, axs = plt.subplots(nrows=1, ncols=3, sharey=True, tight_layout=True, figsize=(12,5))\n",
    "\n",
    "# Plot histograms of random samples for comparision with surrogate model\n",
    "axs[0].hist(bg_bottom_MC_sets[100], bins=50, density=True, alpha=0.5)\n",
    "axs[1].hist(bg_bottom_MC_sets[1000], bins=50, density=True, alpha=0.5)\n",
    "axs[2].hist(bg_bottom_MC_sets[10000], bins=50, density=True, alpha=0.5)\n",
    "\n",
    "# Plot surrogate model pdfs\n",
    "for d in MC_degrees[N_MC4]:\n",
    "    plot_label = 'PD='+str(d)\n",
    "    axs[0].scatter(np.linspace(np.min(mc_surrogate_outputs[N_MC4][d]), np.max(mc_surrogate_outputs[N_MC4][d]), 1000), mc_surrogate_pdf[N_MC4][d], label=plot_label, s=1, linewidths=0.5)\n",
    "    axs[1].scatter(np.linspace(np.min(mc_surrogate_outputs[N_MC4][d]), np.max(mc_surrogate_outputs[N_MC4][d]), 1000), mc_surrogate_pdf[N_MC4][d], label=plot_label, s=1, linewidths=0.5)\n",
    "    axs[2].scatter(np.linspace(np.min(mc_surrogate_outputs[N_MC4][d]), np.max(mc_surrogate_outputs[N_MC4][d]), 1000), mc_surrogate_pdf[N_MC4][d], label=plot_label, s=1, linewidths=0.5)\n",
    "\n",
    "axs[0].set_xlabel(\"Model Output (Hz)\")\n",
    "axs[0].set_ylabel(\"Probability Density\")\n",
    "axs[0].legend(loc='best')\n",
    "axs[0].set_title('MC Regression Overlaid\\n on 100 MC Samples')\n",
    "\n",
    "axs[1].set_xlabel(\"Model Output (Hz)\")\n",
    "#axs[1].set_ylabel(\"Probability Density\")\n",
    "axs[1].legend(loc='best')\n",
    "axs[1].set_title('MC Regression Overlaid\\n on 1000 MC Samples')\n",
    "\n",
    "axs[2].set_xlabel(\"Model Output (Hz)\")\n",
    "#axs[2].set_ylabel(\"Probability Density\")\n",
    "axs[2].legend(loc='best')\n",
    "axs[2].set_title('MC Regression Overlaid\\n on 10000 MC Samples')\n",
    "\n",
    "title_str = 'Bandgap Bottom Output PDFs From '+str(N_MC4)+' Monte Carlo Samples Fitted Stochastic Collocation \\nSurrogate Models of Orders '+str(np.min(MC_degrees[N_MC4]))+' to '+str(np.max(MC_degrees[N_MC4]))+' Overlaid On Histogram of 100, 1000, and 10000 MC Samples'\n",
    "fig.suptitle(title_str)"
   ],
   "metadata": {
    "collapsed": false,
    "ExecuteTime": {
     "start_time": "2024-01-03T02:43:15.500501600Z"
    }
   }
  },
  {
   "cell_type": "markdown",
   "source": [
    "Stochastic Collocation - MC Regression - Bandgap Center"
   ],
   "metadata": {
    "collapsed": false
   }
  },
  {
   "cell_type": "code",
   "execution_count": null,
   "outputs": [],
   "source": [
    "### FIT SURROGATE MODELS - MONTE CARLO REGRESSION ###\n",
    "r_surrogates_bgc = {}\n",
    "for n in set_N:\n",
    "    print(n)\n",
    "    r_surrogates_bgc[n] = {}\n",
    "    for degree in MC_degrees[n]:\n",
    "        polynomial_basis = cp.expansion.stieltjes(\n",
    "            order=degree,\n",
    "            dist=joint_dist_trunc,\n",
    "            normed=True\n",
    "        )\n",
    "        # print(bg_size_MC_sets[100].shape)\n",
    "        polynomial_approximation = cp.fit_regression(\n",
    "            polynomials=polynomial_basis,\n",
    "            abscissas=MC_inputs[n].T,\n",
    "            evals=bg_center_MC_sets[n],\n",
    "        )\n",
    "        r_surrogates_bgc[n][degree] = polynomial_approximation"
   ],
   "metadata": {
    "collapsed": false,
    "ExecuteTime": {
     "start_time": "2024-01-03T02:43:15.500501600Z"
    }
   }
  },
  {
   "cell_type": "code",
   "execution_count": null,
   "outputs": [],
   "source": [
    "### SYNTHESIZE NEW DATAPOINTS WITH SURROGATE MODELS ###\n",
    "N_test_mc = 1000\n",
    "joint_test_mc = joint_dist_trunc.sample(N_test_mc)\n",
    "#print(joint_test_mc.shape)\n",
    "#print(joint_test_mc[0])\n",
    "mc_surrogate_outputs = {}\n",
    "mc_surrogate_kdes = {}\n",
    "mc_surrogate_pdf = {}\n",
    "for n in set_N:\n",
    "    mc_surrogate_outputs[n] = {}\n",
    "    mc_surrogate_kdes[n] = {}\n",
    "    mc_surrogate_pdf[n] = {}\n",
    "\n",
    "    for degree in MC_degrees[n]:\n",
    "        mc_surrogate_model = r_surrogates_bgc[n][degree]\n",
    "        #print(type(mc_surrogate_model))\n",
    "        #print(mc_surrogate_model)\n",
    "        mc_surrogate_outputs[n][degree] = mc_surrogate_model(\n",
    "            q0=joint_test_mc[0,:], q1=joint_test_mc[1,:],\n",
    "            q2=joint_test_mc[2,:], q3=joint_test_mc[3,:],\n",
    "            q4=joint_test_mc[4,:], q5=joint_test_mc[5,:], q6=joint_test_mc[6,:])\n",
    "        #print(mc_surrogate_outputs[n][degree])\n",
    "        mc_surrogate_kdes[n][degree] = gaussian_kde(mc_surrogate_outputs[n][degree])\n",
    "        mc_surrogate_pdf[n][degree] = mc_surrogate_kdes[n][degree](np.linspace(np.min(mc_surrogate_outputs[n][degree]), np.max(mc_surrogate_outputs[n][degree]), 1000))\n",
    "        \n",
    "        #save surrogate outputs\n",
    "        savemat('surrogate_outputs_bgc_mc_'+str(n)+'_pd_'+str(degree)+'.mat',{'surrogate_outputs_bgc_mc_'+str(n)+'_pd_'+str(degree):mc_surrogate_outputs[n][degree]})"
   ],
   "metadata": {
    "collapsed": false,
    "ExecuteTime": {
     "start_time": "2024-01-03T02:43:15.501501600Z"
    }
   }
  },
  {
   "cell_type": "code",
   "execution_count": null,
   "outputs": [],
   "source": [
    "# Plot surrogate model performance\n",
    "fig, axs = plt.subplots(nrows=1, ncols=3, sharey=True, tight_layout=True, figsize=(12,5))\n",
    "\n",
    "# Plot histograms of random samples for comparision with surrogate model\n",
    "axs[0].hist(bg_center_MC_sets[100], bins=50, density=True, alpha=0.5)\n",
    "axs[1].hist(bg_center_MC_sets[1000], bins=50, density=True, alpha=0.5)\n",
    "axs[2].hist(bg_center_MC_sets[10000], bins=50, density=True, alpha=0.5)\n",
    "\n",
    "# Plot surrogate model pdfs\n",
    "for d in MC_degrees[N_MC2]:\n",
    "    plot_label = 'PD='+str(d)\n",
    "    axs[0].scatter(np.linspace(np.min(mc_surrogate_outputs[N_MC2][d]), np.max(mc_surrogate_outputs[N_MC2][d]), 1000), mc_surrogate_pdf[N_MC2][d], label=plot_label, s=1, linewidths=0.5)\n",
    "    axs[1].scatter(np.linspace(np.min(mc_surrogate_outputs[N_MC2][d]), np.max(mc_surrogate_outputs[N_MC2][d]), 1000), mc_surrogate_pdf[N_MC2][d], label=plot_label, s=1, linewidths=0.5)\n",
    "    axs[2].scatter(np.linspace(np.min(mc_surrogate_outputs[N_MC2][d]), np.max(mc_surrogate_outputs[N_MC2][d]), 1000), mc_surrogate_pdf[N_MC2][d], label=plot_label, s=1, linewidths=0.5)\n",
    "\n",
    "axs[0].set_xlabel(\"Model Output (Hz)\")\n",
    "axs[0].set_ylabel(\"Probability Density\")\n",
    "axs[0].legend(loc='best')\n",
    "axs[0].set_title('MC Regression Overlaid\\n on 100 MC Samples')\n",
    "\n",
    "axs[1].set_xlabel(\"Model Output (Hz)\")\n",
    "#axs[1].set_ylabel(\"Probability Density\")\n",
    "axs[1].legend(loc='best')\n",
    "axs[1].set_title('MC Regression Overlaid\\n on 1000 MC Samples')\n",
    "\n",
    "axs[2].set_xlabel(\"Model Output (Hz)\")\n",
    "#axs[2].set_ylabel(\"Probability Density\")\n",
    "axs[2].legend(loc='best')\n",
    "axs[2].set_title('MC Regression Overlaid\\n on 10000 MC Samples')\n",
    "\n",
    "title_str = 'Bandgap Center Output PDFs From '+str(N_MC2)+' Monte Carlo Samples Fitted Stochastic Collocation \\nSurrogate Models of Orders '+str(np.min(MC_degrees[N_MC2]))+' to '+str(np.max(MC_degrees[N_MC2]))+' Overlaid On Histogram of 100, 1000, and 10000 MC Samples'\n",
    "fig.suptitle(title_str)"
   ],
   "metadata": {
    "collapsed": false,
    "ExecuteTime": {
     "start_time": "2024-01-03T02:43:15.502502100Z"
    }
   }
  },
  {
   "cell_type": "code",
   "execution_count": null,
   "outputs": [],
   "source": [
    "# Plot surrogate model performance\n",
    "fig, axs = plt.subplots(nrows=1, ncols=3, sharey=True, tight_layout=True, figsize=(12,5))\n",
    "\n",
    "# Plot histograms of random samples for comparision with surrogate model\n",
    "axs[0].hist(bg_center_MC_sets[100], bins=50, density=True, alpha=0.5)\n",
    "axs[1].hist(bg_center_MC_sets[1000], bins=50, density=True, alpha=0.5)\n",
    "axs[2].hist(bg_center_MC_sets[10000], bins=50, density=True, alpha=0.5)\n",
    "\n",
    "# Plot surrogate model pdfs\n",
    "for d in MC_degrees[N_MC3]:\n",
    "    plot_label = 'PD='+str(d)\n",
    "    axs[0].scatter(np.linspace(np.min(mc_surrogate_outputs[N_MC3][d]), np.max(mc_surrogate_outputs[N_MC3][d]), 1000), mc_surrogate_pdf[N_MC3][d], label=plot_label, s=1, linewidths=0.5)\n",
    "    axs[1].scatter(np.linspace(np.min(mc_surrogate_outputs[N_MC3][d]), np.max(mc_surrogate_outputs[N_MC3][d]), 1000), mc_surrogate_pdf[N_MC3][d], label=plot_label, s=1, linewidths=0.5)\n",
    "    axs[2].scatter(np.linspace(np.min(mc_surrogate_outputs[N_MC3][d]), np.max(mc_surrogate_outputs[N_MC3][d]), 1000), mc_surrogate_pdf[N_MC3][d], label=plot_label, s=1, linewidths=0.5)\n",
    "\n",
    "axs[0].set_xlabel(\"Model Output (Hz)\")\n",
    "axs[0].set_ylabel(\"Probability Density\")\n",
    "axs[0].legend(loc='best')\n",
    "axs[0].set_title('MC Regression Overlaid\\n on 100 MC Samples')\n",
    "\n",
    "axs[1].set_xlabel(\"Model Output (Hz)\")\n",
    "#axs[1].set_ylabel(\"Probability Density\")\n",
    "axs[1].legend(loc='best')\n",
    "axs[1].set_title('MC Regression Overlaid\\n on 1000 MC Samples')\n",
    "\n",
    "axs[2].set_xlabel(\"Model Output (Hz)\")\n",
    "#axs[2].set_ylabel(\"Probability Density\")\n",
    "axs[2].legend(loc='best')\n",
    "axs[2].set_title('MC Regression Overlaid\\n on 10000 MC Samples')\n",
    "\n",
    "title_str = 'Bandgap Center Output PDFs From '+str(N_MC3)+' Monte Carlo Samples Fitted Stochastic Collocation \\nSurrogate Models of Orders '+str(np.min(MC_degrees[N_MC3]))+' to '+str(np.max(MC_degrees[N_MC3]))+' Overlaid On Histogram of 100, 1000, and 10000 MC Samples'\n",
    "fig.suptitle(title_str)"
   ],
   "metadata": {
    "collapsed": false,
    "ExecuteTime": {
     "start_time": "2024-01-03T02:43:15.503502800Z"
    }
   }
  },
  {
   "cell_type": "code",
   "execution_count": null,
   "outputs": [],
   "source": [
    "# Plot surrogate model performance\n",
    "fig, axs = plt.subplots(nrows=1, ncols=3, sharey=True, tight_layout=True, figsize=(12,5))\n",
    "\n",
    "# Plot histograms of random samples for comparision with surrogate model\n",
    "axs[0].hist(bg_center_MC_sets[100], bins=50, density=True, alpha=0.5)\n",
    "axs[1].hist(bg_center_MC_sets[1000], bins=50, density=True, alpha=0.5)\n",
    "axs[2].hist(bg_center_MC_sets[10000], bins=50, density=True, alpha=0.5)\n",
    "\n",
    "# Plot surrogate model pdfs\n",
    "for d in MC_degrees[N_MC4]:\n",
    "    plot_label = 'PD='+str(d)\n",
    "    axs[0].scatter(np.linspace(np.min(mc_surrogate_outputs[N_MC4][d]), np.max(mc_surrogate_outputs[N_MC4][d]), 1000), mc_surrogate_pdf[N_MC4][d], label=plot_label, s=1, linewidths=0.5)\n",
    "    axs[1].scatter(np.linspace(np.min(mc_surrogate_outputs[N_MC4][d]), np.max(mc_surrogate_outputs[N_MC4][d]), 1000), mc_surrogate_pdf[N_MC4][d], label=plot_label, s=1, linewidths=0.5)\n",
    "    axs[2].scatter(np.linspace(np.min(mc_surrogate_outputs[N_MC4][d]), np.max(mc_surrogate_outputs[N_MC4][d]), 1000), mc_surrogate_pdf[N_MC4][d], label=plot_label, s=1, linewidths=0.5)\n",
    "\n",
    "axs[0].set_xlabel(\"Model Output (Hz)\")\n",
    "axs[0].set_ylabel(\"Probability Density\")\n",
    "axs[0].legend(loc='best')\n",
    "axs[0].set_title('MC Regression Overlaid\\n on 100 MC Samples')\n",
    "\n",
    "axs[1].set_xlabel(\"Model Output (Hz)\")\n",
    "#axs[1].set_ylabel(\"Probability Density\")\n",
    "axs[1].legend(loc='best')\n",
    "axs[1].set_title('MC Regression Overlaid\\n on 1000 MC Samples')\n",
    "\n",
    "axs[2].set_xlabel(\"Model Output (Hz)\")\n",
    "#axs[2].set_ylabel(\"Probability Density\")\n",
    "axs[2].legend(loc='best')\n",
    "axs[2].set_title('MC Regression Overlaid\\n on 10000 MC Samples')\n",
    "\n",
    "title_str = 'Bandgap Center Output PDFs From '+str(N_MC4)+' Monte Carlo Samples Fitted Stochastic Collocation \\nSurrogate Models of Orders '+str(np.min(MC_degrees[N_MC4]))+' to '+str(np.max(MC_degrees[N_MC4]))+' Overlaid On Histogram of 100, 1000, and 10000 MC Samples'\n",
    "fig.suptitle(title_str)dd"
   ],
   "metadata": {
    "collapsed": false,
    "ExecuteTime": {
     "start_time": "2024-01-03T02:43:15.503502800Z"
    }
   }
  },
  {
   "cell_type": "markdown",
   "source": [
    "2D HISTOGRAMS (BANDGAP SIZE & CENTER)"
   ],
   "metadata": {
    "collapsed": false
   }
  },
  {
   "cell_type": "code",
   "execution_count": null,
   "outputs": [],
   "source": [
    "fig = plt.subplots()\n",
    "plt.hist2d(bg_size_MC_sets[10000].flatten(), bg_center_MC_sets[10000].flatten(), bins=(50, 50))\n",
    "\n",
    "plt.colorbar()\n",
    "plt.xlabel('Bandgap Size (Hz)')\n",
    "plt.ylabel('Bandgap Center (Hz)')\n",
    "plt.title('2D Histogram of Bandgap Size and Center from 10000 MC Samples')\n",
    "plt.show()"
   ],
   "metadata": {
    "collapsed": false,
    "ExecuteTime": {
     "start_time": "2024-01-03T02:43:15.504502800Z"
    }
   }
  },
  {
   "cell_type": "code",
   "execution_count": null,
   "outputs": [],
   "source": [
    "print(degrees)\n",
    "print(MC_degrees[1000])\n",
    "intersection_degrees = np.intersect1d(degrees, MC_degrees[1000])\n",
    "print(intersection_degrees)"
   ],
   "metadata": {
    "collapsed": false,
    "ExecuteTime": {
     "start_time": "2024-01-03T02:43:15.505502800Z"
    }
   }
  },
  {
   "cell_type": "code",
   "execution_count": null,
   "outputs": [],
   "source": [
    "#joint_output_dist = cp.J(bg_size_dist, bg_center_dist)\n",
    "N_test_4 = 10**4\n",
    "joint_test_4 = joint_dist_trunc.sample(N_test_4)\n",
    "surrogate_outputs_q_bgs = {}\n",
    "surrogate_outputs_q_bgc = {}\n",
    "surrogate_outputs_r_bgs = {}\n",
    "surrogate_outputs_r_bgc = {}\n",
    "surrogate_outputs_sg_bgc = {}\n",
    "surrogate_outputs_sg_bgc = {}\n",
    "\n",
    "for degree in intersection_degrees:\n",
    "    surrogate_model_q_bgs = q_surrogates_bgs[degree]\n",
    "    surrogate_outputs_q_bgs[degree] = surrogate_model_q_bgs(\n",
    "        q0=joint_test_4[0,:], q1=joint_test_4[1,:],\n",
    "        q2=joint_test_4[2,:], q3=joint_test_4[3,:],\n",
    "        q4=joint_test_4[4,:], q5=joint_test_4[5,:], q6=joint_test_4[6,:])\n",
    "\n",
    "    surrogate_model_q_bgc = q_surrogates_bgc[degree]\n",
    "    surrogate_outputs_q_bgc[degree] = surrogate_model_q_bgc(\n",
    "        q0=joint_test_4[0,:], q1=joint_test_4[1,:],\n",
    "        q2=joint_test_4[2,:], q3=joint_test_4[3,:],\n",
    "        q4=joint_test_4[4,:], q5=joint_test_4[5,:], q6=joint_test_4[6,:])\n",
    "\n",
    "    surrogate_model_r_bgs = r_surrogates_bgs[N_MC3][degree]\n",
    "    surrogate_outputs_r_bgs[degree] = surrogate_model_r_bgs(\n",
    "        q0=joint_test_4[0,:], q1=joint_test_4[1,:],\n",
    "        q2=joint_test_4[2,:], q3=joint_test_4[3,:],\n",
    "        q4=joint_test_4[4,:], q5=joint_test_4[5,:], q6=joint_test_4[6,:])\n",
    "\n",
    "    surrogate_model_r_bgc = r_surrogates_bgc[N_MC3][degree]\n",
    "    surrogate_outputs_r_bgc[degree] = surrogate_model_r_bgc(\n",
    "        q0=joint_test_4[0,:], q1=joint_test_4[1,:],\n",
    "        q2=joint_test_4[2,:], q3=joint_test_4[3,:],\n",
    "        q4=joint_test_4[4,:], q5=joint_test_4[5,:], q6=joint_test_4[6,:])\n",
    "\n",
    "sparse_degrees = [1]\n",
    "for degree in sparse_degrees:\n",
    "    surrogate_model_sg_bgs = sg_surrogates_bgs[degree]\n",
    "    surrogate_outputs_sg_bgs[degree] = surrogate_model_sg_bgs(\n",
    "        q0=joint_test_4[0,:], q1=joint_test_4[1,:],\n",
    "        q2=joint_test_4[2,:], q3=joint_test_4[3,:],\n",
    "        q4=joint_test_4[4,:], q5=joint_test_4[5,:], q6=joint_test_4[6,:])\n",
    "\n",
    "    surrogate_model_sg_bgc = sg_surrogates_bgc[degree]\n",
    "    surrogate_outputs_sg_bgc[degree] = surrogate_model_sg_bgc(\n",
    "        q0=joint_test_4[0,:], q1=joint_test_4[1,:],\n",
    "        q2=joint_test_4[2,:], q3=joint_test_4[3,:],\n",
    "        q4=joint_test_4[4,:], q5=joint_test_4[5,:], q6=joint_test_4[6,:])\n",
    "print(surrogate_outputs_q_bgs.keys())"
   ],
   "metadata": {
    "collapsed": false,
    "ExecuteTime": {
     "start_time": "2024-01-03T02:43:15.506501900Z"
    }
   }
  },
  {
   "cell_type": "code",
   "execution_count": null,
   "outputs": [],
   "source": [
    "plt.style.use('classic')\n",
    "fig, axs = plt.subplots(nrows=1, ncols=3, sharex=True, sharey=True, figsize=(15,5))\n",
    "pd = 2\n",
    "hist_mc_samples = axs[0].hist2d(bg_size_MC_sets[10000].flatten(), bg_center_MC_sets[10000].flatten(), bins=(50, 50), cmap='YlOrRd', cmin=0.5)\n",
    "hist_q_gen = axs[1].hist2d(surrogate_outputs_q_bgs[pd].flatten(), surrogate_outputs_q_bgc[pd].flatten(), bins=(50, 50), cmap='YlOrRd', cmin=0.5)\n",
    "hist_mc_gen = axs[2].hist2d(surrogate_outputs_r_bgs[pd].flatten(), surrogate_outputs_r_bgc[pd].flatten(), bins=(50, 50), cmap='YlOrRd', cmin=0.5)\n",
    "\n",
    "print(hist_mc_samples)\n",
    "axs[0].set_xlabel(\"Bandgap Size (Hz)\")\n",
    "axs[0].set_ylabel(\"Bandgap Center (Hz)\")\n",
    "axs[0].set_title('10000 MC Samples')\n",
    "#axs[0].set_aspect('equal')\n",
    "\n",
    "axs[1].set_xlabel(\"Bandgap Size (Hz)\")\n",
    "#axs[1].set_ylabel(\"Bandgap Center (Hz)\")\n",
    "axs[1].set_title('Quadrature Surrogate (PD='+str(pd)+', N='+str(len(bg_size_sample_sets[pd].flatten()))+')')\n",
    "#axs[1].set_aspect('equal')\n",
    "\n",
    "axs[2].set_xlabel(\"Bandgap Size (Hz)\")\n",
    "#axs[2].set_ylabel(\"Bandgap Center (Hz)\")\n",
    "axs[2].set_title('MC Surrogate (PD='+str(pd)+', N='+str(len(bg_size_MC_sets[1000].flatten()))+')')\n",
    "#axs[2].set_aspect('equal')\n",
    "\n",
    "cbar_ax = fig.add_axes([0.95, 0.1, 0.02, 0.75])\n",
    "fig.colorbar(hist_mc_gen[3], cax=cbar_ax)\n",
    "plt.subplots_adjust(wspace=0.05)\n",
    "\n",
    "axs[0].grid(which='both', linestyle='--', linewidth=0.5)\n",
    "axs[1].grid(which='both', linestyle='--', linewidth=0.5)\n",
    "axs[2].grid(which='both', linestyle='--', linewidth=0.5)\n",
    "fig.set_facecolor('white')\n",
    "axs[0].set_facecolor('white')\n",
    "axs[1].set_facecolor('white')\n",
    "axs[2].set_facecolor('white')\n",
    "\n",
    "title_str = '2D Histograms of Bandgap Size and Center from 10000 Samples from MC Sampling, quadrature rule generated surrogate model, and MC generated surrogate model'\n",
    "fig.suptitle(title_str)"
   ],
   "metadata": {
    "collapsed": false,
    "ExecuteTime": {
     "start_time": "2024-01-03T02:43:15.507502200Z"
    }
   }
  },
  {
   "cell_type": "code",
   "execution_count": null,
   "outputs": [],
   "source": [
    "plt.style.use('classic')\n",
    "fig, axs = plt.subplots(nrows=1, ncols=3, sharex=True, sharey=True, figsize=(15,5))\n",
    "pd = 1\n",
    "hist_mc_samples = axs[0].hist2d(bg_size_MC_sets[10000].flatten(), bg_center_MC_sets[10000].flatten(), bins=(50, 50), cmap='YlOrRd', cmin=0.5)\n",
    "hist_q_gen = axs[1].hist2d(surrogate_outputs_q_bgs[pd].flatten(), surrogate_outputs_q_bgc[pd].flatten(), bins=(50, 50), cmap='YlOrRd', cmin=0.5)\n",
    "hist_mc_gen = axs[2].hist2d(surrogate_outputs_r_bgs[pd].flatten(), surrogate_outputs_r_bgc[pd].flatten(), bins=(50, 50), cmap='YlOrRd', cmin=0.5)\n",
    "\n",
    "axs[0].set_xlabel(\"Bandgap Size (Hz)\")\n",
    "axs[0].set_ylabel(\"Bandgap Center (Hz)\")\n",
    "axs[0].set_title('10000 MC Samples')\n",
    "#axs[0].set_aspect('equal')\n",
    "\n",
    "axs[1].set_xlabel(\"Bandgap Size (Hz)\")\n",
    "#axs[1].set_ylabel(\"Bandgap Center (Hz)\")\n",
    "axs[1].set_title('Quadrature Surrogate (PD='+str(pd)+', N='+str(len(bg_size_sample_sets[pd].flatten()))+')')\n",
    "#axs[1].set_aspect('equal')\n",
    "\n",
    "axs[2].set_xlabel(\"Bandgap Size (Hz)\")\n",
    "#axs[2].set_ylabel(\"Bandgap Center (Hz)\")\n",
    "axs[2].set_title('MC Surrogate (PD='+str(pd)+', N='+str(len(bg_size_MC_sets[1000].flatten()))+')')\n",
    "#axs[2].set_aspect('equal')\n",
    "\n",
    "cbar_ax = fig.add_axes([0.95, 0.1, 0.02, 0.75])\n",
    "fig.colorbar(hist_mc_gen[3], cax=cbar_ax)\n",
    "plt.subplots_adjust(wspace=0.05)\n",
    "\n",
    "axs[0].grid(which='both', linestyle='--', linewidth=0.5)\n",
    "axs[1].grid(which='both', linestyle='--', linewidth=0.5)\n",
    "axs[2].grid(which='both', linestyle='--', linewidth=0.5)\n",
    "fig.set_facecolor('white')\n",
    "axs[0].set_facecolor('white')\n",
    "axs[1].set_facecolor('white')\n",
    "axs[2].set_facecolor('white')\n",
    "\n",
    "title_str = '2D Histograms of Bandgap Size and Center from 10000 Samples from MC Sampling, quadrature rule generated surrogate model, and MC generated surrogate model'\n",
    "fig.suptitle(title_str)"
   ],
   "metadata": {
    "collapsed": false,
    "ExecuteTime": {
     "start_time": "2024-01-03T02:43:15.508502300Z"
    }
   }
  },
  {
   "cell_type": "code",
   "execution_count": null,
   "outputs": [],
   "source": [
    "plt.style.use('classic')\n",
    "\n",
    "fig, axs = plt.subplots(nrows=2, ncols=2, sharex=True, sharey=True, figsize=(10,10))\n",
    "\n",
    "pd = 1\n",
    "n = 100\n",
    "\n",
    "hist_mc_samples = axs[0, 0].hist2d(bg_size_MC_sets[10000].flatten(), bg_center_MC_sets[10000].flatten(), bins=(50, 50), cmap='YlOrRd', cmin=0.5)\n",
    "hist_q_gen = axs[0, 1].hist2d(surrogate_outputs_q_bgs[pd].flatten(), surrogate_outputs_q_bgc[pd].flatten(), bins=(50, 50), cmap='YlOrRd', cmin=0.5)\n",
    "hist_mc_gen = axs[1, 0].hist2d(surrogate_outputs_r_bgs[pd].flatten(), surrogate_outputs_r_bgc[pd].flatten(), bins=(50, 50), cmap='YlOrRd', cmin=0.5)\n",
    "hist_sg_gen = axs[1, 1].hist2d(surrogate_outputs_sg_bgs[pd].flatten(), surrogate_outputs_sg_bgc[pd].flatten(), bins=(50, 50), cmap='YlOrRd', cmin=0.5)\n",
    "\n",
    "axs[0, 0].set_xlabel(\"Bandgap Size (Hz)\")\n",
    "axs[0, 0].set_ylabel(\"Bandgap Center (Hz)\")\n",
    "axs[0, 0].set_title('10000 MC Samples')\n",
    "\n",
    "axs[0, 1].set_xlabel(\"Bandgap Size (Hz)\")\n",
    "axs[0, 1].set_title('Quadrature Surrogate (PD='+str(pd)+', N='+str(len(bg_size_sample_sets[pd].flatten()))+')')\n",
    "\n",
    "axs[1, 0].set_ylabel(\"Bandgap Center (Hz)\")\n",
    "axs[1, 0].set_xlabel(\"Bandgap Size (Hz)\")\n",
    "axs[1, 0].set_title('MC Surrogate (PD='+str(pd)+', N='+str(len(bg_size_MC_sets[n].flatten()))+')')\n",
    "\n",
    "axs[1, 1].set_xlabel(\"Bandgap Size (Hz)\")\n",
    "axs[1, 1].set_title('SG Surrogate (PD='+str(pd)+', N='+str(len(bg_size_SG_sets[pd].flatten()))+')')\n",
    "\n",
    "cbar_ax = fig.add_axes([0.95, 0.1, 0.02, 0.75])\n",
    "cbar = fig.colorbar(hist_mc_gen[3], cax=cbar_ax)\n",
    "cbar.locator = ticker.MultipleLocator(base=10)\n",
    "cbar.update_ticks()\n",
    "plt.subplots_adjust(wspace=0.05)\n",
    "\n",
    "axs[0, 0].grid(which='both', linestyle='--', linewidth=0.5)\n",
    "axs[0, 1].grid(which='both', linestyle='--', linewidth=0.5)\n",
    "axs[1, 0].grid(which='both', linestyle='--', linewidth=0.5)\n",
    "axs[1, 1].grid(which='both', linestyle='--', linewidth=0.5)\n",
    "\n",
    "fig.set_facecolor('white')\n",
    "axs[0, 0].set_facecolor('white')\n",
    "axs[0, 1].set_facecolor('white')\n",
    "axs[1, 0].set_facecolor('white')\n",
    "axs[1, 1].set_facecolor('white')\n",
    "\n",
    "# title_str = '2D Histograms of Bandgap Size and Center of 10000 Samples from Monte Carlo sampling,\\n compared with PCE fitted surrogate models from quadrature rule generated samples, \\nMonte Carlo generated samples, and sparse grid generated samples'\n",
    "# fig.suptitle(title_str)#, fontsize=16)"
   ],
   "metadata": {
    "collapsed": false,
    "ExecuteTime": {
     "start_time": "2024-01-03T02:43:15.508502300Z"
    }
   }
  },
  {
   "cell_type": "code",
   "execution_count": null,
   "outputs": [],
   "source": [],
   "metadata": {
    "collapsed": false,
    "ExecuteTime": {
     "start_time": "2024-01-03T02:43:15.509502300Z"
    }
   }
  }
 ],
 "metadata": {
  "kernelspec": {
   "display_name": "Python 3 (ipykernel)",
   "language": "python",
   "name": "python3"
  },
  "language_info": {
   "codemirror_mode": {
    "name": "ipython",
    "version": 3
   },
   "file_extension": ".py",
   "mimetype": "text/x-python",
   "name": "python",
   "nbconvert_exporter": "python",
   "pygments_lexer": "ipython3",
   "version": "3.9.13"
  }
 },
 "nbformat": 4,
 "nbformat_minor": 1
}
