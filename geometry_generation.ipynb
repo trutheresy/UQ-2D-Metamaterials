{
 "cells": [
  {
   "cell_type": "code",
   "execution_count": 1,
   "metadata": {
    "collapsed": true,
    "ExecuteTime": {
     "end_time": "2023-07-14T21:59:43.705959100Z",
     "start_time": "2023-07-14T21:59:43.596571400Z"
    }
   },
   "outputs": [],
   "source": [
    "import numpy as np\n",
    "import matplotlib.pyplot as plt\n",
    "import random\n",
    "import scipy.io as sio"
   ]
  },
  {
   "cell_type": "code",
   "execution_count": 2,
   "outputs": [],
   "source": [
    "def is_edge_pixel(matrix, i, j, count_corners=False):\n",
    "    # Get the shape of the matrix\n",
    "    rows, cols = matrix.shape\n",
    "\n",
    "    # Check if the pixel is an edge pixel\n",
    "    if matrix[i, j] == 1:\n",
    "        if count_corners:\n",
    "            # Check the 8 neighbors\n",
    "            return (\n",
    "                    i > 0 and matrix[i - 1, j] == 0 or\n",
    "                    i < rows - 1 and matrix[i + 1, j] == 0 or\n",
    "                    j > 0 and matrix[i, j - 1] == 0 or\n",
    "                    j < cols - 1 and matrix[i, j + 1] == 0 or\n",
    "                    i > 0 and j > 0 and matrix[i - 1, j - 1] == 0 or\n",
    "                    i < rows - 1 and j < cols - 1 and matrix[i + 1, j + 1] == 0 or\n",
    "                    i > 0 and j < cols - 1 and matrix[i - 1, j + 1] == 0 or\n",
    "                    i < rows - 1 and j > 0 and matrix[i + 1, j - 1] == 0\n",
    "            )\n",
    "        else:\n",
    "            # Check the 4 neighbors\n",
    "            return (\n",
    "                    i > 0 and matrix[i - 1, j] == 0 or\n",
    "                    i < rows - 1 and matrix[i + 1, j] == 0 or\n",
    "                    j > 0 and matrix[i, j - 1] == 0 or\n",
    "                    j < cols - 1 and matrix[i, j + 1] == 0\n",
    "            )\n",
    "    else:\n",
    "        return False\n",
    "\n",
    "def find_edge_pixels(matrix, count_corners=False):\n",
    "    \"\"\"Find the edge pixels in a matrix.\"\"\"\n",
    "    # Get the size of the matrix\n",
    "    n = matrix.shape[0]\n",
    "\n",
    "    # Initialize an empty list to store the edge pixel locations\n",
    "    edge_pixels = []\n",
    "\n",
    "    # Loop over all pixels in the matrix\n",
    "    for i in range(n):\n",
    "        for j in range(n):\n",
    "            # Check if the current pixel is an edge pixel\n",
    "            if is_edge_pixel(matrix, i, j, count_corners):\n",
    "                # If it is, add its location to the list of edge pixel locations\n",
    "                edge_pixels.append((i, j))\n",
    "\n",
    "    # Return the list of edge pixel locations\n",
    "    return edge_pixels\n",
    "\n",
    "def get_edge_pixels_matrix(matrix):\n",
    "    # Create a new matrix filled with zeros\n",
    "    edge_matrix = np.zeros_like(matrix)\n",
    "\n",
    "    # Get the edge pixels\n",
    "    edges = find_edge_pixels(matrix)\n",
    "\n",
    "    # Set the edge pixels to 1 in the new matrix\n",
    "    for i, j in edges:\n",
    "        edge_matrix[i][j] = 1\n",
    "\n",
    "    return edge_matrix\n",
    "\n",
    "def flip_edge_pixels(matrix, flip_chance, count_corners=False, seed=None):\n",
    "    # Set the seed for the random number generator\n",
    "    random.seed(seed)\n",
    "\n",
    "    # Get the edge pixels\n",
    "    edges = find_edge_pixels(matrix, count_corners)\n",
    "\n",
    "    # Create a copy of the matrix so we don't modify the original\n",
    "    new_matrix = matrix.copy()\n",
    "\n",
    "    # Flip each edge pixel with the given probability\n",
    "    for i, j in edges:\n",
    "        if random.random() < flip_chance:\n",
    "            new_matrix[i, j] = 0 if new_matrix[i, j] == 1 else 1\n",
    "\n",
    "    return new_matrix\n",
    "\n",
    "def visualize_matrices(matrix1, matrix2):\n",
    "    # Create a figure with two subplots\n",
    "    fig, axes = plt.subplots(1, 2, figsize=(10, 5))  # Adjust the size as needed\n",
    "\n",
    "    # Display the first image in the first subplot\n",
    "    axes[0].imshow(matrix1, cmap='gray_r')\n",
    "    axes[0].axis('off')\n",
    "\n",
    "    # Display the second image in the second subplot\n",
    "    axes[1].imshow(matrix2, cmap='gray_r')\n",
    "    axes[1].axis('off')\n"
   ],
   "metadata": {
    "collapsed": false,
    "ExecuteTime": {
     "end_time": "2023-07-14T21:59:43.719086200Z",
     "start_time": "2023-07-14T21:59:43.709960600Z"
    }
   }
  },
  {
   "cell_type": "code",
   "execution_count": 3,
   "outputs": [],
   "source": [
    "def generate_geometry(size, symmetry, volume_fraction, seed=None):\n",
    "    if seed is not None:\n",
    "        np.random.seed(seed)\n",
    "\n",
    "    if symmetry == 0:\n",
    "        # Calculate the number of pixels to be filled\n",
    "        num_pixels = int(round(size * size * volume_fraction))\n",
    "        # Initialize an array of zeros\n",
    "        image = np.zeros((size, size))\n",
    "        # Randomly choose pixels to fill\n",
    "        fill_indices = np.random.choice(size*size, num_pixels, replace=False)\n",
    "        image.put(fill_indices, 1)\n",
    "    elif symmetry == 1:\n",
    "        half_size = size // 2\n",
    "        num_pixels = int(round(half_size * size * volume_fraction))\n",
    "        half_image = np.zeros((size, half_size))\n",
    "        fill_indices = np.random.choice(half_size*size, num_pixels, replace=False)\n",
    "        half_image.put(fill_indices, 1)\n",
    "        # Mirror the half image\n",
    "        image = np.concatenate((half_image, np.fliplr(half_image)), axis=1)\n",
    "    elif symmetry == 2:\n",
    "        quarter_size = size // 2\n",
    "        num_pixels = int(round(quarter_size * quarter_size * volume_fraction))\n",
    "        quarter_image = np.zeros((quarter_size, quarter_size))\n",
    "        fill_indices = np.random.choice(quarter_size*quarter_size, num_pixels, replace=False)\n",
    "        quarter_image.put(fill_indices, 1)\n",
    "        # Mirror the quarter image\n",
    "        half_image = np.concatenate((quarter_image, np.flipud(quarter_image)), axis=0)\n",
    "        image = np.concatenate((half_image, np.fliplr(half_image)), axis=1)\n",
    "    else:\n",
    "        raise ValueError(\"Symmetry should be 0, 1, or 2.\")\n",
    "\n",
    "    return image"
   ],
   "metadata": {
    "collapsed": false,
    "ExecuteTime": {
     "end_time": "2023-07-14T21:59:43.752093200Z",
     "start_time": "2023-07-14T21:59:43.722086700Z"
    }
   }
  },
  {
   "cell_type": "code",
   "execution_count": 4,
   "outputs": [],
   "source": [
    "def generate_mutations(image, n, size, symmetry, volume_fraction, flip_chance, seed=None, count_corners=False):\n",
    "    # Initialize a list to store the matrices\n",
    "    matrices = []\n",
    "    matrices.append(image)\n",
    "    for _ in range(n-1):\n",
    "        # Flip the edge pixels\n",
    "        flipped_image = flip_edge_pixels(image, flip_chance, seed=None, count_corners=False)\n",
    "\n",
    "        # Add the flipped image to the list of matrices\n",
    "        matrices.append(flipped_image)\n",
    "\n",
    "    return matrices"
   ],
   "metadata": {
    "collapsed": false,
    "ExecuteTime": {
     "end_time": "2023-07-14T21:59:43.753093300Z",
     "start_time": "2023-07-14T21:59:43.734088800Z"
    }
   }
  },
  {
   "cell_type": "code",
   "execution_count": 5,
   "outputs": [
    {
     "name": "stdout",
     "output_type": "stream",
     "text": [
      "[[0. 0. 0. 0. 0. 0. 0. 0. 0. 0.]\n",
      " [0. 0. 0. 1. 1. 1. 1. 0. 0. 0.]\n",
      " [0. 0. 0. 1. 0. 0. 1. 0. 0. 0.]\n",
      " [0. 1. 1. 1. 1. 1. 1. 1. 1. 0.]\n",
      " [0. 1. 0. 1. 0. 0. 1. 0. 1. 0.]\n",
      " [0. 1. 0. 1. 0. 0. 1. 0. 1. 0.]\n",
      " [0. 1. 1. 1. 1. 1. 1. 1. 1. 0.]\n",
      " [0. 0. 0. 1. 0. 0. 1. 0. 0. 0.]\n",
      " [0. 0. 0. 1. 1. 1. 1. 0. 0. 0.]\n",
      " [0. 0. 0. 0. 0. 0. 0. 0. 0. 0.]]\n"
     ]
    },
    {
     "data": {
      "text/plain": "<matplotlib.image.AxesImage at 0x1d323314f70>"
     },
     "execution_count": 5,
     "metadata": {},
     "output_type": "execute_result"
    },
    {
     "data": {
      "text/plain": "<Figure size 640x480 with 1 Axes>",
      "image/png": "[encoded data removed]"
     },
     "metadata": {},
     "output_type": "display_data"
    }
   ],
   "source": [
    "#matrix = generate_geometry(10, 2, 0.75, 1)\n",
    "matrix = np.array([\n",
    "    [0., 0., 0., 0., 0., 0., 0., 0., 0., 0.],\n",
    "    [0., 0., 0., 1., 1., 1., 1., 0., 0., 0.],\n",
    "    [0., 0., 0., 1., 0., 0., 1., 0., 0., 0.],\n",
    "    [0., 1., 1., 1., 1., 1., 1., 1., 1., 0.],\n",
    "    [0., 1., 0., 1., 0., 0., 1., 0., 1., 0.],\n",
    "    [0., 1., 0., 1., 0., 0., 1., 0., 1., 0.],\n",
    "    [0., 1., 1., 1., 1., 1., 1., 1., 1., 0.],\n",
    "    [0., 0., 0., 1., 0., 0., 1., 0., 0., 0.],\n",
    "    [0., 0., 0., 1., 1., 1., 1., 0., 0., 0.],\n",
    "    [0., 0., 0., 0., 0., 0., 0., 0., 0., 0.],\n",
    "])\n",
    "print(matrix)\n",
    "plt.imshow(matrix, cmap='gray_r')"
   ],
   "metadata": {
    "collapsed": false,
    "ExecuteTime": {
     "end_time": "2023-07-14T21:59:43.956684900Z",
     "start_time": "2023-07-14T21:59:43.755094Z"
    }
   }
  },
  {
   "cell_type": "code",
   "execution_count": 6,
   "outputs": [
    {
     "name": "stdout",
     "output_type": "stream",
     "text": [
      "[(1, 3), (1, 4), (1, 5), (1, 6), (2, 3), (2, 6), (3, 1), (3, 2), (3, 4), (3, 5), (3, 7), (3, 8), (4, 1), (4, 3), (4, 6), (4, 8), (5, 1), (5, 3), (5, 6), (5, 8), (6, 1), (6, 2), (6, 4), (6, 5), (6, 7), (6, 8), (7, 3), (7, 6), (8, 3), (8, 4), (8, 5), (8, 6)]\n"
     ]
    },
    {
     "data": {
      "text/plain": "<Figure size 1000x500 with 2 Axes>",
      "image/png": "[encoded data removed]"
     },
     "metadata": {},
     "output_type": "display_data"
    }
   ],
   "source": [
    "print(find_edge_pixels(matrix))\n",
    "edge_matrix = get_edge_pixels_matrix(matrix)\n",
    "visualize_matrices(matrix, edge_matrix)"
   ],
   "metadata": {
    "collapsed": false,
    "ExecuteTime": {
     "end_time": "2023-07-14T21:59:44.083211Z",
     "start_time": "2023-07-14T21:59:43.958686Z"
    }
   }
  },
  {
   "cell_type": "code",
   "execution_count": 7,
   "outputs": [
    {
     "data": {
      "text/plain": "<Figure size 1000x500 with 2 Axes>",
      "image/png": "[encoded data removed]"
     },
     "metadata": {},
     "output_type": "display_data"
    }
   ],
   "source": [
    "# Flip the edge pixels with a 50% chance\n",
    "error_matrix = flip_edge_pixels(matrix, 0.1, seed=1)\n",
    "\n",
    "# Display the original and flipped images side by side\n",
    "visualize_matrices(matrix, error_matrix)"
   ],
   "metadata": {
    "collapsed": false,
    "ExecuteTime": {
     "end_time": "2023-07-14T21:59:44.208744300Z",
     "start_time": "2023-07-14T21:59:44.082210800Z"
    }
   }
  },
  {
   "cell_type": "code",
   "execution_count": 8,
   "outputs": [
    {
     "name": "stdout",
     "output_type": "stream",
     "text": [
      "(1000, 10, 10)\n",
      "<class 'numpy.ndarray'>\n"
     ]
    }
   ],
   "source": [
    "# Generate 100 matrices\n",
    "matrices = generate_mutations(\n",
    "    image=matrix,\n",
    "    n=1000,\n",
    "    size=10,\n",
    "    symmetry=2,\n",
    "    volume_fraction=0.5,\n",
    "    flip_chance=0.1,\n",
    "    seed=3\n",
    ")\n",
    "\n",
    "# Convert the list of matrices to a 3D numpy array\n",
    "matrices_array = np.array(matrices)\n",
    "print(matrices_array.shape)\n",
    "print(type(matrices_array[0][0]))\n",
    "# Export the array to a MATLAB .mat file\n",
    "sio.savemat('error_geometries_fc10_rs3.mat', {'error_geometries': matrices_array})"
   ],
   "metadata": {
    "collapsed": false,
    "ExecuteTime": {
     "end_time": "2023-07-14T21:59:44.295270400Z",
     "start_time": "2023-07-14T21:59:44.207743900Z"
    }
   }
  },
  {
   "cell_type": "code",
   "execution_count": 9,
   "outputs": [
    {
     "data": {
      "text/plain": "<Figure size 640x480 with 9 Axes>",
      "image/png": "[encoded data removed]"
     },
     "metadata": {},
     "output_type": "display_data"
    }
   ],
   "source": [
    "fig, axs = plt.subplots(3, 3)\n",
    "\n",
    "# Plot the original image in the center\n",
    "axs[1, 1].imshow(matrices_array[0], cmap='gray')\n",
    "#axs[1, 1].set_title(\"Original\")\n",
    "\n",
    "# Remove axis for the original image\n",
    "axs[1, 1].axis('off')\n",
    "\n",
    "# Get 8 random samples from the matrices\n",
    "samples = random.sample(list(matrices_array), 8)\n",
    "\n",
    "# Loop over the subplots and add the images\n",
    "for i, ax in enumerate(axs.flat):\n",
    "    # Skip the center subplot\n",
    "    if i != 4:\n",
    "        # Adjust the index for samples when i is greater than or equal to 4\n",
    "        sample_index = i if i < 4 else i - 1\n",
    "\n",
    "        # Display the image\n",
    "        ax.imshow(samples[sample_index], cmap='gray')\n",
    "\n",
    "        # Remove the axes\n",
    "        ax.axis('off')\n",
    "\n",
    "# Show the plot\n",
    "plt.show()"
   ],
   "metadata": {
    "collapsed": false,
    "ExecuteTime": {
     "end_time": "2023-07-14T21:59:44.632863300Z",
     "start_time": "2023-07-14T21:59:44.291269300Z"
    }
   }
  },
  {
   "cell_type": "code",
   "execution_count": 13,
   "outputs": [
    {
     "data": {
      "text/plain": "<matplotlib.image.AxesImage at 0x1d3234bc400>"
     },
     "execution_count": 13,
     "metadata": {},
     "output_type": "execute_result"
    },
    {
     "data": {
      "text/plain": "<Figure size 640x480 with 1 Axes>",
      "image/png": "[encoded data removed]"
     },
     "metadata": {},
     "output_type": "display_data"
    }
   ],
   "source": [
    "scaled_matrix = np.repeat(np.repeat(matrix, 2, axis=0), 2, axis=1)\n",
    "plt.imshow(scaled_matrix, cmap='gray_r')"
   ],
   "metadata": {
    "collapsed": false,
    "ExecuteTime": {
     "end_time": "2023-07-14T22:03:58.384780900Z",
     "start_time": "2023-07-14T22:03:58.270252Z"
    }
   }
  },
  {
   "cell_type": "code",
   "execution_count": 15,
   "outputs": [
    {
     "name": "stderr",
     "output_type": "stream",
     "text": [
      "C:\\Users\\zhang\\anaconda3\\lib\\site-packages\\scipy\\io\\matlab\\_mio5.py:493: VisibleDeprecationWarning: Creating an ndarray from ragged nested sequences (which is a list-or-tuple of lists-or-tuples-or ndarrays with different lengths or shapes) is deprecated. If you meant to do this, you must specify 'dtype=object' when creating the ndarray.\n",
      "  narr = np.asanyarray(source)\n"
     ]
    }
   ],
   "source": [
    "# Initialize an empty list to store the scaled matrices\n",
    "scaled_matrices = []\n",
    "\n",
    "# Generate scaled matrices for scaling factors from 1 to 10\n",
    "for scale_factor in range(1, 11):\n",
    "    # Scale the matrix\n",
    "    scaled_matrix = np.repeat(np.repeat(matrix, scale_factor, axis=0), scale_factor, axis=1)\n",
    "\n",
    "    # Add the scaled matrix to the list\n",
    "    scaled_matrices.append(scaled_matrix)\n",
    "\n",
    "# Save the list of scaled matrices to a .mat file\n",
    "sio.savemat('scaled_matrices.mat', {'scaled_matrices': scaled_matrices})"
   ],
   "metadata": {
    "collapsed": false,
    "ExecuteTime": {
     "end_time": "2023-07-14T22:20:18.064280900Z",
     "start_time": "2023-07-14T22:20:18.013761500Z"
    }
   }
  },
  {
   "cell_type": "code",
   "execution_count": null,
   "outputs": [],
   "source": [],
   "metadata": {
    "collapsed": false
   }
  }
 ],
 "metadata": {
  "kernelspec": {
   "display_name": "Python 3",
   "language": "python",
   "name": "python3"
  },
  "language_info": {
   "codemirror_mode": {
    "name": "ipython",
    "version": 2
   },
   "file_extension": ".py",
   "mimetype": "text/x-python",
   "name": "python",
   "nbconvert_exporter": "python",
   "pygments_lexer": "ipython2",
   "version": "2.7.6"
  }
 },
 "nbformat": 4,
 "nbformat_minor": 0
}
