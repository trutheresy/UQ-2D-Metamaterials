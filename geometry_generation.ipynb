{
 "cells": [
  {
   "cell_type": "code",
   "execution_count": 2,
   "metadata": {
    "collapsed": true,
    "ExecuteTime": {
     "end_time": "2023-09-03T20:07:51.135075400Z",
     "start_time": "2023-09-03T20:07:51.090962500Z"
    }
   },
   "outputs": [],
   "source": [
    "import numpy as np\n",
    "import matplotlib.pyplot as plt\n",
    "import random\n",
    "import os\n",
    "import scipy.io as sio\n"
   ]
  },
  {
   "cell_type": "code",
   "execution_count": 3,
   "outputs": [],
   "source": [
    "def is_edge_pixel(matrix, i, j, count_corners=False, count_both_mat=False):\n",
    "    # Get the shape of the matrix\n",
    "    rows, cols = matrix.shape\n",
    "\n",
    "    # Check if the pixel is an edge pixel\n",
    "    if count_both_mat:\n",
    "        if matrix[i, j] == 1:\n",
    "            if count_corners:\n",
    "                # Check the 8 neighbors\n",
    "                return (\n",
    "                        i > 0 and matrix[i - 1, j] == 0 or #Above\n",
    "                        i < rows - 1 and matrix[i + 1, j] == 0 or #below\n",
    "                        j > 0 and matrix[i, j - 1] == 0 or #Left\n",
    "                        j < cols - 1 and matrix[i, j + 1] == 0 or #Right\n",
    "                        i > 0 and j > 0 and matrix[i - 1, j - 1] == 0 or\n",
    "                        i < rows - 1 and j < cols - 1 and matrix[i + 1, j + 1] == 0 or\n",
    "                        i > 0 and j < cols - 1 and matrix[i - 1, j + 1] == 0 or\n",
    "                        i < rows - 1 and j > 0 and matrix[i + 1, j - 1] == 0\n",
    "                )\n",
    "            else:\n",
    "                # Check the 4 neighbors\n",
    "                return (\n",
    "                        i > 0 and matrix[i - 1, j] == 0 or\n",
    "                        i < rows - 1 and matrix[i + 1, j] == 0 or\n",
    "                        j > 0 and matrix[i, j - 1] == 0 or\n",
    "                        j < cols - 1 and matrix[i, j + 1] == 0\n",
    "                )\n",
    "        elif matrix[i, j] == 0:\n",
    "            if count_corners:\n",
    "                # Check the 8 neighbors\n",
    "                return (\n",
    "                        i > 0 and matrix[i - 1, j] == 1 or #Above\n",
    "                        i < rows - 1 and matrix[i + 1, j] == 1 or #below\n",
    "                        j > 0 and matrix[i, j - 1] == 1 or #Left\n",
    "                        j < cols - 1 and matrix[i, j + 1] == 1 or #Right\n",
    "                        i > 0 and j > 0 and matrix[i - 1, j - 1] == 1 or\n",
    "                        i < rows - 1 and j < cols - 1 and matrix[i + 1, j + 1] == 1 or\n",
    "                        i > 0 and j < cols - 1 and matrix[i - 1, j + 1] == 1 or\n",
    "                        i < rows - 1 and j > 0 and matrix[i + 1, j - 1] == 1\n",
    "                )\n",
    "            else:\n",
    "                # Check the 4 neighbors\n",
    "                return (\n",
    "                        i > 0 and matrix[i - 1, j] == 1 or\n",
    "                        i < rows - 1 and matrix[i + 1, j] == 1 or\n",
    "                        j > 0 and matrix[i, j - 1] == 1 or\n",
    "                        j < cols - 1 and matrix[i, j + 1] == 1\n",
    "                )\n",
    "            return False\n",
    "    else: #Count only 1's\n",
    "        if matrix[i, j] == 1:\n",
    "            if count_corners:\n",
    "                # Check the 8 neighbors\n",
    "                return (\n",
    "                        i > 0 and matrix[i - 1, j] == 0 or\n",
    "                        i < rows - 1 and matrix[i + 1, j] == 0 or\n",
    "                        j > 0 and matrix[i, j - 1] == 0 or\n",
    "                        j < cols - 1 and matrix[i, j + 1] == 0 or\n",
    "                        i > 0 and j > 0 and matrix[i - 1, j - 1] == 0 or\n",
    "                        i < rows - 1 and j < cols - 1 and matrix[i + 1, j + 1] == 0 or\n",
    "                        i > 0 and j < cols - 1 and matrix[i - 1, j + 1] == 0 or\n",
    "                        i < rows - 1 and j > 0 and matrix[i + 1, j - 1] == 0\n",
    "                )\n",
    "            else:\n",
    "                # Check the 4 neighbors\n",
    "                return (\n",
    "                        i > 0 and matrix[i - 1, j] == 0 or\n",
    "                        i < rows - 1 and matrix[i + 1, j] == 0 or\n",
    "                        j > 0 and matrix[i, j - 1] == 0 or\n",
    "                        j < cols - 1 and matrix[i, j + 1] == 0\n",
    "                )\n",
    "        else:\n",
    "            return False\n",
    "\n",
    "def find_edge_pixels(matrix, count_corners=False, count_both_mat=False):\n",
    "    \"\"\"Find the edge pixels in a matrix.\"\"\"\n",
    "    # Get the size of the matrix\n",
    "    n = matrix.shape[0]\n",
    "\n",
    "    # Initialize an empty list to store the edge pixel locations\n",
    "    edge_pixels = []\n",
    "\n",
    "    # Loop over all pixels in the matrix\n",
    "    for i in range(n):\n",
    "        for j in range(n):\n",
    "            # Check if the current pixel is an edge pixel\n",
    "            if is_edge_pixel(matrix, i, j, count_corners, count_both_mat):\n",
    "                # If it is, add its location to the list of edge pixel locations\n",
    "                edge_pixels.append((i, j))\n",
    "\n",
    "    # Return the list of edge pixel locations\n",
    "    return edge_pixels\n",
    "\n",
    "def get_edge_pixels_matrix(matrix, count_corners=False, count_both_mat=False):\n",
    "    # Create a new matrix filled with zeros\n",
    "    edge_matrix = np.zeros_like(matrix)\n",
    "\n",
    "    # Get the edge pixels\n",
    "    edges = find_edge_pixels(matrix, count_corners, count_both_mat)\n",
    "\n",
    "    # Set the edge pixels to 1 in the new matrix\n",
    "    for i, j in edges:\n",
    "        edge_matrix[i][j] = 1\n",
    "\n",
    "    return edge_matrix\n",
    "\n",
    "def flip_edge_pixels_chance(matrix, flip_chance, count_corners=False, count_both_mat=False, seed=None):\n",
    "    # Set the seed for the random number generator\n",
    "    random.seed(seed)\n",
    "\n",
    "    # Get the edge pixels\n",
    "    edge_pixels = find_edge_pixels(matrix, count_corners, count_both_mat)\n",
    "\n",
    "    # Create a copy of the matrix so we don't modify the original\n",
    "    new_matrix = matrix.copy()\n",
    "\n",
    "    # Flip each edge pixel with the given probability\n",
    "    for i, j in edge_pixels:\n",
    "        if random.random() < flip_chance:\n",
    "            new_matrix[i, j] = 0 if new_matrix[i, j] == 1 else 1\n",
    "\n",
    "    return new_matrix\n",
    "\n",
    "def flip_edge_pixels_proportion(matrix, flip_proportion, count_corners=False, count_both_mat=False, seed=None):\n",
    "    # Set the seed for the random number generator\n",
    "    random.seed(seed)\n",
    "\n",
    "    # Get the edge pixels\n",
    "    edge_pixels = find_edge_pixels(matrix, count_corners, count_both_mat)\n",
    "\n",
    "    # Shuffle the edge_pixels list in place\n",
    "    random.shuffle(edge_pixels)\n",
    "\n",
    "    # Create a copy of the matrix so we don't modify the original\n",
    "    new_matrix = matrix.copy()\n",
    "\n",
    "    # Calculate the number of edge pixels to flip based on the proportion\n",
    "    total_edge_pixels = len(edge_pixels)\n",
    "    flip_count = int(total_edge_pixels * flip_proportion)\n",
    "\n",
    "    # Flip \"flip_proportion\" pixels\n",
    "    for i, j in edge_pixels[:flip_count]:\n",
    "        new_matrix[i, j] = 0 if new_matrix[i, j] == 1 else 1\n",
    "\n",
    "    return new_matrix\n",
    "\n",
    "def defect_error_rate(original_shape, defective_shape, percentage=True):\n",
    "    # Get the shape of the matrices\n",
    "    rows, cols = original_shape.shape\n",
    "\n",
    "    # Initialize a variable to count the number of mismatched pixels\n",
    "    mismatched_pixels = 0\n",
    "\n",
    "    # Loop through the pixels and count the mismatched ones\n",
    "    for i in range(rows):\n",
    "        for j in range(cols):\n",
    "            if original_shape[i, j] != defective_shape[i, j]:\n",
    "                mismatched_pixels += 1\n",
    "\n",
    "    if percentage:\n",
    "        # Calculate the defect error rate as the proportion of mismatched pixels to the total number of pixels\n",
    "        total_pixels = rows * cols\n",
    "        defect_error_rate = mismatched_pixels / total_pixels * 100\n",
    "        return defect_error_rate\n",
    "    else:\n",
    "        # Return the absolute number of mismatched pixels\n",
    "        return mismatched_pixels\n",
    "\n",
    "def visualize_matrices(matrix1, matrix2):\n",
    "    # Create a figure with two subplots\n",
    "    fig, axes = plt.subplots(1, 2, figsize=(10, 5))  # Adjust the size as needed\n",
    "\n",
    "    # Display the first image in the first subplot\n",
    "    axes[0].imshow(matrix1, cmap='gray_r')\n",
    "    axes[0].axis('off')\n",
    "\n",
    "    # Display the second image in the second subplot\n",
    "    axes[1].imshow(matrix2, cmap='gray_r')\n",
    "    axes[1].axis('off')\n"
   ],
   "metadata": {
    "collapsed": false,
    "ExecuteTime": {
     "end_time": "2023-09-03T20:07:51.349564100Z",
     "start_time": "2023-09-03T20:07:51.329559200Z"
    }
   }
  },
  {
   "cell_type": "code",
   "execution_count": 4,
   "outputs": [],
   "source": [
    "def generate_geometry(size, symmetry, volume_fraction, seed=None):\n",
    "    if seed is not None:\n",
    "        np.random.seed(seed)\n",
    "\n",
    "    if symmetry == 0:\n",
    "        # Calculate the number of pixels to be filled\n",
    "        num_pixels = int(round(size * size * volume_fraction))\n",
    "        # Initialize an array of zeros\n",
    "        image = np.zeros((size, size))\n",
    "        # Randomly choose pixels to fill\n",
    "        fill_indices = np.random.choice(size*size, num_pixels, replace=False)\n",
    "        image.put(fill_indices, 1)\n",
    "    elif symmetry == 1:\n",
    "        half_size = size // 2\n",
    "        num_pixels = int(round(half_size * size * volume_fraction))\n",
    "        half_image = np.zeros((size, half_size))\n",
    "        fill_indices = np.random.choice(half_size*size, num_pixels, replace=False)\n",
    "        half_image.put(fill_indices, 1)\n",
    "        # Mirror the half image\n",
    "        image = np.concatenate((half_image, np.fliplr(half_image)), axis=1)\n",
    "    elif symmetry == 2:\n",
    "        quarter_size = size // 2\n",
    "        num_pixels = int(round(quarter_size * quarter_size * volume_fraction))\n",
    "        quarter_image = np.zeros((quarter_size, quarter_size))\n",
    "        fill_indices = np.random.choice(quarter_size*quarter_size, num_pixels, replace=False)\n",
    "        quarter_image.put(fill_indices, 1)\n",
    "        # Mirror the quarter image\n",
    "        half_image = np.concatenate((quarter_image, np.flipud(quarter_image)), axis=0)\n",
    "        image = np.concatenate((half_image, np.fliplr(half_image)), axis=1)\n",
    "    else:\n",
    "        raise ValueError(\"Symmetry should be 0, 1, or 2.\")\n",
    "\n",
    "    return image"
   ],
   "metadata": {
    "collapsed": false,
    "ExecuteTime": {
     "end_time": "2023-09-03T20:07:51.513212500Z",
     "start_time": "2023-09-03T20:07:51.489058400Z"
    }
   }
  },
  {
   "cell_type": "code",
   "execution_count": 5,
   "outputs": [],
   "source": [
    "def generate_mutations(image, n, symmetry, volume_fraction, flip_chance, flip_proportion, use_flip_chance=True, scale=1, count_corners=False, count_both_mat=False, seed=None):\n",
    "    '''\n",
    "    :param image: original image, pixel array of 0s and 1s\n",
    "    :param n: number of mutations to generate\n",
    "    :param size: OBSOLETE\n",
    "    :param symmetry: OBSOLETE\n",
    "    :param volume_fraction: OBSOLETE\n",
    "    :param flip_chance: edge pixel flip probability\n",
    "    :param flip_proportion: edge pixel flip count\n",
    "    :param use_flip_chance: use edge pixel flip probability or count\n",
    "    :param count_corners: count touching corners as edge pixels\n",
    "    :param count_both_mat: count both white and black pixels as edge pixels\n",
    "    :param seed: random seed\n",
    "    :return:\n",
    "    '''\n",
    "    # Initialize a list to store the matrices\n",
    "    matrices = []\n",
    "    image = np.repeat(np.repeat(image, scale, axis=0), scale, axis=1)\n",
    "    #matrices.append(image)\n",
    "    for _ in range(n):\n",
    "        # Flip the edge pixels\n",
    "        if use_flip_chance:\n",
    "            flipped_image = flip_edge_pixels_chance(image, flip_chance, count_corners, count_both_mat, seed)\n",
    "        else:\n",
    "            flipped_image = flip_edge_pixels_proportion(image, flip_proportion, count_corners, count_both_mat, seed)\n",
    "\n",
    "        # Add the flipped image to the list of matrices\n",
    "        matrices.append(flipped_image)\n",
    "\n",
    "    return matrices"
   ],
   "metadata": {
    "collapsed": false,
    "ExecuteTime": {
     "end_time": "2023-09-03T20:07:51.661432900Z",
     "start_time": "2023-09-03T20:07:51.641427100Z"
    }
   }
  },
  {
   "cell_type": "code",
   "execution_count": 6,
   "outputs": [
    {
     "name": "stdout",
     "output_type": "stream",
     "text": [
      "(40, 40) (10, 10)\n"
     ]
    },
    {
     "data": {
      "text/plain": "<Figure size 640x480 with 1 Axes>",
      "image/png": "[encoded data removed]"
     },
     "metadata": {},
     "output_type": "display_data"
    }
   ],
   "source": [
    "#matrix = generate_geometry(10, 2, 0.75, 1)\n",
    "# matrix = np.array([\n",
    "#     [0., 0., 0., 0., 0., 0., 0., 0., 0., 0.],\n",
    "#     [0., 0., 0., 1., 1., 1., 1., 0., 0., 0.],\n",
    "#     [0., 0., 0., 1., 0., 0., 1., 0., 0., 0.],\n",
    "#     [0., 1., 1., 1., 1., 1., 1., 1., 1., 0.],\n",
    "#     [0., 1., 0., 1., 0., 0., 1., 0., 1., 0.],\n",
    "#     [0., 1., 0., 1., 0., 0., 1., 0., 1., 0.],\n",
    "#     [0., 1., 1., 1., 1., 1., 1., 1., 1., 0.],\n",
    "#     [0., 0., 0., 1., 0., 0., 1., 0., 0., 0.],\n",
    "#     [0., 0., 0., 1., 1., 1., 1., 0., 0., 0.],\n",
    "#     [0., 0., 0., 0., 0., 0., 0., 0., 0., 0.],\n",
    "# ])\n",
    "matrix = np.array([\n",
    "    [0., 0., 0., 0., 0., 0., 0., 0., 0., 0.],\n",
    "    [0., 1., 0., 1., 1., 1., 1., 0., 1., 0.],\n",
    "    [0., 0., 0., 1., 0., 0., 1., 0., 0., 0.],\n",
    "    [0., 1., 1., 1., 0., 0., 1., 1., 1., 0.],\n",
    "    [0., 1., 0., 0., 0., 0., 0., 0., 1., 0.],\n",
    "    [0., 1., 0., 0., 0., 0., 0., 0., 1., 0.],\n",
    "    [0., 1., 1., 1., 0., 0., 1., 1., 1., 0.],\n",
    "    [0., 0., 0., 1., 0., 0., 1., 0., 0., 0.],\n",
    "    [0., 1., 0., 1., 1., 1., 1., 0., 1., 0.],\n",
    "    [0., 0., 0., 0., 0., 0., 0., 0., 0., 0.],\n",
    "])\n",
    "#plt.imshow(matrix, cmap='gray_r')\n",
    "scale = 4\n",
    "scaled_matrix = np.repeat(np.repeat(matrix, scale, axis=0), scale, axis=1)\n",
    "plt.imshow(scaled_matrix, cmap='gray_r')\n",
    "print(scaled_matrix.shape, matrix.shape)"
   ],
   "metadata": {
    "collapsed": false,
    "ExecuteTime": {
     "end_time": "2023-09-03T20:07:51.973300700Z",
     "start_time": "2023-09-03T20:07:51.802115300Z"
    }
   }
  },
  {
   "cell_type": "code",
   "execution_count": 7,
   "outputs": [
    {
     "data": {
      "text/plain": "<Figure size 1000x500 with 2 Axes>",
      "image/png": "[encoded data removed]"
     },
     "metadata": {},
     "output_type": "display_data"
    }
   ],
   "source": [
    "#print(find_edge_pixels(scaled_matrix))\n",
    "edge_matrix = get_edge_pixels_matrix(scaled_matrix, count_corners=False, count_both_mat=False)\n",
    "edge_matrix_both_mat = get_edge_pixels_matrix(scaled_matrix, count_corners=False, count_both_mat=True)\n",
    "#visualize_matrices(scaled_matrix, edge_matrix)\n",
    "visualize_matrices(edge_matrix, edge_matrix_both_mat)"
   ],
   "metadata": {
    "collapsed": false,
    "ExecuteTime": {
     "end_time": "2023-09-03T20:07:53.026592300Z",
     "start_time": "2023-09-03T20:07:52.898554500Z"
    }
   }
  },
  {
   "cell_type": "code",
   "execution_count": 8,
   "outputs": [
    {
     "name": "stdout",
     "output_type": "stream",
     "text": [
      "512 508\n",
      "1.625\n"
     ]
    },
    {
     "data": {
      "text/plain": "<Figure size 1000x500 with 2 Axes>",
      "image/png": "[encoded data removed]"
     },
     "metadata": {},
     "output_type": "display_data"
    }
   ],
   "source": [
    "# Flip the edge pixels with a 50% chance\n",
    "# error_matrix = flip_edge_pixels_chance(scaled_matrix,\n",
    "#                                        flip_chance=.05,\n",
    "#                                        count_corners=False,\n",
    "#                                        count_both_mat=True,\n",
    "#                                        seed=0)\n",
    "error_matrix = flip_edge_pixels_proportion(scaled_matrix,\n",
    "                                       flip_proportion=0.05,\n",
    "                                       count_corners=False,\n",
    "                                       count_both_mat=True,\n",
    "                                       seed=0)\n",
    "\n",
    "# Display the original and flipped images side by side\n",
    "visualize_matrices(scaled_matrix, error_matrix)\n",
    "print(np.sum(scaled_matrix==1), np.sum(error_matrix==1))\n",
    "print(defect_error_rate(scaled_matrix, error_matrix, percentage=True))"
   ],
   "metadata": {
    "collapsed": false,
    "ExecuteTime": {
     "end_time": "2023-09-03T20:07:55.810173700Z",
     "start_time": "2023-09-03T20:07:55.683102200Z"
    }
   }
  },
  {
   "cell_type": "code",
   "execution_count": 10,
   "outputs": [
    {
     "name": "stdout",
     "output_type": "stream",
     "text": [
      "(40, 40)\n"
     ]
    },
    {
     "data": {
      "text/plain": "<Figure size 1500x500 with 3 Axes>",
      "image/png": "[encoded data removed]"
     },
     "metadata": {},
     "output_type": "display_data"
    }
   ],
   "source": [
    "fig, axes = plt.subplots(1, 3, figsize=(15, 5), sharex=True, sharey=True)\n",
    "print(scaled_matrix.shape)\n",
    "# Plotting the 1st image in the first subplot\n",
    "axes[0].imshow(scaled_matrix, cmap='gray')\n",
    "axes[0].set_title('Original Shape (Upscaled 8x)')\n",
    "\n",
    "# Plotting the 2nd image in the second subplot\n",
    "axes[1].imshow(edge_matrix_both_mat, cmap='gray')\n",
    "axes[1].set_title('Edge Pixels, Counting Both Materials')\n",
    "\n",
    "# Plotting the 3rd image in the third subplot\n",
    "axes[2].imshow(error_matrix, cmap='gray')\n",
    "axes[2].set_title('Defective Shape, 2% Flip Proportion')\n",
    "\n",
    "#plt.tight_layout()\n",
    "plt.show()\n"
   ],
   "metadata": {
    "collapsed": false,
    "ExecuteTime": {
     "end_time": "2023-09-03T20:08:30.477675700Z",
     "start_time": "2023-09-03T20:08:30.179337900Z"
    }
   }
  },
  {
   "cell_type": "code",
   "execution_count": 11,
   "outputs": [],
   "source": [
    "# error_scale = 2\n",
    "# scaled_error_matrix = np.repeat(np.repeat(scaled_error_matrix, error_scale, axis=0), error_scale, axis=1)\n",
    "# plt.imshow(scaled_error_matrix, cmap='gray_r')"
   ],
   "metadata": {
    "collapsed": false,
    "ExecuteTime": {
     "end_time": "2023-09-03T20:08:37.033322700Z",
     "start_time": "2023-09-03T20:08:37.019750300Z"
    }
   }
  },
  {
   "cell_type": "code",
   "execution_count": 12,
   "outputs": [],
   "source": [
    "# sio.savemat('defect_matrix'+str(scaled_error_matrix.shape[0])+'px_5%.mat', {'error_geometries': scaled_error_matrix})"
   ],
   "metadata": {
    "collapsed": false,
    "ExecuteTime": {
     "end_time": "2023-09-03T20:08:37.228174900Z",
     "start_time": "2023-09-03T20:08:37.214602200Z"
    }
   }
  },
  {
   "cell_type": "code",
   "execution_count": 13,
   "outputs": [],
   "source": [
    "# Generate 100 matrices\n",
    "fc_matrices = generate_mutations(\n",
    "    #image=matrix,\n",
    "    image=scaled_matrix,\n",
    "    n=100,\n",
    "    symmetry=2,\n",
    "    volume_fraction=0.5,\n",
    "    flip_chance=0.05,\n",
    "    flip_proportion=0.05,\n",
    "    use_flip_chance=True,\n",
    "    scale=1,\n",
    "    count_corners=False,\n",
    "    count_both_mat=True,\n",
    "    seed=None\n",
    ")"
   ],
   "metadata": {
    "collapsed": false,
    "ExecuteTime": {
     "end_time": "2023-09-03T20:08:41.331234500Z",
     "start_time": "2023-09-03T20:08:41.173587100Z"
    }
   }
  },
  {
   "cell_type": "code",
   "execution_count": 14,
   "outputs": [],
   "source": [
    "fp_matrices = generate_mutations(\n",
    "    image=matrix,\n",
    "    #image=scaled_matrix,\n",
    "    n=100,\n",
    "    symmetry=2,\n",
    "    volume_fraction=0.5,\n",
    "    flip_chance=0.05,\n",
    "    flip_proportion=0.05,\n",
    "    use_flip_chance=False,\n",
    "    scale=8,\n",
    "    count_corners=False,\n",
    "    count_both_mat=True,\n",
    "    seed=None\n",
    ")"
   ],
   "metadata": {
    "collapsed": false,
    "ExecuteTime": {
     "end_time": "2023-09-03T20:08:42.076971900Z",
     "start_time": "2023-09-03T20:08:41.366265300Z"
    }
   }
  },
  {
   "cell_type": "code",
   "execution_count": 15,
   "outputs": [
    {
     "name": "stdout",
     "output_type": "stream",
     "text": [
      "(100, 80, 80)\n",
      "<class 'numpy.ndarray'>\n",
      "8.0\n"
     ]
    }
   ],
   "source": [
    "# Convert the list of matrices to a 3D numpy array\n",
    "#matrices_array = np.array(fc_matrices)\n",
    "matrices_array = np.array(fp_matrices)\n",
    "print(matrices_array.shape)\n",
    "print(type(matrices_array[0][0]))\n",
    "# Export the array to a MATLAB .mat file\n",
    "inferred_scale = matrices_array[0].shape[0] / 10\n",
    "print(inferred_scale)\n",
    "sio.savemat('error_geometries_fp_'+str(matrices_array[0].shape[0])+'px_5%.mat', {'error_geometries': matrices_array})"
   ],
   "metadata": {
    "collapsed": false,
    "ExecuteTime": {
     "end_time": "2023-09-03T20:08:52.657711Z",
     "start_time": "2023-09-03T20:08:52.633120600Z"
    }
   }
  },
  {
   "cell_type": "code",
   "execution_count": 16,
   "outputs": [
    {
     "data": {
      "text/plain": "<Figure size 640x480 with 9 Axes>",
      "image/png": "[encoded data removed]"
     },
     "metadata": {},
     "output_type": "display_data"
    }
   ],
   "source": [
    "fig, axs = plt.subplots(3, 3)\n",
    "\n",
    "# Plot the original image in the center\n",
    "axs[1, 1].imshow(matrices_array[0], cmap='gray')\n",
    "#axs[1, 1].set_title(\"Original\")\n",
    "\n",
    "# Remove axis for the original image\n",
    "axs[1, 1].axis('off')\n",
    "\n",
    "# Get 8 random samples from the matrices\n",
    "samples = random.sample(list(matrices_array), 8)\n",
    "\n",
    "# Loop over the subplots and add the images\n",
    "for i, ax in enumerate(axs.flat):\n",
    "    # Skip the center subplot\n",
    "    if i != 4:\n",
    "        # Adjust the index for samples when i is greater than or equal to 4\n",
    "        sample_index = i if i < 4 else i - 1\n",
    "\n",
    "        # Display the image\n",
    "        ax.imshow(samples[sample_index], cmap='gray')\n",
    "\n",
    "        # Remove the axes\n",
    "        ax.axis('off')\n",
    "\n",
    "# Show the plot\n",
    "plt.show()"
   ],
   "metadata": {
    "collapsed": false,
    "ExecuteTime": {
     "end_time": "2023-09-03T20:08:53.142120700Z",
     "start_time": "2023-09-03T20:08:52.826529200Z"
    }
   }
  },
  {
   "cell_type": "code",
   "execution_count": 17,
   "outputs": [
    {
     "name": "stdout",
     "output_type": "stream",
     "text": [
      "36.01 1.709375\n"
     ]
    }
   ],
   "source": [
    "fc_generated_mutations_defect_rates = np.zeros(len(fc_matrices))\n",
    "#fc_generated_mutations_defect_rates = [0 for _ in range(len(fc_matrices))]\n",
    "for i, matrix in enumerate(fc_matrices):\n",
    "    fc_generated_mutations_defect_rates[i] = defect_error_rate(scaled_matrix, matrix, percentage=True)\n",
    "\n",
    "fp_generated_mutations_defect_rates = np.zeros(len(fp_matrices))\n",
    "#fp_generated_mutations_defect_rates = [0 for _ in range(len(fp_matrices))]\n",
    "for i, matrix in enumerate(fp_matrices):\n",
    "    fp_generated_mutations_defect_rates[i] = defect_error_rate(scaled_matrix, matrix, percentage=True)\n",
    "\n",
    "print(np.mean(fp_generated_mutations_defect_rates), np.mean(fc_generated_mutations_defect_rates))"
   ],
   "metadata": {
    "collapsed": false,
    "ExecuteTime": {
     "end_time": "2023-09-03T20:09:00.974866700Z",
     "start_time": "2023-09-03T20:09:00.893340200Z"
    }
   }
  },
  {
   "cell_type": "code",
   "execution_count": 18,
   "outputs": [
    {
     "data": {
      "text/plain": "<Figure size 640x480 with 1 Axes>",
      "image/png": "[encoded data removed]"
     },
     "metadata": {},
     "output_type": "display_data"
    }
   ],
   "source": [
    "plt.hist(fc_generated_mutations_defect_rates, bins=50, color='skyblue', edgecolor='black')\n",
    "plt.hist(fp_generated_mutations_defect_rates, bins=50, color='red', edgecolor='black')\n",
    "\n",
    "# Adding labels and a title\n",
    "plt.xlabel('Defect Rate (%)')\n",
    "plt.ylabel('Frequency')\n",
    "plt.title('Histogram of 100 Defective Matrices\\' Defect Rates')\n",
    "\n",
    "# Display the histogram\n",
    "plt.show()"
   ],
   "metadata": {
    "collapsed": false,
    "ExecuteTime": {
     "end_time": "2023-09-03T20:09:01.540816500Z",
     "start_time": "2023-09-03T20:09:01.259668600Z"
    }
   }
  },
  {
   "cell_type": "markdown",
   "source": [
    "Geometry Generation for Gaussian 6+1 Inputs Quadrature Rule Study"
   ],
   "metadata": {
    "collapsed": false
   }
  },
  {
   "cell_type": "code",
   "execution_count": 45,
   "outputs": [
    {
     "data": {
      "text/plain": "<matplotlib.image.AxesImage at 0x1932d473760>"
     },
     "execution_count": 45,
     "metadata": {},
     "output_type": "execute_result"
    },
    {
     "data": {
      "text/plain": "<Figure size 640x480 with 1 Axes>",
      "image/png": "[encoded data removed]"
     },
     "metadata": {},
     "output_type": "display_data"
    }
   ],
   "source": [
    "matrix = np.array([\n",
    "    [0., 0., 0., 0., 0., 0., 0., 0., 0., 0.],\n",
    "    [0., 1., 0., 1., 1., 1., 1., 0., 1., 0.],\n",
    "    [0., 0., 0., 1., 0., 0., 1., 0., 0., 0.],\n",
    "    [0., 1., 1., 1., 0., 0., 1., 1., 1., 0.],\n",
    "    [0., 1., 0., 0., 0., 0., 0., 0., 1., 0.],\n",
    "    [0., 1., 0., 0., 0., 0., 0., 0., 1., 0.],\n",
    "    [0., 1., 1., 1., 0., 0., 1., 1., 1., 0.],\n",
    "    [0., 0., 0., 1., 0., 0., 1., 0., 0., 0.],\n",
    "    [0., 1., 0., 1., 1., 1., 1., 0., 1., 0.],\n",
    "    [0., 0., 0., 0., 0., 0., 0., 0., 0., 0.],\n",
    "])\n",
    "plt.imshow(matrix, cmap='gray_r')"
   ],
   "metadata": {
    "collapsed": false,
    "ExecuteTime": {
     "end_time": "2023-09-03T20:29:31.350071700Z",
     "start_time": "2023-09-03T20:29:31.254341800Z"
    }
   }
  },
  {
   "cell_type": "code",
   "execution_count": 46,
   "outputs": [],
   "source": [
    "study_folder = 'gaussian 6+1 inputs quadrature rule 2nd geo study'\n",
    "\n",
    "geo_dist_trunc_pd_1 = sio.loadmat(os.path.join(study_folder, 'geo_dist_trunc_pd_1.mat'))['pd_1_geos'].flatten()\n",
    "geo_dist_trunc_pd_2 = sio.loadmat(os.path.join(study_folder, 'geo_dist_trunc_pd_2.mat'))['pd_2_geos'].flatten()\n",
    "geo_dist_trunc_pd_3 = sio.loadmat(os.path.join(study_folder, 'geo_dist_trunc_pd_3.mat'))['pd_3_geos'].flatten()\n",
    "geo_dist_trunc = {\n",
    "    'pd_1_geos': geo_dist_trunc_pd_1,\n",
    "    'pd_2_geos': geo_dist_trunc_pd_2,\n",
    "    'pd_3_geos': geo_dist_trunc_pd_3,\n",
    "}"
   ],
   "metadata": {
    "collapsed": false,
    "ExecuteTime": {
     "end_time": "2023-09-03T20:29:33.438438500Z",
     "start_time": "2023-09-03T20:29:33.421801Z"
    }
   }
  },
  {
   "cell_type": "code",
   "execution_count": 47,
   "outputs": [
    {
     "name": "stdout",
     "output_type": "stream",
     "text": [
      "(128, 40, 40)\n",
      "(2187, 40, 40)\n",
      "(16384, 40, 40)\n"
     ]
    }
   ],
   "source": [
    "mat_scale = 4\n",
    "scaled_matrix = np.repeat(np.repeat(matrix, mat_scale, axis=0), mat_scale, axis=1)\n",
    "geo_fp_qr = {\n",
    "    'pd_1_geos': [],\n",
    "    'pd_2_geos': [],\n",
    "    'pd_3_geos': [],\n",
    "}\n",
    "for d, g in geo_dist_trunc.items():\n",
    "    #d = 'pd_#_geos'\n",
    "    geo_fp_qr_matrices = np.zeros((len(g),scaled_matrix.shape[0], scaled_matrix.shape[1]))\n",
    "    print(geo_fp_qr_matrices.shape)\n",
    "    for i, fp in enumerate(geo_dist_trunc[d]):\n",
    "        geo_fp_qr_matrices[i] = flip_edge_pixels_proportion(scaled_matrix, flip_proportion=fp, count_corners=False, count_both_mat=True,\n",
    "            seed=None)\n",
    "    geo_fp_qr[d] = geo_fp_qr_matrices\n",
    "    sio.savemat(os.path.join(study_folder, 'fp_matrices_'+d+'.mat'), {d: geo_fp_qr_matrices})"
   ],
   "metadata": {
    "collapsed": false,
    "ExecuteTime": {
     "end_time": "2023-09-03T20:30:09.104370300Z",
     "start_time": "2023-09-03T20:29:39.975869600Z"
    }
   }
  },
  {
   "cell_type": "code",
   "execution_count": 50,
   "outputs": [
    {
     "data": {
      "text/plain": "<matplotlib.image.AxesImage at 0x193171d2190>"
     },
     "execution_count": 50,
     "metadata": {},
     "output_type": "execute_result"
    },
    {
     "data": {
      "text/plain": "<Figure size 640x480 with 1 Axes>",
      "image/png": "[encoded data removed]"
     },
     "metadata": {},
     "output_type": "display_data"
    }
   ],
   "source": [
    "plt.imshow(geo_fp_qr['pd_3_geos'][-10], cmap='gray_r')"
   ],
   "metadata": {
    "collapsed": false,
    "ExecuteTime": {
     "end_time": "2023-09-03T20:30:18.032441900Z",
     "start_time": "2023-09-03T20:30:17.924912900Z"
    }
   }
  },
  {
   "cell_type": "markdown",
   "source": [
    "Geometry Generation for Gaussian 6+1 Inputs MC Study"
   ],
   "metadata": {
    "collapsed": false
   }
  },
  {
   "cell_type": "code",
   "execution_count": 35,
   "outputs": [
    {
     "data": {
      "text/plain": "<matplotlib.image.AxesImage at 0x19323b04940>"
     },
     "execution_count": 35,
     "metadata": {},
     "output_type": "execute_result"
    },
    {
     "data": {
      "text/plain": "<Figure size 640x480 with 1 Axes>",
      "image/png": "[encoded data removed]"
     },
     "metadata": {},
     "output_type": "display_data"
    }
   ],
   "source": [
    "matrix = np.array([\n",
    "    [0., 0., 0., 0., 0., 0., 0., 0., 0., 0.],\n",
    "    [0., 1., 0., 1., 1., 1., 1., 0., 1., 0.],\n",
    "    [0., 0., 0., 1., 0., 0., 1., 0., 0., 0.],\n",
    "    [0., 1., 1., 1., 0., 0., 1., 1., 1., 0.],\n",
    "    [0., 1., 0., 0., 0., 0., 0., 0., 1., 0.],\n",
    "    [0., 1., 0., 0., 0., 0., 0., 0., 1., 0.],\n",
    "    [0., 1., 1., 1., 0., 0., 1., 1., 1., 0.],\n",
    "    [0., 0., 0., 1., 0., 0., 1., 0., 0., 0.],\n",
    "    [0., 1., 0., 1., 1., 1., 1., 0., 1., 0.],\n",
    "    [0., 0., 0., 0., 0., 0., 0., 0., 0., 0.],\n",
    "])\n",
    "plt.imshow(matrix, cmap='gray_r')"
   ],
   "metadata": {
    "collapsed": false,
    "ExecuteTime": {
     "end_time": "2023-09-03T20:23:20.172436200Z",
     "start_time": "2023-09-03T20:23:20.087328400Z"
    }
   }
  },
  {
   "cell_type": "code",
   "execution_count": 34,
   "outputs": [],
   "source": [
    "study_folder = 'gaussian 6+1 inputs mc 2nd geo study'\n",
    "\n",
    "geo_dist_trunc_mc_100 = sio.loadmat(os.path.join(study_folder, 'geo_fp_dist_trunc_mc_100.mat'))['mc_100_geos'].flatten()\n",
    "geo_dist_trunc_mc_1000 = sio.loadmat(os.path.join(study_folder, 'geo_fp_dist_trunc_mc_1000.mat'))['mc_1000_geos'].flatten()\n",
    "geo_dist_trunc_mc_10000 = sio.loadmat(os.path.join(study_folder, 'geo_fp_dist_trunc_mc_10000.mat'))['mc_10000_geos'].flatten()\n",
    "\n",
    "geo_dist_trunc_mc = {\n",
    "    'mc_100': geo_dist_trunc_mc_100,\n",
    "    'mc_1000': geo_dist_trunc_mc_1000,\n",
    "    'mc_10000': geo_dist_trunc_mc_10000,\n",
    "}"
   ],
   "metadata": {
    "collapsed": false,
    "ExecuteTime": {
     "end_time": "2023-09-03T20:23:19.712993200Z",
     "start_time": "2023-09-03T20:23:19.703992200Z"
    }
   }
  },
  {
   "cell_type": "code",
   "execution_count": 40,
   "outputs": [
    {
     "name": "stdout",
     "output_type": "stream",
     "text": [
      "(100, 40, 40)\n",
      "(1000, 40, 40)\n",
      "(10000, 40, 40)\n"
     ]
    }
   ],
   "source": [
    "mat_scale = 4\n",
    "scaled_matrix = np.repeat(np.repeat(matrix, mat_scale, axis=0), mat_scale, axis=1)\n",
    "geo_fp_mc = {\n",
    "    'mc_100': [],\n",
    "    'mc_1000': [],\n",
    "    'mc_10000': []\n",
    "}\n",
    "for d, g in geo_dist_trunc_mc.items():\n",
    "    #d = 'pd_#_geos'\n",
    "    geo_fp_mc_matrices = np.zeros((len(g),scaled_matrix.shape[0], scaled_matrix.shape[1]))\n",
    "    print(geo_fp_mc_matrices.shape)\n",
    "    for i, fp in enumerate(geo_dist_trunc_mc[d]):\n",
    "        geo_fp_mc_matrices[i] = flip_edge_pixels_proportion(scaled_matrix, flip_proportion=fp, count_corners=False, count_both_mat=True,\n",
    "                                                         seed=None)\n",
    "    geo_fp_mc[d] = geo_fp_mc_matrices\n",
    "    sio.savemat(os.path.join(study_folder, 'fp_matrices_'+d+'.mat'), {d+'_geo': geo_fp_mc_matrices})"
   ],
   "metadata": {
    "collapsed": false,
    "ExecuteTime": {
     "end_time": "2023-09-03T20:25:28.626255600Z",
     "start_time": "2023-09-03T20:25:11.197572800Z"
    }
   }
  },
  {
   "cell_type": "code",
   "execution_count": 41,
   "outputs": [
    {
     "data": {
      "text/plain": "<matplotlib.image.AxesImage at 0x19323c7eee0>"
     },
     "execution_count": 41,
     "metadata": {},
     "output_type": "execute_result"
    },
    {
     "data": {
      "text/plain": "<Figure size 640x480 with 1 Axes>",
      "image/png": "[encoded data removed]"
     },
     "metadata": {},
     "output_type": "display_data"
    }
   ],
   "source": [
    "plt.imshow(geo_fp_mc['mc_10000'][-1], cmap='gray_r')"
   ],
   "metadata": {
    "collapsed": false,
    "ExecuteTime": {
     "end_time": "2023-09-03T20:25:28.734787300Z",
     "start_time": "2023-09-03T20:25:28.627256500Z"
    }
   }
  },
  {
   "cell_type": "code",
   "execution_count": 44,
   "outputs": [
    {
     "data": {
      "text/plain": "<matplotlib.image.AxesImage at 0x1932d3ecd90>"
     },
     "execution_count": 44,
     "metadata": {},
     "output_type": "execute_result"
    },
    {
     "data": {
      "text/plain": "<Figure size 640x480 with 1 Axes>",
      "image/png": "[encoded data removed]"
     },
     "metadata": {},
     "output_type": "display_data"
    }
   ],
   "source": [
    "plt.imshow(geo_fp_mc['mc_10000'][-200], cmap='gray_r')\n"
   ],
   "metadata": {
    "collapsed": false,
    "ExecuteTime": {
     "end_time": "2023-09-03T20:25:53.076371900Z",
     "start_time": "2023-09-03T20:25:52.950836200Z"
    }
   }
  },
  {
   "cell_type": "markdown",
   "source": [
    "Check Datasets"
   ],
   "metadata": {
    "collapsed": false
   }
  },
  {
   "cell_type": "code",
   "execution_count": 60,
   "outputs": [],
   "source": [
    "from pathlib import Path\n",
    "\n",
    "path = Path(\"gaussian 6+1 inputs quadrature rule study/fp_matrices_pd_3_geos.mat\")\n",
    "\n",
    "data = sio.loadmat(path)"
   ],
   "metadata": {
    "collapsed": false,
    "ExecuteTime": {
     "end_time": "2023-09-03T21:35:12.944963400Z",
     "start_time": "2023-09-03T21:35:12.901840300Z"
    }
   }
  },
  {
   "cell_type": "code",
   "execution_count": 62,
   "outputs": [
    {
     "data": {
      "text/plain": "<matplotlib.image.AxesImage at 0x1930ccc6d30>"
     },
     "execution_count": 62,
     "metadata": {},
     "output_type": "execute_result"
    },
    {
     "data": {
      "text/plain": "<Figure size 640x480 with 1 Axes>",
      "image/png": "[encoded data removed]"
     },
     "metadata": {},
     "output_type": "display_data"
    }
   ],
   "source": [
    "plt.imshow(data['pd_2_geos'][200], cmap='gray_r')"
   ],
   "metadata": {
    "collapsed": false,
    "ExecuteTime": {
     "end_time": "2023-09-03T21:35:16.086940400Z",
     "start_time": "2023-09-03T21:35:15.961903400Z"
    }
   }
  },
  {
   "cell_type": "code",
   "execution_count": null,
   "outputs": [],
   "source": [],
   "metadata": {
    "collapsed": false
   }
  }
 ],
 "metadata": {
  "kernelspec": {
   "display_name": "Python 3",
   "language": "python",
   "name": "python3"
  },
  "language_info": {
   "codemirror_mode": {
    "name": "ipython",
    "version": 2
   },
   "file_extension": ".py",
   "mimetype": "text/x-python",
   "name": "python",
   "nbconvert_exporter": "python",
   "pygments_lexer": "ipython2",
   "version": "2.7.6"
  }
 },
 "nbformat": 4,
 "nbformat_minor": 0
}
