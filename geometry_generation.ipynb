{
 "cells": [
  {
   "cell_type": "code",
   "execution_count": 1,
   "metadata": {
    "collapsed": true,
    "ExecuteTime": {
     "end_time": "2023-07-14T21:59:43.705959100Z",
     "start_time": "2023-07-14T21:59:43.596571400Z"
    }
   },
   "outputs": [],
   "source": [
    "import numpy as np\n",
    "import matplotlib.pyplot as plt\n",
    "import random\n",
    "import scipy.io as sio"
   ]
  },
  {
   "cell_type": "code",
   "execution_count": 32,
   "outputs": [],
   "source": [
    "def is_edge_pixel(matrix, i, j, count_corners=False, count_both_mat=False):\n",
    "    # Get the shape of the matrix\n",
    "    rows, cols = matrix.shape\n",
    "\n",
    "    # Check if the pixel is an edge pixel\n",
    "    if count_both_mat:\n",
    "        if matrix[i, j] == 1:\n",
    "            if count_corners:\n",
    "                # Check the 8 neighbors\n",
    "                return (\n",
    "                        i > 0 and matrix[i - 1, j] == 0 or #Above\n",
    "                        i < rows - 1 and matrix[i + 1, j] == 0 or #below\n",
    "                        j > 0 and matrix[i, j - 1] == 0 or #Left\n",
    "                        j < cols - 1 and matrix[i, j + 1] == 0 or #Right\n",
    "                        i > 0 and j > 0 and matrix[i - 1, j - 1] == 0 or\n",
    "                        i < rows - 1 and j < cols - 1 and matrix[i + 1, j + 1] == 0 or\n",
    "                        i > 0 and j < cols - 1 and matrix[i - 1, j + 1] == 0 or\n",
    "                        i < rows - 1 and j > 0 and matrix[i + 1, j - 1] == 0\n",
    "                )\n",
    "            else:\n",
    "                # Check the 4 neighbors\n",
    "                return (\n",
    "                        i > 0 and matrix[i - 1, j] == 0 or\n",
    "                        i < rows - 1 and matrix[i + 1, j] == 0 or\n",
    "                        j > 0 and matrix[i, j - 1] == 0 or\n",
    "                        j < cols - 1 and matrix[i, j + 1] == 0\n",
    "                )\n",
    "        elif matrix[i, j] == 0:\n",
    "            if count_corners:\n",
    "                # Check the 8 neighbors\n",
    "                return (\n",
    "                        i > 0 and matrix[i - 1, j] == 1 or #Above\n",
    "                        i < rows - 1 and matrix[i + 1, j] == 1 or #below\n",
    "                        j > 0 and matrix[i, j - 1] == 1 or #Left\n",
    "                        j < cols - 1 and matrix[i, j + 1] == 1 or #Right\n",
    "                        i > 0 and j > 0 and matrix[i - 1, j - 1] == 1 or\n",
    "                        i < rows - 1 and j < cols - 1 and matrix[i + 1, j + 1] == 1 or\n",
    "                        i > 0 and j < cols - 1 and matrix[i - 1, j + 1] == 1 or\n",
    "                        i < rows - 1 and j > 0 and matrix[i + 1, j - 1] == 1\n",
    "                )\n",
    "            else:\n",
    "                # Check the 4 neighbors\n",
    "                return (\n",
    "                        i > 0 and matrix[i - 1, j] == 1 or\n",
    "                        i < rows - 1 and matrix[i + 1, j] == 1 or\n",
    "                        j > 0 and matrix[i, j - 1] == 1 or\n",
    "                        j < cols - 1 and matrix[i, j + 1] == 1\n",
    "                )\n",
    "            return False\n",
    "    else: #Count only 1's\n",
    "        if matrix[i, j] == 1:\n",
    "            if count_corners:\n",
    "                # Check the 8 neighbors\n",
    "                return (\n",
    "                        i > 0 and matrix[i - 1, j] == 0 or\n",
    "                        i < rows - 1 and matrix[i + 1, j] == 0 or\n",
    "                        j > 0 and matrix[i, j - 1] == 0 or\n",
    "                        j < cols - 1 and matrix[i, j + 1] == 0 or\n",
    "                        i > 0 and j > 0 and matrix[i - 1, j - 1] == 0 or\n",
    "                        i < rows - 1 and j < cols - 1 and matrix[i + 1, j + 1] == 0 or\n",
    "                        i > 0 and j < cols - 1 and matrix[i - 1, j + 1] == 0 or\n",
    "                        i < rows - 1 and j > 0 and matrix[i + 1, j - 1] == 0\n",
    "                )\n",
    "            else:\n",
    "                # Check the 4 neighbors\n",
    "                return (\n",
    "                        i > 0 and matrix[i - 1, j] == 0 or\n",
    "                        i < rows - 1 and matrix[i + 1, j] == 0 or\n",
    "                        j > 0 and matrix[i, j - 1] == 0 or\n",
    "                        j < cols - 1 and matrix[i, j + 1] == 0\n",
    "                )\n",
    "        else:\n",
    "            return False\n",
    "\n",
    "def find_edge_pixels(matrix, count_corners=False, count_both_mat=False):\n",
    "    \"\"\"Find the edge pixels in a matrix.\"\"\"\n",
    "    # Get the size of the matrix\n",
    "    n = matrix.shape[0]\n",
    "\n",
    "    # Initialize an empty list to store the edge pixel locations\n",
    "    edge_pixels = []\n",
    "\n",
    "    # Loop over all pixels in the matrix\n",
    "    for i in range(n):\n",
    "        for j in range(n):\n",
    "            # Check if the current pixel is an edge pixel\n",
    "            if is_edge_pixel(matrix, i, j, count_corners, count_both_mat):\n",
    "                # If it is, add its location to the list of edge pixel locations\n",
    "                edge_pixels.append((i, j))\n",
    "\n",
    "    # Return the list of edge pixel locations\n",
    "    return edge_pixels\n",
    "\n",
    "def get_edge_pixels_matrix(matrix, count_corners=False, count_both_mat=False):\n",
    "    # Create a new matrix filled with zeros\n",
    "    edge_matrix = np.zeros_like(matrix)\n",
    "\n",
    "    # Get the edge pixels\n",
    "    edges = find_edge_pixels(matrix, count_corners, count_both_mat)\n",
    "\n",
    "    # Set the edge pixels to 1 in the new matrix\n",
    "    for i, j in edges:\n",
    "        edge_matrix[i][j] = 1\n",
    "\n",
    "    return edge_matrix\n",
    "\n",
    "def flip_edge_pixels(matrix, flip_chance, count_corners=False, count_both_mat=False, seed=None):\n",
    "    # Set the seed for the random number generator\n",
    "    random.seed(seed)\n",
    "\n",
    "    # Get the edge pixels\n",
    "    edges = find_edge_pixels(matrix, count_corners, count_both_mat)\n",
    "\n",
    "    # Create a copy of the matrix so we don't modify the original\n",
    "    new_matrix = matrix.copy()\n",
    "\n",
    "    # Flip each edge pixel with the given probability\n",
    "    for i, j in edges:\n",
    "        if random.random() < flip_chance:\n",
    "            new_matrix[i, j] = 0 if new_matrix[i, j] == 1 else 1\n",
    "\n",
    "    return new_matrix\n",
    "\n",
    "def visualize_matrices(matrix1, matrix2):\n",
    "    # Create a figure with two subplots\n",
    "    fig, axes = plt.subplots(1, 2, figsize=(10, 5))  # Adjust the size as needed\n",
    "\n",
    "    # Display the first image in the first subplot\n",
    "    axes[0].imshow(matrix1, cmap='gray_r')\n",
    "    axes[0].axis('off')\n",
    "\n",
    "    # Display the second image in the second subplot\n",
    "    axes[1].imshow(matrix2, cmap='gray_r')\n",
    "    axes[1].axis('off')\n"
   ],
   "metadata": {
    "collapsed": false,
    "ExecuteTime": {
     "end_time": "2023-07-14T21:59:43.719086200Z",
     "start_time": "2023-07-14T21:59:43.709960600Z"
    }
   }
  },
  {
   "cell_type": "code",
   "execution_count": 3,
   "outputs": [],
   "source": [
    "def generate_geometry(size, symmetry, volume_fraction, seed=None):\n",
    "    if seed is not None:\n",
    "        np.random.seed(seed)\n",
    "\n",
    "    if symmetry == 0:\n",
    "        # Calculate the number of pixels to be filled\n",
    "        num_pixels = int(round(size * size * volume_fraction))\n",
    "        # Initialize an array of zeros\n",
    "        image = np.zeros((size, size))\n",
    "        # Randomly choose pixels to fill\n",
    "        fill_indices = np.random.choice(size*size, num_pixels, replace=False)\n",
    "        image.put(fill_indices, 1)\n",
    "    elif symmetry == 1:\n",
    "        half_size = size // 2\n",
    "        num_pixels = int(round(half_size * size * volume_fraction))\n",
    "        half_image = np.zeros((size, half_size))\n",
    "        fill_indices = np.random.choice(half_size*size, num_pixels, replace=False)\n",
    "        half_image.put(fill_indices, 1)\n",
    "        # Mirror the half image\n",
    "        image = np.concatenate((half_image, np.fliplr(half_image)), axis=1)\n",
    "    elif symmetry == 2:\n",
    "        quarter_size = size // 2\n",
    "        num_pixels = int(round(quarter_size * quarter_size * volume_fraction))\n",
    "        quarter_image = np.zeros((quarter_size, quarter_size))\n",
    "        fill_indices = np.random.choice(quarter_size*quarter_size, num_pixels, replace=False)\n",
    "        quarter_image.put(fill_indices, 1)\n",
    "        # Mirror the quarter image\n",
    "        half_image = np.concatenate((quarter_image, np.flipud(quarter_image)), axis=0)\n",
    "        image = np.concatenate((half_image, np.fliplr(half_image)), axis=1)\n",
    "    else:\n",
    "        raise ValueError(\"Symmetry should be 0, 1, or 2.\")\n",
    "\n",
    "    return image"
   ],
   "metadata": {
    "collapsed": false,
    "ExecuteTime": {
     "end_time": "2023-07-14T21:59:43.752093200Z",
     "start_time": "2023-07-14T21:59:43.722086700Z"
    }
   }
  },
  {
   "cell_type": "code",
   "execution_count": 38,
   "outputs": [],
   "source": [
    "def generate_mutations(image, n, size, symmetry, volume_fraction, flip_chance, count_corners=False, count_both_mat=False, seed=None):\n",
    "    # Initialize a list to store the matrices\n",
    "    matrices = []\n",
    "    matrices.append(image)\n",
    "    for _ in range(n-1):\n",
    "        # Flip the edge pixels\n",
    "        flipped_image = flip_edge_pixels(image, flip_chance, count_corners, count_both_mat, seed)\n",
    "\n",
    "        # Add the flipped image to the list of matrices\n",
    "        matrices.append(flipped_image)\n",
    "\n",
    "    return matrices"
   ],
   "metadata": {
    "collapsed": false,
    "ExecuteTime": {
     "end_time": "2023-07-14T21:59:43.753093300Z",
     "start_time": "2023-07-14T21:59:43.734088800Z"
    }
   }
  },
  {
   "cell_type": "code",
   "execution_count": 78,
   "outputs": [
    {
     "name": "stdout",
     "output_type": "stream",
     "text": [
      "[[0. 0. 0. 0. 0. 0. 0. 0. 0. 0.]\n",
      " [0. 0. 0. 1. 1. 1. 1. 0. 0. 0.]\n",
      " [0. 0. 0. 1. 0. 0. 1. 0. 0. 0.]\n",
      " [0. 1. 1. 1. 1. 1. 1. 1. 1. 0.]\n",
      " [0. 1. 0. 1. 0. 0. 1. 0. 1. 0.]\n",
      " [0. 1. 0. 1. 0. 0. 1. 0. 1. 0.]\n",
      " [0. 1. 1. 1. 1. 1. 1. 1. 1. 0.]\n",
      " [0. 0. 0. 1. 0. 0. 1. 0. 0. 0.]\n",
      " [0. 0. 0. 1. 1. 1. 1. 0. 0. 0.]\n",
      " [0. 0. 0. 0. 0. 0. 0. 0. 0. 0.]]\n"
     ]
    },
    {
     "data": {
      "text/plain": "<matplotlib.image.AxesImage at 0x2715008acd0>"
     },
     "execution_count": 78,
     "metadata": {},
     "output_type": "execute_result"
    },
    {
     "data": {
      "text/plain": "<Figure size 640x480 with 1 Axes>",
      "image/png": "[encoded data removed]"
     },
     "metadata": {},
     "output_type": "display_data"
    }
   ],
   "source": [
    "#matrix = generate_geometry(10, 2, 0.75, 1)\n",
    "matrix = np.array([\n",
    "    [0., 0., 0., 0., 0., 0., 0., 0., 0., 0.],\n",
    "    [0., 0., 0., 1., 1., 1., 1., 0., 0., 0.],\n",
    "    [0., 0., 0., 1., 0., 0., 1., 0., 0., 0.],\n",
    "    [0., 1., 1., 1., 1., 1., 1., 1., 1., 0.],\n",
    "    [0., 1., 0., 1., 0., 0., 1., 0., 1., 0.],\n",
    "    [0., 1., 0., 1., 0., 0., 1., 0., 1., 0.],\n",
    "    [0., 1., 1., 1., 1., 1., 1., 1., 1., 0.],\n",
    "    [0., 0., 0., 1., 0., 0., 1., 0., 0., 0.],\n",
    "    [0., 0., 0., 1., 1., 1., 1., 0., 0., 0.],\n",
    "    [0., 0., 0., 0., 0., 0., 0., 0., 0., 0.],\n",
    "])\n",
    "print(matrix)\n",
    "#plt.imshow(matrix, cmap='gray_r')\n",
    "scale = 6\n",
    "scaled_matrix = np.repeat(np.repeat(matrix, scale, axis=0), scale, axis=1)\n",
    "plt.imshow(scaled_matrix, cmap='gray_r')"
   ],
   "metadata": {
    "collapsed": false,
    "ExecuteTime": {
     "end_time": "2023-07-14T21:59:43.956684900Z",
     "start_time": "2023-07-14T21:59:43.755094Z"
    }
   }
  },
  {
   "cell_type": "code",
   "execution_count": 79,
   "outputs": [
    {
     "name": "stdout",
     "output_type": "stream",
     "text": [
      "[(6, 18), (6, 19), (6, 20), (6, 21), (6, 22), (6, 23), (6, 24), (6, 25), (6, 26), (6, 27), (6, 28), (6, 29), (6, 30), (6, 31), (6, 32), (6, 33), (6, 34), (6, 35), (6, 36), (6, 37), (6, 38), (6, 39), (6, 40), (6, 41), (7, 18), (7, 41), (8, 18), (8, 41), (9, 18), (9, 41), (10, 18), (10, 41), (11, 18), (11, 24), (11, 25), (11, 26), (11, 27), (11, 28), (11, 29), (11, 30), (11, 31), (11, 32), (11, 33), (11, 34), (11, 35), (11, 41), (12, 18), (12, 23), (12, 36), (12, 41), (13, 18), (13, 23), (13, 36), (13, 41), (14, 18), (14, 23), (14, 36), (14, 41), (15, 18), (15, 23), (15, 36), (15, 41), (16, 18), (16, 23), (16, 36), (16, 41), (17, 18), (17, 23), (17, 36), (17, 41), (18, 6), (18, 7), (18, 8), (18, 9), (18, 10), (18, 11), (18, 12), (18, 13), (18, 14), (18, 15), (18, 16), (18, 17), (18, 24), (18, 25), (18, 26), (18, 27), (18, 28), (18, 29), (18, 30), (18, 31), (18, 32), (18, 33), (18, 34), (18, 35), (18, 42), (18, 43), (18, 44), (18, 45), (18, 46), (18, 47), (18, 48), (18, 49), (18, 50), (18, 51), (18, 52), (18, 53), (19, 6), (19, 53), (20, 6), (20, 53), (21, 6), (21, 53), (22, 6), (22, 53), (23, 6), (23, 12), (23, 13), (23, 14), (23, 15), (23, 16), (23, 17), (23, 24), (23, 25), (23, 26), (23, 27), (23, 28), (23, 29), (23, 30), (23, 31), (23, 32), (23, 33), (23, 34), (23, 35), (23, 42), (23, 43), (23, 44), (23, 45), (23, 46), (23, 47), (23, 53), (24, 6), (24, 11), (24, 18), (24, 23), (24, 36), (24, 41), (24, 48), (24, 53), (25, 6), (25, 11), (25, 18), (25, 23), (25, 36), (25, 41), (25, 48), (25, 53), (26, 6), (26, 11), (26, 18), (26, 23), (26, 36), (26, 41), (26, 48), (26, 53), (27, 6), (27, 11), (27, 18), (27, 23), (27, 36), (27, 41), (27, 48), (27, 53), (28, 6), (28, 11), (28, 18), (28, 23), (28, 36), (28, 41), (28, 48), (28, 53), (29, 6), (29, 11), (29, 18), (29, 23), (29, 36), (29, 41), (29, 48), (29, 53), (30, 6), (30, 11), (30, 18), (30, 23), (30, 36), (30, 41), (30, 48), (30, 53), (31, 6), (31, 11), (31, 18), (31, 23), (31, 36), (31, 41), (31, 48), (31, 53), (32, 6), (32, 11), (32, 18), (32, 23), (32, 36), (32, 41), (32, 48), (32, 53), (33, 6), (33, 11), (33, 18), (33, 23), (33, 36), (33, 41), (33, 48), (33, 53), (34, 6), (34, 11), (34, 18), (34, 23), (34, 36), (34, 41), (34, 48), (34, 53), (35, 6), (35, 11), (35, 18), (35, 23), (35, 36), (35, 41), (35, 48), (35, 53), (36, 6), (36, 12), (36, 13), (36, 14), (36, 15), (36, 16), (36, 17), (36, 24), (36, 25), (36, 26), (36, 27), (36, 28), (36, 29), (36, 30), (36, 31), (36, 32), (36, 33), (36, 34), (36, 35), (36, 42), (36, 43), (36, 44), (36, 45), (36, 46), (36, 47), (36, 53), (37, 6), (37, 53), (38, 6), (38, 53), (39, 6), (39, 53), (40, 6), (40, 53), (41, 6), (41, 7), (41, 8), (41, 9), (41, 10), (41, 11), (41, 12), (41, 13), (41, 14), (41, 15), (41, 16), (41, 17), (41, 24), (41, 25), (41, 26), (41, 27), (41, 28), (41, 29), (41, 30), (41, 31), (41, 32), (41, 33), (41, 34), (41, 35), (41, 42), (41, 43), (41, 44), (41, 45), (41, 46), (41, 47), (41, 48), (41, 49), (41, 50), (41, 51), (41, 52), (41, 53), (42, 18), (42, 23), (42, 36), (42, 41), (43, 18), (43, 23), (43, 36), (43, 41), (44, 18), (44, 23), (44, 36), (44, 41), (45, 18), (45, 23), (45, 36), (45, 41), (46, 18), (46, 23), (46, 36), (46, 41), (47, 18), (47, 23), (47, 36), (47, 41), (48, 18), (48, 24), (48, 25), (48, 26), (48, 27), (48, 28), (48, 29), (48, 30), (48, 31), (48, 32), (48, 33), (48, 34), (48, 35), (48, 41), (49, 18), (49, 41), (50, 18), (50, 41), (51, 18), (51, 41), (52, 18), (52, 41), (53, 18), (53, 19), (53, 20), (53, 21), (53, 22), (53, 23), (53, 24), (53, 25), (53, 26), (53, 27), (53, 28), (53, 29), (53, 30), (53, 31), (53, 32), (53, 33), (53, 34), (53, 35), (53, 36), (53, 37), (53, 38), (53, 39), (53, 40), (53, 41)]\n"
     ]
    },
    {
     "data": {
      "text/plain": "<Figure size 1000x500 with 2 Axes>",
      "image/png": "[encoded data removed]"
     },
     "metadata": {},
     "output_type": "display_data"
    }
   ],
   "source": [
    "print(find_edge_pixels(scaled_matrix))\n",
    "edge_matrix = get_edge_pixels_matrix(scaled_matrix, count_corners=False, count_both_mat=False)\n",
    "edge_matrix_both_mat = get_edge_pixels_matrix(scaled_matrix, count_corners=False, count_both_mat=True)\n",
    "#visualize_matrices(scaled_matrix, edge_matrix)\n",
    "visualize_matrices(edge_matrix, edge_matrix_both_mat)"
   ],
   "metadata": {
    "collapsed": false
   }
  },
  {
   "cell_type": "code",
   "execution_count": 80,
   "outputs": [
    {
     "name": "stdout",
     "output_type": "stream",
     "text": [
      "1296 1291\n"
     ]
    },
    {
     "data": {
      "text/plain": "<Figure size 1000x500 with 2 Axes>",
      "image/png": "[encoded data removed]"
     },
     "metadata": {},
     "output_type": "display_data"
    }
   ],
   "source": [
    "# Flip the edge pixels with a 50% chance\n",
    "error_matrix = flip_edge_pixels(scaled_matrix,\n",
    "                                flip_chance=.02,\n",
    "                                count_corners=False,\n",
    "                                count_both_mat=True,\n",
    "                                seed=0)\n",
    "\n",
    "# Display the original and flipped images side by side\n",
    "visualize_matrices(scaled_matrix, error_matrix)\n",
    "print(np.sum(scaled_matrix==1), np.sum(error_matrix==1))"
   ],
   "metadata": {
    "collapsed": false
   }
  },
  {
   "cell_type": "code",
   "execution_count": 81,
   "outputs": [
    {
     "name": "stdout",
     "output_type": "stream",
     "text": [
      "(100, 60, 60)\n",
      "<class 'numpy.ndarray'>\n"
     ]
    }
   ],
   "source": [
    "# Generate 100 matrices\n",
    "matrices = generate_mutations(\n",
    "    #image=matrix,\n",
    "    image=scaled_matrix,\n",
    "    n=100,\n",
    "    size=10,\n",
    "    symmetry=2,\n",
    "    volume_fraction=0.5,\n",
    "    flip_chance=0.05,\n",
    "    count_corners=False,\n",
    "    count_both_mat=True,\n",
    "    seed=None\n",
    ")\n",
    "\n",
    "# Convert the list of matrices to a 3D numpy array\n",
    "matrices_array = np.array(matrices)\n",
    "print(matrices_array.shape)\n",
    "print(type(matrices_array[0][0]))\n",
    "# Export the array to a MATLAB .mat file\n",
    "sio.savemat('error_geometries_60px_5%.mat', {'error_geometries': matrices_array})"
   ],
   "metadata": {
    "collapsed": false
   }
  },
  {
   "cell_type": "code",
   "execution_count": 82,
   "outputs": [
    {
     "data": {
      "text/plain": "<Figure size 640x480 with 9 Axes>",
      "image/png": "[encoded data removed]"
     },
     "metadata": {},
     "output_type": "display_data"
    }
   ],
   "source": [
    "fig, axs = plt.subplots(3, 3)\n",
    "\n",
    "# Plot the original image in the center\n",
    "axs[1, 1].imshow(matrices_array[0], cmap='gray')\n",
    "#axs[1, 1].set_title(\"Original\")\n",
    "\n",
    "# Remove axis for the original image\n",
    "axs[1, 1].axis('off')\n",
    "\n",
    "# Get 8 random samples from the matrices\n",
    "samples = random.sample(list(matrices_array), 8)\n",
    "\n",
    "# Loop over the subplots and add the images\n",
    "for i, ax in enumerate(axs.flat):\n",
    "    # Skip the center subplot\n",
    "    if i != 4:\n",
    "        # Adjust the index for samples when i is greater than or equal to 4\n",
    "        sample_index = i if i < 4 else i - 1\n",
    "\n",
    "        # Display the image\n",
    "        ax.imshow(samples[sample_index], cmap='gray')\n",
    "\n",
    "        # Remove the axes\n",
    "        ax.axis('off')\n",
    "\n",
    "# Show the plot\n",
    "plt.show()"
   ],
   "metadata": {
    "collapsed": false
   }
  },
  {
   "cell_type": "code",
   "execution_count": 11,
   "outputs": [
    {
     "name": "stderr",
     "output_type": "stream",
     "text": [
      "C:\\Users\\zhang\\AppData\\Roaming\\Python\\Python39\\site-packages\\scipy\\io\\matlab\\_mio5.py:493: VisibleDeprecationWarning: Creating an ndarray from ragged nested sequences (which is a list-or-tuple of lists-or-tuples-or ndarrays with different lengths or shapes) is deprecated. If you meant to do this, you must specify 'dtype=object' when creating the ndarray.\n",
      "  narr = np.asanyarray(source)\n"
     ]
    }
   ],
   "source": [
    "# Initialize an empty list to store the scaled matrices\n",
    "scaled_matrices = []\n",
    "\n",
    "# Generate scaled matrices for scaling factors from 1 to 10\n",
    "for scale_factor in range(1, 11):\n",
    "    # Scale the matrix\n",
    "    scaled_matrix = np.repeat(np.repeat(matrix, scale_factor, axis=0), scale_factor, axis=1)\n",
    "\n",
    "    # Add the scaled matrix to the list\n",
    "    scaled_matrices.append(scaled_matrix)\n",
    "\n",
    "# Save the list of scaled matrices to a .mat file\n",
    "sio.savemat('scaled_matrices.mat', {'scaled_matrices': scaled_matrices})"
   ],
   "metadata": {
    "collapsed": false,
    "ExecuteTime": {
     "end_time": "2023-07-14T22:20:18.064280900Z",
     "start_time": "2023-07-14T22:20:18.013761500Z"
    }
   }
  },
  {
   "cell_type": "code",
   "execution_count": 11,
   "outputs": [],
   "source": [],
   "metadata": {
    "collapsed": false
   }
  }
 ],
 "metadata": {
  "kernelspec": {
   "display_name": "Python 3",
   "language": "python",
   "name": "python3"
  },
  "language_info": {
   "codemirror_mode": {
    "name": "ipython",
    "version": 2
   },
   "file_extension": ".py",
   "mimetype": "text/x-python",
   "name": "python",
   "nbconvert_exporter": "python",
   "pygments_lexer": "ipython2",
   "version": "2.7.6"
  }
 },
 "nbformat": 4,
 "nbformat_minor": 0
}
